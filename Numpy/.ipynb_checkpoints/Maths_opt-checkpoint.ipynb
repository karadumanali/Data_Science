{
 "cells": [
  {
   "cell_type": "code",
   "execution_count": 1,
   "id": "0ff322ac-5095-445d-b149-d2dd581970a4",
   "metadata": {},
   "outputs": [],
   "source": [
    "import numpy as np"
   ]
  },
  {
   "cell_type": "code",
   "execution_count": 5,
   "id": "6513293f-c5a6-4b67-86c2-fbee1ee0a75d",
   "metadata": {},
   "outputs": [
    {
     "name": "stdout",
     "output_type": "stream",
     "text": [
      "[22 39 12 47 41 46 15 39]\n"
     ]
    }
   ],
   "source": [
    "n_ar=np.random.randint(0,50,8) #diyerek 0-50 arası 8 elemanlik array olussun\n",
    "print(n_ar)"
   ]
  },
  {
   "cell_type": "code",
   "execution_count": 8,
   "id": "b48ab5dd-88ae-4c6e-b28b-c76b0fba223e",
   "metadata": {},
   "outputs": [
    {
     "name": "stdout",
     "output_type": "stream",
     "text": [
      "[ True  True False  True  True  True False  True]\n",
      "[22 39 47 41 46 39]\n"
     ]
    }
   ],
   "source": [
    "print(n_ar>15) #dersek array'daki 15'den buyuk olanlari True olmayanlari False dicektir\n",
    "print(n_ar[n_ar>15]) #dersek 15'den buyuk olanlari yazacaktir bu sefer. Tabi < isaretini de kullanabiliriz"
   ]
  },
  {
   "cell_type": "markdown",
   "id": "f31a2096-1e53-4d64-9788-781d4cf1ac11",
   "metadata": {},
   "source": [
    "## Transpose & Reshape"
   ]
  },
  {
   "cell_type": "code",
   "execution_count": 9,
   "id": "07c8d97c-d455-4000-a0c3-213d3731f0d4",
   "metadata": {},
   "outputs": [
    {
     "name": "stdout",
     "output_type": "stream",
     "text": [
      "[[1 3 5]\n",
      " [2 4 6]]\n"
     ]
    }
   ],
   "source": [
    "arr=np.array([[1,2],[3,4],[5,6]]) #seklinde (3,2)'lik array'imiz olsun.\n",
    "print(arr.transpose()) #diyerek (2,3)' luk array haline getirebiliyoruz. Column'dakiler row,,rrow'dakiler column oluyor"
   ]
  },
  {
   "cell_type": "code",
   "execution_count": 14,
   "id": "5cf0b7e7-fab4-4c1d-a597-0afb3d114ad8",
   "metadata": {},
   "outputs": [],
   "source": [
    "r_ar=np.random.random((12,1)) #seklinde array olsun. "
   ]
  },
  {
   "cell_type": "code",
   "execution_count": 15,
   "id": "8fec44be-2f0c-4503-b1d5-4ab844f0dafd",
   "metadata": {},
   "outputs": [
    {
     "name": "stdout",
     "output_type": "stream",
     "text": [
      "[[0.76342474]\n",
      " [0.78098416]\n",
      " [0.11995026]\n",
      " [0.97504403]\n",
      " [0.26505008]\n",
      " [0.41598872]\n",
      " [0.06354851]\n",
      " [0.26821685]\n",
      " [0.52912206]\n",
      " [0.34745483]\n",
      " [0.79873577]\n",
      " [0.28326818]] \n",
      "\n",
      "\n",
      "[[0.76342474 0.78098416 0.11995026]\n",
      " [0.97504403 0.26505008 0.41598872]\n",
      " [0.06354851 0.26821685 0.52912206]\n",
      " [0.34745483 0.79873577 0.28326818]] \n",
      "\n",
      " [[0.76342474 0.78098416]\n",
      " [0.11995026 0.97504403]\n",
      " [0.26505008 0.41598872]\n",
      " [0.06354851 0.26821685]\n",
      " [0.52912206 0.34745483]\n",
      " [0.79873577 0.28326818]]\n"
     ]
    }
   ],
   "source": [
    "print(r_ar,\"\\n\\n\")\n",
    "print(r_ar.reshape(4,3),\"\\n\\n\",r_ar.reshape(6,2)) #reshape ederek sayilar degismeden istedigimz shape vereviliriz .\n",
    "#tabi icerdeki rakamlara bakacak olusan carpimi 12*1 e esit bunu goz ardi etmemek gerekiyor buna gore isteklerimiz degisebiir"
   ]
  },
  {
   "cell_type": "markdown",
   "id": "137bdafd-24c0-4b76-b3a1-7b4e602fb5e0",
   "metadata": {},
   "source": [
    "## z-score"
   ]
  },
  {
   "cell_type": "code",
   "execution_count": 19,
   "id": "9e2e2996-6ac3-46a0-a5dc-18601bb43921",
   "metadata": {},
   "outputs": [
    {
     "name": "stdout",
     "output_type": "stream",
     "text": [
      "19.857142857142858 \n",
      " 22.787393578960472 \n",
      " [-0.73975739 -0.69587348 -0.56422174 -0.60810565 -0.52033783  1.32278652\n",
      "  1.80550957] \n",
      "\n",
      "\n",
      "[50 61] \n",
      "\n"
     ]
    }
   ],
   "source": [
    "veri=np.array([3,4,7,6,8,50,61]) #seklinde icerisinde 'outlier' (50,61) bulunduran array'imiz olsun\n",
    "\n",
    "ort=np.mean(veri) #diyerek ortalamasini hesaplayabilriiz\n",
    "st_sapma=np.std(veri) #diyerek standart sapma'yi bulabiliriz\n",
    "z_scor=(veri-ort)/st_sapma #diyerek veri'deki her bir elemanin z-score'sini bulabilriz\n",
    "print(ort,\"\\n\",st_sapma,\"\\n\",z_scor,\"\\n\\n\")\n",
    "\n",
    "print(veri[z_scor>1],\"\\n\")#diyerek outlier'leri bulabiliriz"
   ]
  },
  {
   "cell_type": "markdown",
   "id": "85be5ea3-38bb-4c81-979a-e031325250d5",
   "metadata": {},
   "source": [
    "## math equations"
   ]
  },
  {
   "cell_type": "markdown",
   "id": "9efc1ee6-e7de-4c64-986b-0b6d1934a663",
   "metadata": {},
   "source": [
    "##### elimizde __3x + 4y = 50__ ve __2x+5y=45__ iki denklemimz olsun. bunu numpy ile cozebiliriz "
   ]
  },
  {
   "cell_type": "code",
   "execution_count": 22,
   "id": "1292bc81-1670-45d4-bea3-8feb252ac39e",
   "metadata": {},
   "outputs": [
    {
     "name": "stdout",
     "output_type": "stream",
     "text": [
      "[10.  5.]\n"
     ]
    }
   ],
   "source": [
    "katsayilar=np.array([[3,4],[2,5]])\n",
    "sabit_sayilar=np.array([50,45]) #seklinde olsun\n",
    "\n",
    "cozum=np.linalg.solve(katsayilar,sabit_sayilar) #linalg \"linner algebria'dan\" gelir ve bize denklemi cozer\n",
    "print(cozum)\n"
   ]
  },
  {
   "cell_type": "code",
   "execution_count": null,
   "id": "ae383b58-e965-4100-a1de-dc72129ae78f",
   "metadata": {},
   "outputs": [],
   "source": []
  }
 ],
 "metadata": {
  "kernelspec": {
   "display_name": "Python [conda env:base] *",
   "language": "python",
   "name": "conda-base-py"
  },
  "language_info": {
   "codemirror_mode": {
    "name": "ipython",
    "version": 3
   },
   "file_extension": ".py",
   "mimetype": "text/x-python",
   "name": "python",
   "nbconvert_exporter": "python",
   "pygments_lexer": "ipython3",
   "version": "3.13.5"
  }
 },
 "nbformat": 4,
 "nbformat_minor": 5
}
