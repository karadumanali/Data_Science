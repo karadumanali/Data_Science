{
 "cells": [
  {
   "cell_type": "code",
   "execution_count": 2,
   "id": "9a11fcdd-b411-4a12-8665-fef2286a7250",
   "metadata": {},
   "outputs": [],
   "source": [
    "import numpy as np"
   ]
  },
  {
   "cell_type": "markdown",
   "id": "92faeac4-479d-4de8-9fed-dd4ae9c3f1c7",
   "metadata": {},
   "source": [
    "##### aslinda biz list kullanarak da matrix yapabiliyoruz. liste1=[[1,2,3],[4,5,6]] diye 2 satir 3 sutunu olan bir matrix<br> Burda onemli olan __row*column__. Her matrix'te matrix'i incelerken bu siraya gore bakilmali."
   ]
  },
  {
   "cell_type": "code",
   "execution_count": 3,
   "id": "0971e860-d3db-4453-b2a6-4381dc8a3c5d",
   "metadata": {},
   "outputs": [
    {
     "name": "stdout",
     "output_type": "stream",
     "text": [
      "[[1 2 3]\n",
      " [4 5 6]\n",
      " [7 8 9]] \n",
      "\n",
      "5 \n",
      "\n",
      "45 \n",
      "\n",
      "[[1. 1. 1. 1.]\n",
      " [1. 1. 1. 1.]\n",
      " [1. 1. 1. 1.]] \n",
      "\n",
      "[[0.28806905 0.34677658 0.0659452  0.25199965]\n",
      " [0.69928138 0.05903584 0.67602032 0.08230771]]\n"
     ]
    }
   ],
   "source": [
    "np_matrix=np.array([[1,2,3],[4,5,6],[7,8,9]])# diyerek 3 row 3 column'u olan bir matirx olusturduk\n",
    "print(np_matrix,\"\\n\")\n",
    "\n",
    "print(np_matrix[1][1],\"\\n\") #diyerek normal index mantiğinin oldugunu gormus oluruz\n",
    "\n",
    "print(np_matrix.sum(),\"\\n\") #burda da butun elemanlarini toplariz. Bu ve bunun gibi bircok ozellik de barindirir icerisinde\n",
    "\n",
    "#row*column ozeeligine her yerde dikkat ve onem vermeliyiz\n",
    "print(np.ones((3,4)),\"\\n\") #diyerek 3 row 4 column'lu 1'lerden olusan matrix yapabiliriz.\n",
    "print(np.random.random((2,4))) #goruldugu gibi bu ve bunun gibi ozellikler de mevcuttur."
   ]
  },
  {
   "cell_type": "markdown",
   "id": "cf331aa8-7214-482c-a896-d65d3ab7e43f",
   "metadata": {},
   "source": [
    "## Matrix Arithmetic"
   ]
  },
  {
   "cell_type": "code",
   "execution_count": 4,
   "id": "c4d598c8-9dd7-4653-b289-b8d94c9e982d",
   "metadata": {},
   "outputs": [
    {
     "name": "stdout",
     "output_type": "stream",
     "text": [
      "[[ 60  80]\n",
      " [100 120]] \n",
      "\n"
     ]
    }
   ],
   "source": [
    "arr1=np.array([[10,20],[30,40]])\n",
    "arr2=np.array([[50,60],[70,80]])#diyerek iki tane (2,2) matrix olusturalim\n",
    "print(arr1+arr2,\"\\n\") #bunlari tabiki toplayabiliriz"
   ]
  },
  {
   "cell_type": "markdown",
   "id": "f94cd04d-03d2-4414-b99c-5affc043fec0",
   "metadata": {},
   "source": [
    "##### toplama ve cikarma islemlerinde matrix'ler arasinda __shape__ uyumlulugu olmasi gerekiyor."
   ]
  },
  {
   "cell_type": "code",
   "execution_count": 5,
   "id": "148a305f-f1c4-412c-8e74-745ac769fd49",
   "metadata": {},
   "outputs": [
    {
     "name": "stdout",
     "output_type": "stream",
     "text": [
      "[[100 120]\n",
      " [120 140]] \n",
      "\n"
     ]
    }
   ],
   "source": [
    "arr3=np.array([[90,100]]) #seklinde (1,2)'lik bir matrix olsun.\n",
    "print(arr3+arr1,\"\\n\") #denersek [90,100]'u indexlere karsilikli gelcek sekilde butun satirlara toplicaktir"
   ]
  },
  {
   "cell_type": "markdown",
   "id": "252d97a9-2202-403e-bef6-002b76b30dd9",
   "metadata": {},
   "source": [
    "##### Fakat arr4=[[1,2,3,4]] gibi bisi olsa ve __arr1+arr4__ dersek tabi ki de olmayacaktir."
   ]
  },
  {
   "cell_type": "code",
   "execution_count": 6,
   "id": "ccd9f908-e8df-4ae5-b1d8-b4ce7fa4651f",
   "metadata": {},
   "outputs": [
    {
     "name": "stdout",
     "output_type": "stream",
     "text": [
      "[[120 130]\n",
      " [150 160]] \n",
      "\n"
     ]
    }
   ],
   "source": [
    "arr4=np.array([[110],[120]]) #seklinde (2,1) lik bir matrix olsun\n",
    "print(arr4+arr1,\"\\n\") #dersek bunu da column mantiginda toplicaktir.(aklindan resmini hayal edebilirsin:>)"
   ]
  },
  {
   "cell_type": "markdown",
   "id": "886ac8d8-05eb-4c92-8182-e4064ae84244",
   "metadata": {},
   "source": [
    "## Matrix Multipication\n"
   ]
  },
  {
   "cell_type": "markdown",
   "id": "946577a1-2b70-474d-8bc2-aadbedc23860",
   "metadata": {},
   "source": [
    "##### simdi normalde biz iki tane array'i birbiriyle carpabiliriz ama bu normal index'e gore yani beklenen carpimdir.<br> Fakat is matrix carpimina gelince degisir.<br> Matrix'lerde __dot produc__ vardır."
   ]
  },
  {
   "cell_type": "markdown",
   "id": "47d58b19-51e9-4c7f-9a88-b3f019f0f7cd",
   "metadata": {},
   "source": [
    "##### iki tane matrix'e __dot porduct__ islemini uygulamak icin belli basli sartlar vardır<br>1-ilk matris'in __column sayisi__ ile ikinci matrix'in __row__ sayisi birbirine esit olmalidir.<br> 2-Sonucun row degeri ise ilk matrix'in row sayisi, column degeri ise ikinci matrix'in column sayisidir.<br><br><br>Yani ornek olarak ilk_matris:(x,y) lik olsun. ikinci_matris:(y,z) olsun. sonuc:(x,z) olur.<br>Peki bunlar nasıl carpilir?<br>Elimizde ar1=[[10,20],[30,40],[50,60]]-->(3,2) ve ar2=[[2,3,4,5],[1,2,3,4]]-->(2,4) matrixlerimiz olsun<br>sonucumuz (3,4) seklinde olacak.<br> ilk olarak ar1[0][0] ile ar2[0][0] ve ar1[0][1] ile ar2[1][0] carpilir ve toplanir-->10*2 + 20*1 =40 bu deger sonuc[0][0] ' esittir. <br> sonra ise ayni ar1[0][0] ile ar2[0][1] ve ar1[0][1] ile ar2[1][1] carpilir ve toplanir-->10*3 + 20*2=70 bu deger sonuc[0][1]'dir.<br>aynı ar1[0] daki elemanlari devam edecek sekilde carparak sonuc[0]'i olusturuyoruz. ar1[1]'de de benzer islemleri yaparak sonuc[1] i olustururuz. carpim bu mantiktadir"
   ]
  },
  {
   "cell_type": "code",
   "execution_count": 8,
   "id": "3baa66d9-cec8-4fdf-b695-07f13c1cf2b3",
   "metadata": {},
   "outputs": [
    {
     "name": "stdout",
     "output_type": "stream",
     "text": [
      "[[ 40  70 100 130]\n",
      " [100 170 240 310]\n",
      " [160 270 380 490]]\n"
     ]
    }
   ],
   "source": [
    "ar1=np.array([[10,20],[30,40],[50,60]])\n",
    "ar2=np.array([[2,3,4,5],[1,2,3,4]])\n",
    "sonuc=ar1.dot(ar2)#bu fonksiyonu kullanarak numpy'da kolayca carpabiliyoruz\n",
    "print(sonuc)"
   ]
  },
  {
   "cell_type": "code",
   "execution_count": null,
   "id": "8bcee8d9-09e8-449c-a71a-ce3fde38c0ae",
   "metadata": {},
   "outputs": [],
   "source": []
  }
 ],
 "metadata": {
  "kernelspec": {
   "display_name": "Python [conda env:base] *",
   "language": "python",
   "name": "conda-base-py"
  },
  "language_info": {
   "codemirror_mode": {
    "name": "ipython",
    "version": 3
   },
   "file_extension": ".py",
   "mimetype": "text/x-python",
   "name": "python",
   "nbconvert_exporter": "python",
   "pygments_lexer": "ipython3",
   "version": "3.13.5"
  }
 },
 "nbformat": 4,
 "nbformat_minor": 5
}
