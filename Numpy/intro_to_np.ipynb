{
 "cells": [
  {
   "cell_type": "code",
   "execution_count": 18,
   "id": "908f3bb1-0757-47c8-b7d0-df7562f292c7",
   "metadata": {},
   "outputs": [],
   "source": [
    "import numpy as np #diyerek 'import' etmemiz yani cagirmamiz gerekiyor. eger yuklu degilse\"!pip install numpy\"\n"
   ]
  },
  {
   "cell_type": "code",
   "execution_count": 19,
   "id": "105fce50-170a-464f-8f33-f473b643bfd8",
   "metadata": {},
   "outputs": [
    {
     "name": "stdout",
     "output_type": "stream",
     "text": [
      "<class 'numpy.ndarray'>\n",
      "5\n",
      "[1. 1. 1. 1. 1.]\n"
     ]
    }
   ],
   "source": [
    "list1=[1,2,3,4,5] #normal bir list\n",
    "np_array_list = np.array(list1) #diyerek list1'in array tipini np_array_list' e esitlemis olduk\n",
    "\n",
    "print(type(np_array_list))# dersek bize numpy.ndarray ciktisini vercektir\n",
    "\n",
    "# np_array_list. dersek karsimiza arrat icin kullanabilecegimiz cok fazla fonk cikacaktir. Normal bir diziye gore cok fazla\n",
    "print(np_array_list.max()) # dersek bize max elemani verecektir\n",
    "\n",
    "print(np.ones(5)) # dersek bize 5 elemanli elemanlarin hepsi 1 olan bir array oluşturacaktir. np.zeros-->0'lardan. ..np.random.random-->0-1 arasi random sayi\n",
    "\n"
   ]
  },
  {
   "cell_type": "markdown",
   "id": "ffd14827-e121-4ac9-8331-6f4368b04856",
   "metadata": {},
   "source": [
    "## Array Arithmetic\n"
   ]
  },
  {
   "cell_type": "markdown",
   "id": "237afedf-79b0-496a-b58a-fd45f8cfd17c",
   "metadata": {},
   "source": [
    "##### l1=[1,2], l2=[3,4] diye iki liste var. eger l1+l2 yaparsak sonuc: [1,2,3,4] seklinde olacaktir yani yan yana koyar.Ama arrayda durum farklidir."
   ]
  },
  {
   "cell_type": "code",
   "execution_count": 20,
   "id": "64235224-aa33-4afa-a11d-3d71448c9bf4",
   "metadata": {},
   "outputs": [],
   "source": [
    "l1=[1,2]\n",
    "l2=[3,4]\n",
    "array1=np.array(l1)\n",
    "array2=np.array(l2)#olsun\n"
   ]
  },
  {
   "cell_type": "markdown",
   "id": "b7fd221b-e5b8-40e8-8cc2-f87af0028248",
   "metadata": {},
   "source": [
    "##### array1 + array2 yapilirsa sonuc: [4,6] olacak. indextekileri birbiriyle toplayacaktir. Sadece + degil -,*,/ islemeleri de yapabiliriz\n",
    "##### <bw>Fakat bu islemleri yaparken birinin index sayisi farkli olursa bize __\"operands couldn't be broadcast together with shapes\"__ hatasi verecektir."
   ]
  },
  {
   "cell_type": "markdown",
   "id": "8b82132d-9aae-42b6-acdf-39e748e6dc5b",
   "metadata": {},
   "source": [
    "## Indexing & Arange"
   ]
  },
  {
   "cell_type": "markdown",
   "id": "82153b12-909d-48de-9064-c9477fc5052c",
   "metadata": {},
   "source": [
    "##### normalde list'lerde list(range(1,5)) dersek bize [1,2,3,4] seklinde bir list verecek. <bw> Ayni mantik array icin de var. "
   ]
  },
  {
   "cell_type": "code",
   "execution_count": 21,
   "id": "015e6c41-be74-4141-ab58-b39f291b901f",
   "metadata": {},
   "outputs": [
    {
     "name": "stdout",
     "output_type": "stream",
     "text": [
      "[0 1 2 3 4]\n",
      "[1 4 7]\n",
      "1\n",
      "9\n",
      "[2 3 4] [9 8 7 6 5 4 3 2 1]\n"
     ]
    }
   ],
   "source": [
    "print(np.arange(0,5))# dersek bize [0,1,2,3,4] seklinde array olusturacaktir. \n",
    "print(np.arange(1,10,3))\n",
    "\n",
    "\n",
    "#tabi ki index mantiği da vardir.\n",
    "arr1=np.arange(1,10)\n",
    "print(arr1[0]) #denilince ilk indexi verecektir.\n",
    "print(arr1[-1]) #tahmin edileceği gibi son indexteki elemani verecektir\n",
    "print(arr1[1:4], arr1[::-1]) #slicing islemleri de calisiyor goruldugu uzere\n"
   ]
  },
  {
   "cell_type": "markdown",
   "id": "a204289f-3b18-42cd-8b1d-15216faa1e1c",
   "metadata": {},
   "source": [
    "##### random olaylari da tabi ki vardir"
   ]
  },
  {
   "cell_type": "code",
   "execution_count": 22,
   "id": "089c418c-d101-4306-85bf-26188210f7a9",
   "metadata": {},
   "outputs": [
    {
     "name": "stdout",
     "output_type": "stream",
     "text": [
      "[ 0.64208508  1.9525044  -1.14229955 -0.2847442 ] \n",
      "\n",
      "[[-0.5264895   1.3476072  -0.03353316  1.01527739  1.10210519]\n",
      " [-0.70570515 -0.84053792  1.46641607 -1.02040687  0.04957674]\n",
      " [-1.4773675   0.27759996 -0.05874849 -0.49561823  1.54818095]\n",
      " [ 0.39645949 -0.81479007 -2.40412891  0.21892717  1.17373471]\n",
      " [-0.65597846  0.40543228  0.59718529  0.67796683 -0.93075036]] \n",
      "\n",
      "[10  5 23  2] \n",
      "\n"
     ]
    }
   ],
   "source": [
    "new_arr=np.random.randn(4) #bu olay bize 4 elemanli random sayilardan olusan bir array olusturacaktır\n",
    "print(new_arr,\"\\n\")\n",
    "\n",
    "new_arr2=np.random.randn(5,5) #bu ise 5'e 5'lik random sayilardan olusan matrix vercek.\n",
    "print(new_arr2,\"\\n\")\n",
    "\n",
    "new_arr3=np.random.randint(1,25,4) #bu da 1-25 arasi 4 tane random int'den olusan array verecektir.\n",
    "print(new_arr3,\"\\n\")"
   ]
  },
  {
   "cell_type": "code",
   "execution_count": null,
   "id": "75073399-b10d-4aa2-adc2-95077d330579",
   "metadata": {},
   "outputs": [],
   "source": []
  }
 ],
 "metadata": {
  "kernelspec": {
   "display_name": "Python [conda env:base] *",
   "language": "python",
   "name": "conda-base-py"
  },
  "language_info": {
   "codemirror_mode": {
    "name": "ipython",
    "version": 3
   },
   "file_extension": ".py",
   "mimetype": "text/x-python",
   "name": "python",
   "nbconvert_exporter": "python",
   "pygments_lexer": "ipython3",
   "version": "3.13.5"
  }
 },
 "nbformat": 4,
 "nbformat_minor": 5
}
