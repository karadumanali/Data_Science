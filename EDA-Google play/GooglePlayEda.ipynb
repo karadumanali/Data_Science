{
 "cells": [
  {
   "cell_type": "code",
   "execution_count": 64,
   "id": "9ece3cb5-77a4-41dc-b1a3-1c37fe5780ac",
   "metadata": {},
   "outputs": [],
   "source": [
    "import numpy as np\n",
    "import pandas as pd\n",
    "import seaborn as sns\n",
    "import matplotlib.pyplot as plt\n",
    "%matplotlib inline"
   ]
  },
  {
   "cell_type": "code",
   "execution_count": 65,
   "id": "3a45d7bd-86b9-420b-bdba-ba8707057b21",
   "metadata": {},
   "outputs": [],
   "source": [
    "data_frame=pd.read_csv(\"googleplaystore.csv\")"
   ]
  },
  {
   "cell_type": "code",
   "execution_count": 66,
   "id": "15016fe0-bd75-40fe-a070-2d8a07445650",
   "metadata": {},
   "outputs": [
    {
     "data": {
      "text/html": [
       "<div>\n",
       "<style scoped>\n",
       "    .dataframe tbody tr th:only-of-type {\n",
       "        vertical-align: middle;\n",
       "    }\n",
       "\n",
       "    .dataframe tbody tr th {\n",
       "        vertical-align: top;\n",
       "    }\n",
       "\n",
       "    .dataframe thead th {\n",
       "        text-align: right;\n",
       "    }\n",
       "</style>\n",
       "<table border=\"1\" class=\"dataframe\">\n",
       "  <thead>\n",
       "    <tr style=\"text-align: right;\">\n",
       "      <th></th>\n",
       "      <th>App</th>\n",
       "      <th>Category</th>\n",
       "      <th>Rating</th>\n",
       "      <th>Reviews</th>\n",
       "      <th>Size</th>\n",
       "      <th>Installs</th>\n",
       "      <th>Type</th>\n",
       "      <th>Price</th>\n",
       "      <th>Content Rating</th>\n",
       "      <th>Genres</th>\n",
       "      <th>Last Updated</th>\n",
       "      <th>Current Ver</th>\n",
       "      <th>Android Ver</th>\n",
       "    </tr>\n",
       "  </thead>\n",
       "  <tbody>\n",
       "    <tr>\n",
       "      <th>0</th>\n",
       "      <td>Photo Editor &amp; Candy Camera &amp; Grid &amp; ScrapBook</td>\n",
       "      <td>ART_AND_DESIGN</td>\n",
       "      <td>4.1</td>\n",
       "      <td>159</td>\n",
       "      <td>19M</td>\n",
       "      <td>10,000+</td>\n",
       "      <td>Free</td>\n",
       "      <td>0</td>\n",
       "      <td>Everyone</td>\n",
       "      <td>Art &amp; Design</td>\n",
       "      <td>January 7, 2018</td>\n",
       "      <td>1.0.0</td>\n",
       "      <td>4.0.3 and up</td>\n",
       "    </tr>\n",
       "    <tr>\n",
       "      <th>1</th>\n",
       "      <td>Coloring book moana</td>\n",
       "      <td>ART_AND_DESIGN</td>\n",
       "      <td>3.9</td>\n",
       "      <td>967</td>\n",
       "      <td>14M</td>\n",
       "      <td>500,000+</td>\n",
       "      <td>Free</td>\n",
       "      <td>0</td>\n",
       "      <td>Everyone</td>\n",
       "      <td>Art &amp; Design;Pretend Play</td>\n",
       "      <td>January 15, 2018</td>\n",
       "      <td>2.0.0</td>\n",
       "      <td>4.0.3 and up</td>\n",
       "    </tr>\n",
       "    <tr>\n",
       "      <th>2</th>\n",
       "      <td>U Launcher Lite – FREE Live Cool Themes, Hide ...</td>\n",
       "      <td>ART_AND_DESIGN</td>\n",
       "      <td>4.7</td>\n",
       "      <td>87510</td>\n",
       "      <td>8.7M</td>\n",
       "      <td>5,000,000+</td>\n",
       "      <td>Free</td>\n",
       "      <td>0</td>\n",
       "      <td>Everyone</td>\n",
       "      <td>Art &amp; Design</td>\n",
       "      <td>August 1, 2018</td>\n",
       "      <td>1.2.4</td>\n",
       "      <td>4.0.3 and up</td>\n",
       "    </tr>\n",
       "    <tr>\n",
       "      <th>3</th>\n",
       "      <td>Sketch - Draw &amp; Paint</td>\n",
       "      <td>ART_AND_DESIGN</td>\n",
       "      <td>4.5</td>\n",
       "      <td>215644</td>\n",
       "      <td>25M</td>\n",
       "      <td>50,000,000+</td>\n",
       "      <td>Free</td>\n",
       "      <td>0</td>\n",
       "      <td>Teen</td>\n",
       "      <td>Art &amp; Design</td>\n",
       "      <td>June 8, 2018</td>\n",
       "      <td>Varies with device</td>\n",
       "      <td>4.2 and up</td>\n",
       "    </tr>\n",
       "    <tr>\n",
       "      <th>4</th>\n",
       "      <td>Pixel Draw - Number Art Coloring Book</td>\n",
       "      <td>ART_AND_DESIGN</td>\n",
       "      <td>4.3</td>\n",
       "      <td>967</td>\n",
       "      <td>2.8M</td>\n",
       "      <td>100,000+</td>\n",
       "      <td>Free</td>\n",
       "      <td>0</td>\n",
       "      <td>Everyone</td>\n",
       "      <td>Art &amp; Design;Creativity</td>\n",
       "      <td>June 20, 2018</td>\n",
       "      <td>1.1</td>\n",
       "      <td>4.4 and up</td>\n",
       "    </tr>\n",
       "  </tbody>\n",
       "</table>\n",
       "</div>"
      ],
      "text/plain": [
       "                                                 App        Category  Rating  \\\n",
       "0     Photo Editor & Candy Camera & Grid & ScrapBook  ART_AND_DESIGN     4.1   \n",
       "1                                Coloring book moana  ART_AND_DESIGN     3.9   \n",
       "2  U Launcher Lite – FREE Live Cool Themes, Hide ...  ART_AND_DESIGN     4.7   \n",
       "3                              Sketch - Draw & Paint  ART_AND_DESIGN     4.5   \n",
       "4              Pixel Draw - Number Art Coloring Book  ART_AND_DESIGN     4.3   \n",
       "\n",
       "  Reviews  Size     Installs  Type Price Content Rating  \\\n",
       "0     159   19M      10,000+  Free     0       Everyone   \n",
       "1     967   14M     500,000+  Free     0       Everyone   \n",
       "2   87510  8.7M   5,000,000+  Free     0       Everyone   \n",
       "3  215644   25M  50,000,000+  Free     0           Teen   \n",
       "4     967  2.8M     100,000+  Free     0       Everyone   \n",
       "\n",
       "                      Genres      Last Updated         Current Ver  \\\n",
       "0               Art & Design   January 7, 2018               1.0.0   \n",
       "1  Art & Design;Pretend Play  January 15, 2018               2.0.0   \n",
       "2               Art & Design    August 1, 2018               1.2.4   \n",
       "3               Art & Design      June 8, 2018  Varies with device   \n",
       "4    Art & Design;Creativity     June 20, 2018                 1.1   \n",
       "\n",
       "    Android Ver  \n",
       "0  4.0.3 and up  \n",
       "1  4.0.3 and up  \n",
       "2  4.0.3 and up  \n",
       "3    4.2 and up  \n",
       "4    4.4 and up  "
      ]
     },
     "execution_count": 66,
     "metadata": {},
     "output_type": "execute_result"
    }
   ],
   "source": [
    "data_frame.head()"
   ]
  },
  {
   "cell_type": "code",
   "execution_count": 67,
   "id": "677d2b5a-ffc9-46e6-a8c6-e25024116a67",
   "metadata": {},
   "outputs": [
    {
     "data": {
      "text/plain": [
       "Index(['App', 'Category', 'Rating', 'Reviews', 'Size', 'Installs', 'Type',\n",
       "       'Price', 'Content Rating', 'Genres', 'Last Updated', 'Current Ver',\n",
       "       'Android Ver'],\n",
       "      dtype='object')"
      ]
     },
     "execution_count": 67,
     "metadata": {},
     "output_type": "execute_result"
    }
   ],
   "source": [
    "data_frame.columns"
   ]
  },
  {
   "cell_type": "code",
   "execution_count": 68,
   "id": "211bf2ee-339f-49d6-bc09-72ecd9583e21",
   "metadata": {},
   "outputs": [
    {
     "name": "stdout",
     "output_type": "stream",
     "text": [
      "<class 'pandas.core.frame.DataFrame'>\n",
      "RangeIndex: 10841 entries, 0 to 10840\n",
      "Data columns (total 13 columns):\n",
      " #   Column          Non-Null Count  Dtype  \n",
      "---  ------          --------------  -----  \n",
      " 0   App             10841 non-null  object \n",
      " 1   Category        10841 non-null  object \n",
      " 2   Rating          9367 non-null   float64\n",
      " 3   Reviews         10841 non-null  object \n",
      " 4   Size            10841 non-null  object \n",
      " 5   Installs        10841 non-null  object \n",
      " 6   Type            10840 non-null  object \n",
      " 7   Price           10841 non-null  object \n",
      " 8   Content Rating  10840 non-null  object \n",
      " 9   Genres          10841 non-null  object \n",
      " 10  Last Updated    10841 non-null  object \n",
      " 11  Current Ver     10833 non-null  object \n",
      " 12  Android Ver     10838 non-null  object \n",
      "dtypes: float64(1), object(12)\n",
      "memory usage: 1.1+ MB\n"
     ]
    }
   ],
   "source": [
    "data_frame.info()"
   ]
  },
  {
   "cell_type": "markdown",
   "id": "f3d4d8ec-0efc-4f5d-aea4-9a40b2d75269",
   "metadata": {},
   "source": [
    "#### -goruldugu uzere totalde 10841 row var. birkacinda nan degerler var bazilarinda yok.<br> -data type bakacak olursak sadece 'raiting' float degere sahip geri kalanlar object. ama data frame'de 'reviews', 'size', 'install, 'price' gibi gibi degerlerin cogu float int'e benzemesine ragmen obj"
   ]
  },
  {
   "cell_type": "code",
   "execution_count": 69,
   "id": "b39a662b-bbb6-4e97-b227-96a460d3ce56",
   "metadata": {},
   "outputs": [
    {
     "data": {
      "text/html": [
       "<div>\n",
       "<style scoped>\n",
       "    .dataframe tbody tr th:only-of-type {\n",
       "        vertical-align: middle;\n",
       "    }\n",
       "\n",
       "    .dataframe tbody tr th {\n",
       "        vertical-align: top;\n",
       "    }\n",
       "\n",
       "    .dataframe thead th {\n",
       "        text-align: right;\n",
       "    }\n",
       "</style>\n",
       "<table border=\"1\" class=\"dataframe\">\n",
       "  <thead>\n",
       "    <tr style=\"text-align: right;\">\n",
       "      <th></th>\n",
       "      <th>Rating</th>\n",
       "    </tr>\n",
       "  </thead>\n",
       "  <tbody>\n",
       "    <tr>\n",
       "      <th>count</th>\n",
       "      <td>9367.000000</td>\n",
       "    </tr>\n",
       "    <tr>\n",
       "      <th>mean</th>\n",
       "      <td>4.193338</td>\n",
       "    </tr>\n",
       "    <tr>\n",
       "      <th>std</th>\n",
       "      <td>0.537431</td>\n",
       "    </tr>\n",
       "    <tr>\n",
       "      <th>min</th>\n",
       "      <td>1.000000</td>\n",
       "    </tr>\n",
       "    <tr>\n",
       "      <th>25%</th>\n",
       "      <td>4.000000</td>\n",
       "    </tr>\n",
       "    <tr>\n",
       "      <th>50%</th>\n",
       "      <td>4.300000</td>\n",
       "    </tr>\n",
       "    <tr>\n",
       "      <th>75%</th>\n",
       "      <td>4.500000</td>\n",
       "    </tr>\n",
       "    <tr>\n",
       "      <th>max</th>\n",
       "      <td>19.000000</td>\n",
       "    </tr>\n",
       "  </tbody>\n",
       "</table>\n",
       "</div>"
      ],
      "text/plain": [
       "            Rating\n",
       "count  9367.000000\n",
       "mean      4.193338\n",
       "std       0.537431\n",
       "min       1.000000\n",
       "25%       4.000000\n",
       "50%       4.300000\n",
       "75%       4.500000\n",
       "max      19.000000"
      ]
     },
     "execution_count": 69,
     "metadata": {},
     "output_type": "execute_result"
    }
   ],
   "source": [
    "data_frame.describe() #yapildiginda sadece 'raiting' icin gelecek"
   ]
  },
  {
   "cell_type": "markdown",
   "id": "bd47e689-8250-49fa-ac24-fb6788a73a75",
   "metadata": {},
   "source": [
    "### Missing Data"
   ]
  },
  {
   "cell_type": "code",
   "execution_count": 70,
   "id": "736bf5ab-2efe-4bcd-a1b7-c5fa4efcf366",
   "metadata": {},
   "outputs": [
    {
     "data": {
      "text/plain": [
       "App                  0\n",
       "Category             0\n",
       "Rating            1474\n",
       "Reviews              0\n",
       "Size                 0\n",
       "Installs             0\n",
       "Type                 1\n",
       "Price                0\n",
       "Content Rating       1\n",
       "Genres               0\n",
       "Last Updated         0\n",
       "Current Ver          8\n",
       "Android Ver          3\n",
       "dtype: int64"
      ]
     },
     "execution_count": 70,
     "metadata": {},
     "output_type": "execute_result"
    }
   ],
   "source": [
    "data_frame.isnull().sum() #burda gorulcegi uzere bazilarinda az bazilarinda hic NaN degeri var. 'Raiting' de bayagi var ama"
   ]
  },
  {
   "cell_type": "markdown",
   "id": "ddb62708-9858-4e68-a71b-9bd5ff4cfc40",
   "metadata": {},
   "source": [
    "#### 'Reviews' i int cevirmeye calisalim"
   ]
  },
  {
   "cell_type": "code",
   "execution_count": 71,
   "id": "40a991d5-64c0-4258-be39-924d8a32ac57",
   "metadata": {},
   "outputs": [
    {
     "data": {
      "text/plain": [
       "array(['159', '967', '87510', ..., '603', '1195', '398307'], dtype=object)"
      ]
     },
     "execution_count": 71,
     "metadata": {},
     "output_type": "execute_result"
    }
   ],
   "source": [
    "data_frame['Reviews'].unique() #string ama int'e cevirilebilir"
   ]
  },
  {
   "cell_type": "code",
   "execution_count": 72,
   "id": "6d637067-c6c7-48eb-b654-7a2a5b53fb59",
   "metadata": {},
   "outputs": [
    {
     "name": "stdout",
     "output_type": "stream",
     "text": [
      "0        True\n",
      "1        True\n",
      "2        True\n",
      "3        True\n",
      "4        True\n",
      "         ... \n",
      "10836    True\n",
      "10837    True\n",
      "10838    True\n",
      "10839    True\n",
      "10840    True\n",
      "Name: Reviews, Length: 10841, dtype: bool\n",
      "\n",
      " 10840\n"
     ]
    }
   ],
   "source": [
    "print(data_frame[\"Reviews\"].str.isnumeric()) #bu string'de olsa int'e cevirebildiklerime bakabilirim\n",
    "print(\"\\n\",data_frame[\"Reviews\"].str.isnumeric().sum()) #dersek kac tanesi olabiliyor onu goruruz"
   ]
  },
  {
   "cell_type": "markdown",
   "id": "0d28c011-ef32-44de-bf18-06a40e3dabf5",
   "metadata": {},
   "source": [
    "##### goruldugu uzere 10841 datadan 10840'i cevirilebilirmis. yani arada 1 tanesi cevirilemezmis"
   ]
  },
  {
   "cell_type": "code",
   "execution_count": 73,
   "id": "22ba0edc-c416-4b65-b7aa-5a4078b8f205",
   "metadata": {},
   "outputs": [
    {
     "name": "stdout",
     "output_type": "stream",
     "text": [
      "                                                     App             Category  \\\n",
      "0         Photo Editor & Candy Camera & Grid & ScrapBook       ART_AND_DESIGN   \n",
      "1                                    Coloring book moana       ART_AND_DESIGN   \n",
      "2      U Launcher Lite – FREE Live Cool Themes, Hide ...       ART_AND_DESIGN   \n",
      "3                                  Sketch - Draw & Paint       ART_AND_DESIGN   \n",
      "4                  Pixel Draw - Number Art Coloring Book       ART_AND_DESIGN   \n",
      "...                                                  ...                  ...   \n",
      "10836                                   Sya9a Maroc - FR               FAMILY   \n",
      "10837                   Fr. Mike Schmitz Audio Teachings               FAMILY   \n",
      "10838                             Parkinson Exercices FR              MEDICAL   \n",
      "10839                      The SCP Foundation DB fr nn5n  BOOKS_AND_REFERENCE   \n",
      "10840      iHoroscope - 2018 Daily Horoscope & Astrology            LIFESTYLE   \n",
      "\n",
      "       Rating Reviews                Size     Installs  Type Price  \\\n",
      "0         4.1     159                 19M      10,000+  Free     0   \n",
      "1         3.9     967                 14M     500,000+  Free     0   \n",
      "2         4.7   87510                8.7M   5,000,000+  Free     0   \n",
      "3         4.5  215644                 25M  50,000,000+  Free     0   \n",
      "4         4.3     967                2.8M     100,000+  Free     0   \n",
      "...       ...     ...                 ...          ...   ...   ...   \n",
      "10836     4.5      38                 53M       5,000+  Free     0   \n",
      "10837     5.0       4                3.6M         100+  Free     0   \n",
      "10838     NaN       3                9.5M       1,000+  Free     0   \n",
      "10839     4.5     114  Varies with device       1,000+  Free     0   \n",
      "10840     4.5  398307                 19M  10,000,000+  Free     0   \n",
      "\n",
      "      Content Rating                     Genres      Last Updated  \\\n",
      "0           Everyone               Art & Design   January 7, 2018   \n",
      "1           Everyone  Art & Design;Pretend Play  January 15, 2018   \n",
      "2           Everyone               Art & Design    August 1, 2018   \n",
      "3               Teen               Art & Design      June 8, 2018   \n",
      "4           Everyone    Art & Design;Creativity     June 20, 2018   \n",
      "...              ...                        ...               ...   \n",
      "10836       Everyone                  Education     July 25, 2017   \n",
      "10837       Everyone                  Education      July 6, 2018   \n",
      "10838       Everyone                    Medical  January 20, 2017   \n",
      "10839     Mature 17+          Books & Reference  January 19, 2015   \n",
      "10840       Everyone                  Lifestyle     July 25, 2018   \n",
      "\n",
      "              Current Ver         Android Ver  \n",
      "0                   1.0.0        4.0.3 and up  \n",
      "1                   2.0.0        4.0.3 and up  \n",
      "2                   1.2.4        4.0.3 and up  \n",
      "3      Varies with device          4.2 and up  \n",
      "4                     1.1          4.4 and up  \n",
      "...                   ...                 ...  \n",
      "10836                1.48          4.1 and up  \n",
      "10837                 1.0          4.1 and up  \n",
      "10838                 1.0          2.2 and up  \n",
      "10839  Varies with device  Varies with device  \n",
      "10840  Varies with device  Varies with device  \n",
      "\n",
      "[10840 rows x 13 columns] \n",
      "\n",
      "\n",
      "                                           App Category  Rating Reviews  \\\n",
      "10472  Life Made WI-Fi Touchscreen Photo Frame      1.9    19.0    3.0M   \n",
      "\n",
      "         Size Installs Type     Price Content Rating             Genres  \\\n",
      "10472  1,000+     Free    0  Everyone            NaN  February 11, 2018   \n",
      "\n",
      "      Last Updated Current Ver Android Ver  \n",
      "10472       1.0.19  4.0 and up         NaN  \n"
     ]
    }
   ],
   "source": [
    "print(data_frame[data_frame[\"Reviews\"].str.isnumeric()], \"\\n\\n\") #bize hangileri int olabiliyor onu gosterir\n",
    "\n",
    "print(data_frame[~data_frame[\"Reviews\"].str.isnumeric()])# '~' isreti sayesinde bize olmayan yani cevirilemeyen degeri getirir!!"
   ]
  },
  {
   "cell_type": "markdown",
   "id": "8bae08b6-227b-4476-8fb1-de406138d789",
   "metadata": {},
   "source": [
    "##### baktigimiz uzere ~ isreti sayesinde cevirilemeyen row'u bulduk. 10472. index'de reviews=3.0m yani int'e cevirilemez. bunu silebiliriz"
   ]
  },
  {
   "cell_type": "code",
   "execution_count": 74,
   "id": "d5614bfe-d4c6-45fa-bb21-ddb004527472",
   "metadata": {},
   "outputs": [],
   "source": [
    "data_frame_clean=data_frame.copy()"
   ]
  },
  {
   "cell_type": "code",
   "execution_count": 75,
   "id": "5d39da87-c586-49a8-bfba-e01878ba7b5d",
   "metadata": {},
   "outputs": [],
   "source": [
    "data_frame_clean=data_frame_clean.drop(data_frame_clean.index[10472])"
   ]
  },
  {
   "cell_type": "code",
   "execution_count": 76,
   "id": "dfe41097-0105-46be-942a-e71c473755c3",
   "metadata": {},
   "outputs": [
    {
     "name": "stdout",
     "output_type": "stream",
     "text": [
      "<class 'pandas.core.frame.DataFrame'>\n",
      "Index: 10840 entries, 0 to 10840\n",
      "Data columns (total 13 columns):\n",
      " #   Column          Non-Null Count  Dtype  \n",
      "---  ------          --------------  -----  \n",
      " 0   App             10840 non-null  object \n",
      " 1   Category        10840 non-null  object \n",
      " 2   Rating          9366 non-null   float64\n",
      " 3   Reviews         10840 non-null  object \n",
      " 4   Size            10840 non-null  object \n",
      " 5   Installs        10840 non-null  object \n",
      " 6   Type            10839 non-null  object \n",
      " 7   Price           10840 non-null  object \n",
      " 8   Content Rating  10840 non-null  object \n",
      " 9   Genres          10840 non-null  object \n",
      " 10  Last Updated    10840 non-null  object \n",
      " 11  Current Ver     10832 non-null  object \n",
      " 12  Android Ver     10838 non-null  object \n",
      "dtypes: float64(1), object(12)\n",
      "memory usage: 1.2+ MB\n"
     ]
    }
   ],
   "source": [
    "data_frame_clean.info() #10841'den -->10840 a dusecek total row sayisi"
   ]
  },
  {
   "cell_type": "code",
   "execution_count": 77,
   "id": "46a9b7cc-1631-4827-b408-052347fc4cf4",
   "metadata": {},
   "outputs": [
    {
     "data": {
      "text/plain": [
       "np.int64(10840)"
      ]
     },
     "execution_count": 77,
     "metadata": {},
     "output_type": "execute_result"
    }
   ],
   "source": [
    "data_frame_clean[\"Reviews\"].str.isnumeric().sum() #goruldugu uzere 10840 tanesi cevirilebilir"
   ]
  },
  {
   "cell_type": "code",
   "execution_count": 78,
   "id": "50aeecae-dddd-423c-9261-fd9de3825287",
   "metadata": {},
   "outputs": [],
   "source": [
    "data_frame_clean[\"Reviews\"]=data_frame_clean[\"Reviews\"].astype(int) #diyerek artik int'e cevirebiliriz degerleri"
   ]
  },
  {
   "cell_type": "code",
   "execution_count": 79,
   "id": "0f935468-82c6-44c8-840c-702f7ff9dffc",
   "metadata": {},
   "outputs": [
    {
     "name": "stdout",
     "output_type": "stream",
     "text": [
      "<class 'pandas.core.frame.DataFrame'>\n",
      "Index: 10840 entries, 0 to 10840\n",
      "Data columns (total 13 columns):\n",
      " #   Column          Non-Null Count  Dtype  \n",
      "---  ------          --------------  -----  \n",
      " 0   App             10840 non-null  object \n",
      " 1   Category        10840 non-null  object \n",
      " 2   Rating          9366 non-null   float64\n",
      " 3   Reviews         10840 non-null  int64  \n",
      " 4   Size            10840 non-null  object \n",
      " 5   Installs        10840 non-null  object \n",
      " 6   Type            10839 non-null  object \n",
      " 7   Price           10840 non-null  object \n",
      " 8   Content Rating  10840 non-null  object \n",
      " 9   Genres          10840 non-null  object \n",
      " 10  Last Updated    10840 non-null  object \n",
      " 11  Current Ver     10832 non-null  object \n",
      " 12  Android Ver     10838 non-null  object \n",
      "dtypes: float64(1), int64(1), object(11)\n",
      "memory usage: 1.2+ MB\n"
     ]
    }
   ],
   "source": [
    "data_frame_clean.info() #diyerek 'Reviews'in int e dondugunu gorecegiz"
   ]
  },
  {
   "cell_type": "code",
   "execution_count": 80,
   "id": "11320735-65ee-4875-929e-82d96fdd1b0b",
   "metadata": {},
   "outputs": [
    {
     "data": {
      "text/html": [
       "<div>\n",
       "<style scoped>\n",
       "    .dataframe tbody tr th:only-of-type {\n",
       "        vertical-align: middle;\n",
       "    }\n",
       "\n",
       "    .dataframe tbody tr th {\n",
       "        vertical-align: top;\n",
       "    }\n",
       "\n",
       "    .dataframe thead th {\n",
       "        text-align: right;\n",
       "    }\n",
       "</style>\n",
       "<table border=\"1\" class=\"dataframe\">\n",
       "  <thead>\n",
       "    <tr style=\"text-align: right;\">\n",
       "      <th></th>\n",
       "      <th>Rating</th>\n",
       "      <th>Reviews</th>\n",
       "    </tr>\n",
       "  </thead>\n",
       "  <tbody>\n",
       "    <tr>\n",
       "      <th>count</th>\n",
       "      <td>9366.000000</td>\n",
       "      <td>1.084000e+04</td>\n",
       "    </tr>\n",
       "    <tr>\n",
       "      <th>mean</th>\n",
       "      <td>4.191757</td>\n",
       "      <td>4.441529e+05</td>\n",
       "    </tr>\n",
       "    <tr>\n",
       "      <th>std</th>\n",
       "      <td>0.515219</td>\n",
       "      <td>2.927761e+06</td>\n",
       "    </tr>\n",
       "    <tr>\n",
       "      <th>min</th>\n",
       "      <td>1.000000</td>\n",
       "      <td>0.000000e+00</td>\n",
       "    </tr>\n",
       "    <tr>\n",
       "      <th>25%</th>\n",
       "      <td>4.000000</td>\n",
       "      <td>3.800000e+01</td>\n",
       "    </tr>\n",
       "    <tr>\n",
       "      <th>50%</th>\n",
       "      <td>4.300000</td>\n",
       "      <td>2.094000e+03</td>\n",
       "    </tr>\n",
       "    <tr>\n",
       "      <th>75%</th>\n",
       "      <td>4.500000</td>\n",
       "      <td>5.477550e+04</td>\n",
       "    </tr>\n",
       "    <tr>\n",
       "      <th>max</th>\n",
       "      <td>5.000000</td>\n",
       "      <td>7.815831e+07</td>\n",
       "    </tr>\n",
       "  </tbody>\n",
       "</table>\n",
       "</div>"
      ],
      "text/plain": [
       "            Rating       Reviews\n",
       "count  9366.000000  1.084000e+04\n",
       "mean      4.191757  4.441529e+05\n",
       "std       0.515219  2.927761e+06\n",
       "min       1.000000  0.000000e+00\n",
       "25%       4.000000  3.800000e+01\n",
       "50%       4.300000  2.094000e+03\n",
       "75%       4.500000  5.477550e+04\n",
       "max       5.000000  7.815831e+07"
      ]
     },
     "execution_count": 80,
     "metadata": {},
     "output_type": "execute_result"
    }
   ],
   "source": [
    "data_frame_clean.describe() #bak artik bu da geldi"
   ]
  },
  {
   "cell_type": "markdown",
   "id": "dfe7fc3f-b6ba-4893-a3ba-7e822f9f08e7",
   "metadata": {},
   "source": [
    "### 'size' yi float yapmaya calisalim"
   ]
  },
  {
   "cell_type": "code",
   "execution_count": 81,
   "id": "34bd2ce5-e0f0-4e6a-827d-f1514480e63e",
   "metadata": {},
   "outputs": [
    {
     "data": {
      "text/plain": [
       "Size\n",
       "Varies with device    1695\n",
       "11M                    198\n",
       "12M                    196\n",
       "14M                    194\n",
       "13M                    191\n",
       "                      ... \n",
       "253k                     1\n",
       "992k                     1\n",
       "658k                     1\n",
       "73k                      1\n",
       "246k                     1\n",
       "Name: count, Length: 461, dtype: int64"
      ]
     },
     "execution_count": 81,
     "metadata": {},
     "output_type": "execute_result"
    }
   ],
   "source": [
    "data_frame_clean[\"Size\"].value_counts()"
   ]
  },
  {
   "cell_type": "code",
   "execution_count": 82,
   "id": "cbf79e35-2437-44a1-9698-f39178e08231",
   "metadata": {},
   "outputs": [
    {
     "data": {
      "text/plain": [
       "array(['19M', '14M', '8.7M', '25M', '2.8M', '5.6M', '29M', '33M', '3.1M',\n",
       "       '28M', '12M', '20M', '21M', '37M', '2.7M', '5.5M', '17M', '39M',\n",
       "       '31M', '4.2M', '7.0M', '23M', '6.0M', '6.1M', '4.6M', '9.2M',\n",
       "       '5.2M', '11M', '24M', 'Varies with device', '9.4M', '15M', '10M',\n",
       "       '1.2M', '26M', '8.0M', '7.9M', '56M', '57M', '35M', '54M', '201k',\n",
       "       '3.6M', '5.7M', '8.6M', '2.4M', '27M', '2.5M', '16M', '3.4M',\n",
       "       '8.9M', '3.9M', '2.9M', '38M', '32M', '5.4M', '18M', '1.1M',\n",
       "       '2.2M', '4.5M', '9.8M', '52M', '9.0M', '6.7M', '30M', '2.6M',\n",
       "       '7.1M', '3.7M', '22M', '7.4M', '6.4M', '3.2M', '8.2M', '9.9M',\n",
       "       '4.9M', '9.5M', '5.0M', '5.9M', '13M', '73M', '6.8M', '3.5M',\n",
       "       '4.0M', '2.3M', '7.2M', '2.1M', '42M', '7.3M', '9.1M', '55M',\n",
       "       '23k', '6.5M', '1.5M', '7.5M', '51M', '41M', '48M', '8.5M', '46M',\n",
       "       '8.3M', '4.3M', '4.7M', '3.3M', '40M', '7.8M', '8.8M', '6.6M',\n",
       "       '5.1M', '61M', '66M', '79k', '8.4M', '118k', '44M', '695k', '1.6M',\n",
       "       '6.2M', '18k', '53M', '1.4M', '3.0M', '5.8M', '3.8M', '9.6M',\n",
       "       '45M', '63M', '49M', '77M', '4.4M', '4.8M', '70M', '6.9M', '9.3M',\n",
       "       '10.0M', '8.1M', '36M', '84M', '97M', '2.0M', '1.9M', '1.8M',\n",
       "       '5.3M', '47M', '556k', '526k', '76M', '7.6M', '59M', '9.7M', '78M',\n",
       "       '72M', '43M', '7.7M', '6.3M', '334k', '34M', '93M', '65M', '79M',\n",
       "       '100M', '58M', '50M', '68M', '64M', '67M', '60M', '94M', '232k',\n",
       "       '99M', '624k', '95M', '8.5k', '41k', '292k', '11k', '80M', '1.7M',\n",
       "       '74M', '62M', '69M', '75M', '98M', '85M', '82M', '96M', '87M',\n",
       "       '71M', '86M', '91M', '81M', '92M', '83M', '88M', '704k', '862k',\n",
       "       '899k', '378k', '266k', '375k', '1.3M', '975k', '980k', '4.1M',\n",
       "       '89M', '696k', '544k', '525k', '920k', '779k', '853k', '720k',\n",
       "       '713k', '772k', '318k', '58k', '241k', '196k', '857k', '51k',\n",
       "       '953k', '865k', '251k', '930k', '540k', '313k', '746k', '203k',\n",
       "       '26k', '314k', '239k', '371k', '220k', '730k', '756k', '91k',\n",
       "       '293k', '17k', '74k', '14k', '317k', '78k', '924k', '902k', '818k',\n",
       "       '81k', '939k', '169k', '45k', '475k', '965k', '90M', '545k', '61k',\n",
       "       '283k', '655k', '714k', '93k', '872k', '121k', '322k', '1.0M',\n",
       "       '976k', '172k', '238k', '549k', '206k', '954k', '444k', '717k',\n",
       "       '210k', '609k', '308k', '705k', '306k', '904k', '473k', '175k',\n",
       "       '350k', '383k', '454k', '421k', '70k', '812k', '442k', '842k',\n",
       "       '417k', '412k', '459k', '478k', '335k', '782k', '721k', '430k',\n",
       "       '429k', '192k', '200k', '460k', '728k', '496k', '816k', '414k',\n",
       "       '506k', '887k', '613k', '243k', '569k', '778k', '683k', '592k',\n",
       "       '319k', '186k', '840k', '647k', '191k', '373k', '437k', '598k',\n",
       "       '716k', '585k', '982k', '222k', '219k', '55k', '948k', '323k',\n",
       "       '691k', '511k', '951k', '963k', '25k', '554k', '351k', '27k',\n",
       "       '82k', '208k', '913k', '514k', '551k', '29k', '103k', '898k',\n",
       "       '743k', '116k', '153k', '209k', '353k', '499k', '173k', '597k',\n",
       "       '809k', '122k', '411k', '400k', '801k', '787k', '237k', '50k',\n",
       "       '643k', '986k', '97k', '516k', '837k', '780k', '961k', '269k',\n",
       "       '20k', '498k', '600k', '749k', '642k', '881k', '72k', '656k',\n",
       "       '601k', '221k', '228k', '108k', '940k', '176k', '33k', '663k',\n",
       "       '34k', '942k', '259k', '164k', '458k', '245k', '629k', '28k',\n",
       "       '288k', '775k', '785k', '636k', '916k', '994k', '309k', '485k',\n",
       "       '914k', '903k', '608k', '500k', '54k', '562k', '847k', '957k',\n",
       "       '688k', '811k', '270k', '48k', '329k', '523k', '921k', '874k',\n",
       "       '981k', '784k', '280k', '24k', '518k', '754k', '892k', '154k',\n",
       "       '860k', '364k', '387k', '626k', '161k', '879k', '39k', '970k',\n",
       "       '170k', '141k', '160k', '144k', '143k', '190k', '376k', '193k',\n",
       "       '246k', '73k', '658k', '992k', '253k', '420k', '404k', '470k',\n",
       "       '226k', '240k', '89k', '234k', '257k', '861k', '467k', '157k',\n",
       "       '44k', '676k', '67k', '552k', '885k', '1020k', '582k', '619k'],\n",
       "      dtype=object)"
      ]
     },
     "execution_count": 82,
     "metadata": {},
     "output_type": "execute_result"
    }
   ],
   "source": [
    "data_frame_clean[\"Size\"].unique()"
   ]
  },
  {
   "cell_type": "markdown",
   "id": "34aa57fe-73d8-4818-a03e-3dc760987d46",
   "metadata": {},
   "source": [
    "##### dsad"
   ]
  },
  {
   "cell_type": "markdown",
   "id": "d82860b7-09a5-4aca-b72c-4595f5140b06",
   "metadata": {},
   "source": [
    "##### iste mb'lar kb'lar filan var ama sey de var.'Varies with device'. simdi adim adim duzenleyelim bu column'u.<br> <br>-ilk olarak hepsini kb cinsinden yazalim k yerine hicbisey yazcaz, m yerine 000 koycaz"
   ]
  },
  {
   "cell_type": "code",
   "execution_count": 83,
   "id": "9a8fb60c-afee-4a0b-97cc-a927c15fa93c",
   "metadata": {},
   "outputs": [],
   "source": [
    "data_frame_clean[\"Size\"]=data_frame_clean[\"Size\"].str.replace(\"M\", \"000\") #M-->000 degistiriyoz\n",
    "data_frame_clean[\"Size\"]=data_frame_clean[\"Size\"].str.replace(\"k\", \"\") #k-->\"\" ile degistiriyoz"
   ]
  },
  {
   "cell_type": "code",
   "execution_count": 84,
   "id": "79ee63e7-5608-4d67-a80d-f77293240269",
   "metadata": {},
   "outputs": [
    {
     "data": {
      "text/plain": [
       "array(['19000', '14000', '8.7000', '25000', '2.8000', '5.6000', '29000',\n",
       "       '33000', '3.1000', '28000', '12000', '20000', '21000', '37000',\n",
       "       '2.7000', '5.5000', '17000', '39000', '31000', '4.2000', '7.0000',\n",
       "       '23000', '6.0000', '6.1000', '4.6000', '9.2000', '5.2000', '11000',\n",
       "       '24000', 'Varies with device', '9.4000', '15000', '10000',\n",
       "       '1.2000', '26000', '8.0000', '7.9000', '56000', '57000', '35000',\n",
       "       '54000', '201', '3.6000', '5.7000', '8.6000', '2.4000', '27000',\n",
       "       '2.5000', '16000', '3.4000', '8.9000', '3.9000', '2.9000', '38000',\n",
       "       '32000', '5.4000', '18000', '1.1000', '2.2000', '4.5000', '9.8000',\n",
       "       '52000', '9.0000', '6.7000', '30000', '2.6000', '7.1000', '3.7000',\n",
       "       '22000', '7.4000', '6.4000', '3.2000', '8.2000', '9.9000',\n",
       "       '4.9000', '9.5000', '5.0000', '5.9000', '13000', '73000', '6.8000',\n",
       "       '3.5000', '4.0000', '2.3000', '7.2000', '2.1000', '42000',\n",
       "       '7.3000', '9.1000', '55000', '23', '6.5000', '1.5000', '7.5000',\n",
       "       '51000', '41000', '48000', '8.5000', '46000', '8.3000', '4.3000',\n",
       "       '4.7000', '3.3000', '40000', '7.8000', '8.8000', '6.6000',\n",
       "       '5.1000', '61000', '66000', '79', '8.4000', '118', '44000', '695',\n",
       "       '1.6000', '6.2000', '18', '53000', '1.4000', '3.0000', '5.8000',\n",
       "       '3.8000', '9.6000', '45000', '63000', '49000', '77000', '4.4000',\n",
       "       '4.8000', '70000', '6.9000', '9.3000', '10.0000', '8.1000',\n",
       "       '36000', '84000', '97000', '2.0000', '1.9000', '1.8000', '5.3000',\n",
       "       '47000', '556', '526', '76000', '7.6000', '59000', '9.7000',\n",
       "       '78000', '72000', '43000', '7.7000', '6.3000', '334', '34000',\n",
       "       '93000', '65000', '79000', '100000', '58000', '50000', '68000',\n",
       "       '64000', '67000', '60000', '94000', '232', '99000', '624', '95000',\n",
       "       '8.5', '41', '292', '11', '80000', '1.7000', '74000', '62000',\n",
       "       '69000', '75000', '98000', '85000', '82000', '96000', '87000',\n",
       "       '71000', '86000', '91000', '81000', '92000', '83000', '88000',\n",
       "       '704', '862', '899', '378', '266', '375', '1.3000', '975', '980',\n",
       "       '4.1000', '89000', '696', '544', '525', '920', '779', '853', '720',\n",
       "       '713', '772', '318', '58', '241', '196', '857', '51', '953', '865',\n",
       "       '251', '930', '540', '313', '746', '203', '26', '314', '239',\n",
       "       '371', '220', '730', '756', '91', '293', '17', '74', '14', '317',\n",
       "       '78', '924', '902', '818', '81', '939', '169', '45', '475', '965',\n",
       "       '90000', '545', '61', '283', '655', '714', '93', '872', '121',\n",
       "       '322', '1.0000', '976', '172', '238', '549', '206', '954', '444',\n",
       "       '717', '210', '609', '308', '705', '306', '904', '473', '175',\n",
       "       '350', '383', '454', '421', '70', '812', '442', '842', '417',\n",
       "       '412', '459', '478', '335', '782', '721', '430', '429', '192',\n",
       "       '200', '460', '728', '496', '816', '414', '506', '887', '613',\n",
       "       '243', '569', '778', '683', '592', '319', '186', '840', '647',\n",
       "       '191', '373', '437', '598', '716', '585', '982', '222', '219',\n",
       "       '55', '948', '323', '691', '511', '951', '963', '25', '554', '351',\n",
       "       '27', '82', '208', '913', '514', '551', '29', '103', '898', '743',\n",
       "       '116', '153', '209', '353', '499', '173', '597', '809', '122',\n",
       "       '411', '400', '801', '787', '237', '50', '643', '986', '97', '516',\n",
       "       '837', '780', '961', '269', '20', '498', '600', '749', '642',\n",
       "       '881', '72', '656', '601', '221', '228', '108', '940', '176', '33',\n",
       "       '663', '34', '942', '259', '164', '458', '245', '629', '28', '288',\n",
       "       '775', '785', '636', '916', '994', '309', '485', '914', '903',\n",
       "       '608', '500', '54', '562', '847', '957', '688', '811', '270', '48',\n",
       "       '329', '523', '921', '874', '981', '784', '280', '24', '518',\n",
       "       '754', '892', '154', '860', '364', '387', '626', '161', '879',\n",
       "       '39', '970', '170', '141', '160', '144', '143', '190', '376',\n",
       "       '193', '246', '73', '658', '992', '253', '420', '404', '470',\n",
       "       '226', '240', '89', '234', '257', '861', '467', '157', '44', '676',\n",
       "       '67', '552', '885', '1020', '582', '619'], dtype=object)"
      ]
     },
     "execution_count": 84,
     "metadata": {},
     "output_type": "execute_result"
    }
   ],
   "source": [
    "data_frame_clean[\"Size\"].unique() #gorulecegi uzere gitmisler"
   ]
  },
  {
   "cell_type": "markdown",
   "id": "a8bcaf20-71fd-4b99-8ec0-f5f08d17560e",
   "metadata": {},
   "source": [
    " ##### simdi ise  'Varies with device' olayina el atalim. onu 'Nan' ile degistirecegiz <br> fakat burda .str kullanmicaz ve kendisini direk vercez"
   ]
  },
  {
   "cell_type": "code",
   "execution_count": 85,
   "id": "092acacf-d31a-4ac4-8477-4bd2c60a696e",
   "metadata": {},
   "outputs": [],
   "source": [
    "data_frame_clean[\"Size\"]=data_frame_clean[\"Size\"].replace(\"Varies with device\", np.nan) #nan ile degistiririz"
   ]
  },
  {
   "cell_type": "code",
   "execution_count": 86,
   "id": "81183e5d-af22-40e6-81af-1bd0de77e1d9",
   "metadata": {},
   "outputs": [
    {
     "data": {
      "text/plain": [
       "array(['19000', '14000', '8.7000', '25000', '2.8000', '5.6000', '29000',\n",
       "       '33000', '3.1000', '28000', '12000', '20000', '21000', '37000',\n",
       "       '2.7000', '5.5000', '17000', '39000', '31000', '4.2000', '7.0000',\n",
       "       '23000', '6.0000', '6.1000', '4.6000', '9.2000', '5.2000', '11000',\n",
       "       '24000', nan, '9.4000', '15000', '10000', '1.2000', '26000',\n",
       "       '8.0000', '7.9000', '56000', '57000', '35000', '54000', '201',\n",
       "       '3.6000', '5.7000', '8.6000', '2.4000', '27000', '2.5000', '16000',\n",
       "       '3.4000', '8.9000', '3.9000', '2.9000', '38000', '32000', '5.4000',\n",
       "       '18000', '1.1000', '2.2000', '4.5000', '9.8000', '52000', '9.0000',\n",
       "       '6.7000', '30000', '2.6000', '7.1000', '3.7000', '22000', '7.4000',\n",
       "       '6.4000', '3.2000', '8.2000', '9.9000', '4.9000', '9.5000',\n",
       "       '5.0000', '5.9000', '13000', '73000', '6.8000', '3.5000', '4.0000',\n",
       "       '2.3000', '7.2000', '2.1000', '42000', '7.3000', '9.1000', '55000',\n",
       "       '23', '6.5000', '1.5000', '7.5000', '51000', '41000', '48000',\n",
       "       '8.5000', '46000', '8.3000', '4.3000', '4.7000', '3.3000', '40000',\n",
       "       '7.8000', '8.8000', '6.6000', '5.1000', '61000', '66000', '79',\n",
       "       '8.4000', '118', '44000', '695', '1.6000', '6.2000', '18', '53000',\n",
       "       '1.4000', '3.0000', '5.8000', '3.8000', '9.6000', '45000', '63000',\n",
       "       '49000', '77000', '4.4000', '4.8000', '70000', '6.9000', '9.3000',\n",
       "       '10.0000', '8.1000', '36000', '84000', '97000', '2.0000', '1.9000',\n",
       "       '1.8000', '5.3000', '47000', '556', '526', '76000', '7.6000',\n",
       "       '59000', '9.7000', '78000', '72000', '43000', '7.7000', '6.3000',\n",
       "       '334', '34000', '93000', '65000', '79000', '100000', '58000',\n",
       "       '50000', '68000', '64000', '67000', '60000', '94000', '232',\n",
       "       '99000', '624', '95000', '8.5', '41', '292', '11', '80000',\n",
       "       '1.7000', '74000', '62000', '69000', '75000', '98000', '85000',\n",
       "       '82000', '96000', '87000', '71000', '86000', '91000', '81000',\n",
       "       '92000', '83000', '88000', '704', '862', '899', '378', '266',\n",
       "       '375', '1.3000', '975', '980', '4.1000', '89000', '696', '544',\n",
       "       '525', '920', '779', '853', '720', '713', '772', '318', '58',\n",
       "       '241', '196', '857', '51', '953', '865', '251', '930', '540',\n",
       "       '313', '746', '203', '26', '314', '239', '371', '220', '730',\n",
       "       '756', '91', '293', '17', '74', '14', '317', '78', '924', '902',\n",
       "       '818', '81', '939', '169', '45', '475', '965', '90000', '545',\n",
       "       '61', '283', '655', '714', '93', '872', '121', '322', '1.0000',\n",
       "       '976', '172', '238', '549', '206', '954', '444', '717', '210',\n",
       "       '609', '308', '705', '306', '904', '473', '175', '350', '383',\n",
       "       '454', '421', '70', '812', '442', '842', '417', '412', '459',\n",
       "       '478', '335', '782', '721', '430', '429', '192', '200', '460',\n",
       "       '728', '496', '816', '414', '506', '887', '613', '243', '569',\n",
       "       '778', '683', '592', '319', '186', '840', '647', '191', '373',\n",
       "       '437', '598', '716', '585', '982', '222', '219', '55', '948',\n",
       "       '323', '691', '511', '951', '963', '25', '554', '351', '27', '82',\n",
       "       '208', '913', '514', '551', '29', '103', '898', '743', '116',\n",
       "       '153', '209', '353', '499', '173', '597', '809', '122', '411',\n",
       "       '400', '801', '787', '237', '50', '643', '986', '97', '516', '837',\n",
       "       '780', '961', '269', '20', '498', '600', '749', '642', '881', '72',\n",
       "       '656', '601', '221', '228', '108', '940', '176', '33', '663', '34',\n",
       "       '942', '259', '164', '458', '245', '629', '28', '288', '775',\n",
       "       '785', '636', '916', '994', '309', '485', '914', '903', '608',\n",
       "       '500', '54', '562', '847', '957', '688', '811', '270', '48', '329',\n",
       "       '523', '921', '874', '981', '784', '280', '24', '518', '754',\n",
       "       '892', '154', '860', '364', '387', '626', '161', '879', '39',\n",
       "       '970', '170', '141', '160', '144', '143', '190', '376', '193',\n",
       "       '246', '73', '658', '992', '253', '420', '404', '470', '226',\n",
       "       '240', '89', '234', '257', '861', '467', '157', '44', '676', '67',\n",
       "       '552', '885', '1020', '582', '619'], dtype=object)"
      ]
     },
     "execution_count": 86,
     "metadata": {},
     "output_type": "execute_result"
    }
   ],
   "source": [
    "data_frame_clean[\"Size\"].unique()"
   ]
  },
  {
   "cell_type": "code",
   "execution_count": 87,
   "id": "2fa37ba3-7842-4ecd-9587-ece6b11ed6c8",
   "metadata": {},
   "outputs": [],
   "source": [
    "data_frame_clean[\"Size\"]=data_frame_clean[\"Size\"].astype(float) #floata'a ceviririz"
   ]
  },
  {
   "cell_type": "code",
   "execution_count": 88,
   "id": "7328123f-af3e-4b54-bc3e-6ba2c73d60c5",
   "metadata": {},
   "outputs": [
    {
     "name": "stdout",
     "output_type": "stream",
     "text": [
      "<class 'pandas.core.frame.DataFrame'>\n",
      "Index: 10840 entries, 0 to 10840\n",
      "Data columns (total 13 columns):\n",
      " #   Column          Non-Null Count  Dtype  \n",
      "---  ------          --------------  -----  \n",
      " 0   App             10840 non-null  object \n",
      " 1   Category        10840 non-null  object \n",
      " 2   Rating          9366 non-null   float64\n",
      " 3   Reviews         10840 non-null  int64  \n",
      " 4   Size            9145 non-null   float64\n",
      " 5   Installs        10840 non-null  object \n",
      " 6   Type            10839 non-null  object \n",
      " 7   Price           10840 non-null  object \n",
      " 8   Content Rating  10840 non-null  object \n",
      " 9   Genres          10840 non-null  object \n",
      " 10  Last Updated    10840 non-null  object \n",
      " 11  Current Ver     10832 non-null  object \n",
      " 12  Android Ver     10838 non-null  object \n",
      "dtypes: float64(2), int64(1), object(10)\n",
      "memory usage: 1.2+ MB\n"
     ]
    }
   ],
   "source": [
    "data_frame_clean.info() #Size kisminin datatype kismini float gorebiliriz"
   ]
  },
  {
   "cell_type": "markdown",
   "id": "07cadab7-9886-4d76-932b-99b2021e8819",
   "metadata": {},
   "source": [
    "### 'install' ve 'price' int'e cevirme"
   ]
  },
  {
   "cell_type": "code",
   "execution_count": 89,
   "id": "c2e3442a-b113-45fb-a906-6c9458aaadcd",
   "metadata": {},
   "outputs": [
    {
     "name": "stdout",
     "output_type": "stream",
     "text": [
      "Installs\n",
      "1,000,000+        1579\n",
      "10,000,000+       1252\n",
      "100,000+          1169\n",
      "10,000+           1054\n",
      "1,000+             907\n",
      "5,000,000+         752\n",
      "100+               719\n",
      "500,000+           539\n",
      "50,000+            479\n",
      "5,000+             477\n",
      "100,000,000+       409\n",
      "10+                386\n",
      "500+               330\n",
      "50,000,000+        289\n",
      "50+                205\n",
      "5+                  82\n",
      "500,000,000+        72\n",
      "1+                  67\n",
      "1,000,000,000+      58\n",
      "0+                  14\n",
      "0                    1\n",
      "Name: count, dtype: int64 \n",
      "\n",
      "['10,000+' '500,000+' '5,000,000+' '50,000,000+' '100,000+' '50,000+'\n",
      " '1,000,000+' '10,000,000+' '5,000+' '100,000,000+' '1,000,000,000+'\n",
      " '1,000+' '500,000,000+' '50+' '100+' '500+' '10+' '1+' '5+' '0+' '0']\n"
     ]
    }
   ],
   "source": [
    "print(data_frame_clean[\"Installs\"].value_counts(), \"\\n\")\n",
    "print(data_frame_clean[\"Installs\"].unique())"
   ]
  },
  {
   "cell_type": "code",
   "execution_count": 90,
   "id": "9a924bd5-8652-4250-b621-04618189f00f",
   "metadata": {},
   "outputs": [
    {
     "name": "stdout",
     "output_type": "stream",
     "text": [
      "Price\n",
      "0          10040\n",
      "$0.99        148\n",
      "$2.99        129\n",
      "$1.99         73\n",
      "$4.99         72\n",
      "           ...  \n",
      "$3.61          1\n",
      "$394.99        1\n",
      "$1.26          1\n",
      "$1.20          1\n",
      "$1.04          1\n",
      "Name: count, Length: 92, dtype: int64 \n",
      "\n",
      "['0' '$4.99' '$3.99' '$6.99' '$1.49' '$2.99' '$7.99' '$5.99' '$3.49'\n",
      " '$1.99' '$9.99' '$7.49' '$0.99' '$9.00' '$5.49' '$10.00' '$24.99'\n",
      " '$11.99' '$79.99' '$16.99' '$14.99' '$1.00' '$29.99' '$12.99' '$2.49'\n",
      " '$10.99' '$1.50' '$19.99' '$15.99' '$33.99' '$74.99' '$39.99' '$3.95'\n",
      " '$4.49' '$1.70' '$8.99' '$2.00' '$3.88' '$25.99' '$399.99' '$17.99'\n",
      " '$400.00' '$3.02' '$1.76' '$4.84' '$4.77' '$1.61' '$2.50' '$1.59' '$6.49'\n",
      " '$1.29' '$5.00' '$13.99' '$299.99' '$379.99' '$37.99' '$18.99' '$389.99'\n",
      " '$19.90' '$8.49' '$1.75' '$14.00' '$4.85' '$46.99' '$109.99' '$154.99'\n",
      " '$3.08' '$2.59' '$4.80' '$1.96' '$19.40' '$3.90' '$4.59' '$15.46' '$3.04'\n",
      " '$4.29' '$2.60' '$3.28' '$4.60' '$28.99' '$2.95' '$2.90' '$1.97'\n",
      " '$200.00' '$89.99' '$2.56' '$30.99' '$3.61' '$394.99' '$1.26' '$1.20'\n",
      " '$1.04']\n"
     ]
    }
   ],
   "source": [
    "print(data_frame_clean[\"Price\"].value_counts(),\"\\n\")\n",
    "print(data_frame_clean[\"Price\"].unique())"
   ]
  },
  {
   "cell_type": "markdown",
   "id": "ea8ae3bd-7840-4ac5-ac12-0a291fbff61b",
   "metadata": {},
   "source": [
    "##### ikisini de incelersek 'Installs'dan hem + hem de , isaretlerini; 'Price'den $ isretini sileccegiz.<br> <br> pratik olmasi acisindan silecegimiz isretleri ve hangi columnda uygulayacagimizi belirtip for loopuna sokabiliriz"
   ]
  },
  {
   "cell_type": "code",
   "execution_count": 91,
   "id": "feee01cc-7fb8-4f28-b677-27e913b4dff2",
   "metadata": {},
   "outputs": [],
   "source": [
    "silinecek_isaretler=[\"+\",\",\",\"$\"]\n",
    "columnlar=[\"Installs\",\"Price\"]\n",
    "\n",
    "for item in silinecek_isaretler:\n",
    "    for col in columnlar:\n",
    "        data_frame_clean[col]=data_frame_clean[col].str.replace(item, \"\")\n",
    "\n",
    "# bu islem bize inanilmaz kolaylik saglicaktir. mesela cok column varsa degil mi!"
   ]
  },
  {
   "cell_type": "code",
   "execution_count": 92,
   "id": "c0b55710-0391-40d9-8c50-510a928f0b71",
   "metadata": {},
   "outputs": [
    {
     "name": "stdout",
     "output_type": "stream",
     "text": [
      "['10000' '500000' '5000000' '50000000' '100000' '50000' '1000000'\n",
      " '10000000' '5000' '100000000' '1000000000' '1000' '500000000' '50' '100'\n",
      " '500' '10' '1' '5' '0'] \n",
      "\n",
      " ['0' '4.99' '3.99' '6.99' '1.49' '2.99' '7.99' '5.99' '3.49' '1.99' '9.99'\n",
      " '7.49' '0.99' '9.00' '5.49' '10.00' '24.99' '11.99' '79.99' '16.99'\n",
      " '14.99' '1.00' '29.99' '12.99' '2.49' '10.99' '1.50' '19.99' '15.99'\n",
      " '33.99' '74.99' '39.99' '3.95' '4.49' '1.70' '8.99' '2.00' '3.88' '25.99'\n",
      " '399.99' '17.99' '400.00' '3.02' '1.76' '4.84' '4.77' '1.61' '2.50'\n",
      " '1.59' '6.49' '1.29' '5.00' '13.99' '299.99' '379.99' '37.99' '18.99'\n",
      " '389.99' '19.90' '8.49' '1.75' '14.00' '4.85' '46.99' '109.99' '154.99'\n",
      " '3.08' '2.59' '4.80' '1.96' '19.40' '3.90' '4.59' '15.46' '3.04' '4.29'\n",
      " '2.60' '3.28' '4.60' '28.99' '2.95' '2.90' '1.97' '200.00' '89.99' '2.56'\n",
      " '30.99' '3.61' '394.99' '1.26' '1.20' '1.04']\n"
     ]
    }
   ],
   "source": [
    "print(data_frame_clean[\"Installs\"].unique(),\"\\n\\n\",data_frame_clean[\"Price\"].unique()) #goruldugu uzere degismis"
   ]
  },
  {
   "cell_type": "markdown",
   "id": "5ce6d866-8f7c-4106-b3c5-5ccbc981eae8",
   "metadata": {},
   "source": [
    "#### simdi artik type'lerini degistirebiliriz"
   ]
  },
  {
   "cell_type": "code",
   "execution_count": 93,
   "id": "f48b81d9-860c-498f-be75-11128c796c38",
   "metadata": {},
   "outputs": [],
   "source": [
    "data_frame_clean[\"Price\"]=data_frame_clean[\"Price\"].astype(float)"
   ]
  },
  {
   "cell_type": "code",
   "execution_count": 94,
   "id": "f70389b5-b27c-4258-a721-ecaa0752b819",
   "metadata": {},
   "outputs": [],
   "source": [
    "data_frame_clean[\"Installs\"]=data_frame_clean[\"Installs\"].astype(int)"
   ]
  },
  {
   "cell_type": "code",
   "execution_count": 95,
   "id": "03f81140-d297-457b-a7cb-1f3de41315da",
   "metadata": {},
   "outputs": [
    {
     "name": "stdout",
     "output_type": "stream",
     "text": [
      "<class 'pandas.core.frame.DataFrame'>\n",
      "Index: 10840 entries, 0 to 10840\n",
      "Data columns (total 13 columns):\n",
      " #   Column          Non-Null Count  Dtype  \n",
      "---  ------          --------------  -----  \n",
      " 0   App             10840 non-null  object \n",
      " 1   Category        10840 non-null  object \n",
      " 2   Rating          9366 non-null   float64\n",
      " 3   Reviews         10840 non-null  int64  \n",
      " 4   Size            9145 non-null   float64\n",
      " 5   Installs        10840 non-null  int64  \n",
      " 6   Type            10839 non-null  object \n",
      " 7   Price           10840 non-null  float64\n",
      " 8   Content Rating  10840 non-null  object \n",
      " 9   Genres          10840 non-null  object \n",
      " 10  Last Updated    10840 non-null  object \n",
      " 11  Current Ver     10832 non-null  object \n",
      " 12  Android Ver     10838 non-null  object \n",
      "dtypes: float64(3), int64(2), object(8)\n",
      "memory usage: 1.2+ MB\n"
     ]
    }
   ],
   "source": [
    "data_frame_clean.info()"
   ]
  },
  {
   "cell_type": "markdown",
   "id": "a544b123-4882-4924-bc85-64a9e5232ed1",
   "metadata": {},
   "source": [
    "## Tarihlere El Atmak"
   ]
  },
  {
   "cell_type": "code",
   "execution_count": 96,
   "id": "8f86e49d-7727-484d-a09f-e779a020a1b9",
   "metadata": {},
   "outputs": [
    {
     "data": {
      "text/plain": [
       "array(['January 7, 2018', 'January 15, 2018', 'August 1, 2018', ...,\n",
       "       'January 20, 2014', 'February 16, 2014', 'March 23, 2014'],\n",
       "      dtype=object)"
      ]
     },
     "execution_count": 96,
     "metadata": {},
     "output_type": "execute_result"
    }
   ],
   "source": [
    "data_frame_clean[\"Last Updated\"].unique() #burda cok deger cikacaktir  string girilmis"
   ]
  },
  {
   "cell_type": "markdown",
   "id": "7e5d241b-9223-4c9b-87c8-f76ca8c61f13",
   "metadata": {},
   "source": [
    "##### pandas'da 'to_datetime' fonksiyonu vardir. aldigi stringi __datatime__ objesine donusturur.<br> iste icerisinde dayfirst, yearfirst gibi parametreler var eger yil once ise iste yearfirst parametresini filan kullanacan. default=false dir durum oyle ise true yap <br> en iyi yolunu kullanacagiz"
   ]
  },
  {
   "cell_type": "code",
   "execution_count": 97,
   "id": "a85e6312-48fd-4cef-89ab-55b609e2215f",
   "metadata": {},
   "outputs": [],
   "source": [
    "data_frame_clean[\"Last Updated\"] = pd.to_datetime(data_frame_clean[\"Last Updated\"]) #deriz ve datetime objesine donusur ve kendisi halleder"
   ]
  },
  {
   "cell_type": "code",
   "execution_count": 98,
   "id": "199fd0eb-adaa-4f82-9fbc-558fc94ef630",
   "metadata": {},
   "outputs": [
    {
     "data": {
      "text/html": [
       "<div>\n",
       "<style scoped>\n",
       "    .dataframe tbody tr th:only-of-type {\n",
       "        vertical-align: middle;\n",
       "    }\n",
       "\n",
       "    .dataframe tbody tr th {\n",
       "        vertical-align: top;\n",
       "    }\n",
       "\n",
       "    .dataframe thead th {\n",
       "        text-align: right;\n",
       "    }\n",
       "</style>\n",
       "<table border=\"1\" class=\"dataframe\">\n",
       "  <thead>\n",
       "    <tr style=\"text-align: right;\">\n",
       "      <th></th>\n",
       "      <th>App</th>\n",
       "      <th>Category</th>\n",
       "      <th>Rating</th>\n",
       "      <th>Reviews</th>\n",
       "      <th>Size</th>\n",
       "      <th>Installs</th>\n",
       "      <th>Type</th>\n",
       "      <th>Price</th>\n",
       "      <th>Content Rating</th>\n",
       "      <th>Genres</th>\n",
       "      <th>Last Updated</th>\n",
       "      <th>Current Ver</th>\n",
       "      <th>Android Ver</th>\n",
       "    </tr>\n",
       "  </thead>\n",
       "  <tbody>\n",
       "    <tr>\n",
       "      <th>0</th>\n",
       "      <td>Photo Editor &amp; Candy Camera &amp; Grid &amp; ScrapBook</td>\n",
       "      <td>ART_AND_DESIGN</td>\n",
       "      <td>4.1</td>\n",
       "      <td>159</td>\n",
       "      <td>19000.0</td>\n",
       "      <td>10000</td>\n",
       "      <td>Free</td>\n",
       "      <td>0.0</td>\n",
       "      <td>Everyone</td>\n",
       "      <td>Art &amp; Design</td>\n",
       "      <td>2018-01-07</td>\n",
       "      <td>1.0.0</td>\n",
       "      <td>4.0.3 and up</td>\n",
       "    </tr>\n",
       "    <tr>\n",
       "      <th>1</th>\n",
       "      <td>Coloring book moana</td>\n",
       "      <td>ART_AND_DESIGN</td>\n",
       "      <td>3.9</td>\n",
       "      <td>967</td>\n",
       "      <td>14000.0</td>\n",
       "      <td>500000</td>\n",
       "      <td>Free</td>\n",
       "      <td>0.0</td>\n",
       "      <td>Everyone</td>\n",
       "      <td>Art &amp; Design;Pretend Play</td>\n",
       "      <td>2018-01-15</td>\n",
       "      <td>2.0.0</td>\n",
       "      <td>4.0.3 and up</td>\n",
       "    </tr>\n",
       "    <tr>\n",
       "      <th>2</th>\n",
       "      <td>U Launcher Lite – FREE Live Cool Themes, Hide ...</td>\n",
       "      <td>ART_AND_DESIGN</td>\n",
       "      <td>4.7</td>\n",
       "      <td>87510</td>\n",
       "      <td>8.7</td>\n",
       "      <td>5000000</td>\n",
       "      <td>Free</td>\n",
       "      <td>0.0</td>\n",
       "      <td>Everyone</td>\n",
       "      <td>Art &amp; Design</td>\n",
       "      <td>2018-08-01</td>\n",
       "      <td>1.2.4</td>\n",
       "      <td>4.0.3 and up</td>\n",
       "    </tr>\n",
       "    <tr>\n",
       "      <th>3</th>\n",
       "      <td>Sketch - Draw &amp; Paint</td>\n",
       "      <td>ART_AND_DESIGN</td>\n",
       "      <td>4.5</td>\n",
       "      <td>215644</td>\n",
       "      <td>25000.0</td>\n",
       "      <td>50000000</td>\n",
       "      <td>Free</td>\n",
       "      <td>0.0</td>\n",
       "      <td>Teen</td>\n",
       "      <td>Art &amp; Design</td>\n",
       "      <td>2018-06-08</td>\n",
       "      <td>Varies with device</td>\n",
       "      <td>4.2 and up</td>\n",
       "    </tr>\n",
       "    <tr>\n",
       "      <th>4</th>\n",
       "      <td>Pixel Draw - Number Art Coloring Book</td>\n",
       "      <td>ART_AND_DESIGN</td>\n",
       "      <td>4.3</td>\n",
       "      <td>967</td>\n",
       "      <td>2.8</td>\n",
       "      <td>100000</td>\n",
       "      <td>Free</td>\n",
       "      <td>0.0</td>\n",
       "      <td>Everyone</td>\n",
       "      <td>Art &amp; Design;Creativity</td>\n",
       "      <td>2018-06-20</td>\n",
       "      <td>1.1</td>\n",
       "      <td>4.4 and up</td>\n",
       "    </tr>\n",
       "  </tbody>\n",
       "</table>\n",
       "</div>"
      ],
      "text/plain": [
       "                                                 App        Category  Rating  \\\n",
       "0     Photo Editor & Candy Camera & Grid & ScrapBook  ART_AND_DESIGN     4.1   \n",
       "1                                Coloring book moana  ART_AND_DESIGN     3.9   \n",
       "2  U Launcher Lite – FREE Live Cool Themes, Hide ...  ART_AND_DESIGN     4.7   \n",
       "3                              Sketch - Draw & Paint  ART_AND_DESIGN     4.5   \n",
       "4              Pixel Draw - Number Art Coloring Book  ART_AND_DESIGN     4.3   \n",
       "\n",
       "   Reviews     Size  Installs  Type  Price Content Rating  \\\n",
       "0      159  19000.0     10000  Free    0.0       Everyone   \n",
       "1      967  14000.0    500000  Free    0.0       Everyone   \n",
       "2    87510      8.7   5000000  Free    0.0       Everyone   \n",
       "3   215644  25000.0  50000000  Free    0.0           Teen   \n",
       "4      967      2.8    100000  Free    0.0       Everyone   \n",
       "\n",
       "                      Genres Last Updated         Current Ver   Android Ver  \n",
       "0               Art & Design   2018-01-07               1.0.0  4.0.3 and up  \n",
       "1  Art & Design;Pretend Play   2018-01-15               2.0.0  4.0.3 and up  \n",
       "2               Art & Design   2018-08-01               1.2.4  4.0.3 and up  \n",
       "3               Art & Design   2018-06-08  Varies with device    4.2 and up  \n",
       "4    Art & Design;Creativity   2018-06-20                 1.1    4.4 and up  "
      ]
     },
     "execution_count": 98,
     "metadata": {},
     "output_type": "execute_result"
    }
   ],
   "source": [
    "data_frame_clean.head() #gorulcegi uzere kendisi halletmis"
   ]
  },
  {
   "cell_type": "markdown",
   "id": "2a33ad7e-b549-4fc2-9a1f-d070c9df6cee",
   "metadata": {},
   "source": [
    "#### tabi bu degerleri gun, ay, yil olarak ayri ayri column'lara da ayirabiliriz <br> Fakat bu islemi yapabilmek icin oncelikle o column'u datetime obesine cevirmis oldugumuzdan emin olmaliyiz"
   ]
  },
  {
   "cell_type": "code",
   "execution_count": 99,
   "id": "23fb148b-28cc-445c-bd59-327c468832f9",
   "metadata": {},
   "outputs": [
    {
     "name": "stdout",
     "output_type": "stream",
     "text": [
      "<class 'pandas.core.frame.DataFrame'>\n",
      "Index: 10840 entries, 0 to 10840\n",
      "Data columns (total 13 columns):\n",
      " #   Column          Non-Null Count  Dtype         \n",
      "---  ------          --------------  -----         \n",
      " 0   App             10840 non-null  object        \n",
      " 1   Category        10840 non-null  object        \n",
      " 2   Rating          9366 non-null   float64       \n",
      " 3   Reviews         10840 non-null  int64         \n",
      " 4   Size            9145 non-null   float64       \n",
      " 5   Installs        10840 non-null  int64         \n",
      " 6   Type            10839 non-null  object        \n",
      " 7   Price           10840 non-null  float64       \n",
      " 8   Content Rating  10840 non-null  object        \n",
      " 9   Genres          10840 non-null  object        \n",
      " 10  Last Updated    10840 non-null  datetime64[ns]\n",
      " 11  Current Ver     10832 non-null  object        \n",
      " 12  Android Ver     10838 non-null  object        \n",
      "dtypes: datetime64[ns](1), float64(3), int64(2), object(7)\n",
      "memory usage: 1.2+ MB\n"
     ]
    }
   ],
   "source": [
    "data_frame_clean.info() #\"Last Update\"nin datetime objesi oldugunu goruyoruz"
   ]
  },
  {
   "cell_type": "code",
   "execution_count": 100,
   "id": "288c20dc-e069-4136-89f9-5a4dda5490b5",
   "metadata": {},
   "outputs": [],
   "source": [
    "data_frame_clean[\"Day\"]=data_frame_clean[\"Last Updated\"].dt.day\n",
    "data_frame_clean[\"Month\"]=data_frame_clean[\"Last Updated\"].dt.month\n",
    "data_frame_clean[\"Year\"]=data_frame_clean[\"Last Updated\"].dt.year"
   ]
  },
  {
   "cell_type": "code",
   "execution_count": 101,
   "id": "9244e779-a8be-4e08-9578-7b0dd912f74f",
   "metadata": {},
   "outputs": [
    {
     "data": {
      "text/html": [
       "<div>\n",
       "<style scoped>\n",
       "    .dataframe tbody tr th:only-of-type {\n",
       "        vertical-align: middle;\n",
       "    }\n",
       "\n",
       "    .dataframe tbody tr th {\n",
       "        vertical-align: top;\n",
       "    }\n",
       "\n",
       "    .dataframe thead th {\n",
       "        text-align: right;\n",
       "    }\n",
       "</style>\n",
       "<table border=\"1\" class=\"dataframe\">\n",
       "  <thead>\n",
       "    <tr style=\"text-align: right;\">\n",
       "      <th></th>\n",
       "      <th>App</th>\n",
       "      <th>Category</th>\n",
       "      <th>Rating</th>\n",
       "      <th>Reviews</th>\n",
       "      <th>Size</th>\n",
       "      <th>Installs</th>\n",
       "      <th>Type</th>\n",
       "      <th>Price</th>\n",
       "      <th>Content Rating</th>\n",
       "      <th>Genres</th>\n",
       "      <th>Last Updated</th>\n",
       "      <th>Current Ver</th>\n",
       "      <th>Android Ver</th>\n",
       "      <th>Day</th>\n",
       "      <th>Month</th>\n",
       "      <th>Year</th>\n",
       "    </tr>\n",
       "  </thead>\n",
       "  <tbody>\n",
       "    <tr>\n",
       "      <th>0</th>\n",
       "      <td>Photo Editor &amp; Candy Camera &amp; Grid &amp; ScrapBook</td>\n",
       "      <td>ART_AND_DESIGN</td>\n",
       "      <td>4.1</td>\n",
       "      <td>159</td>\n",
       "      <td>19000.0</td>\n",
       "      <td>10000</td>\n",
       "      <td>Free</td>\n",
       "      <td>0.0</td>\n",
       "      <td>Everyone</td>\n",
       "      <td>Art &amp; Design</td>\n",
       "      <td>2018-01-07</td>\n",
       "      <td>1.0.0</td>\n",
       "      <td>4.0.3 and up</td>\n",
       "      <td>7</td>\n",
       "      <td>1</td>\n",
       "      <td>2018</td>\n",
       "    </tr>\n",
       "    <tr>\n",
       "      <th>1</th>\n",
       "      <td>Coloring book moana</td>\n",
       "      <td>ART_AND_DESIGN</td>\n",
       "      <td>3.9</td>\n",
       "      <td>967</td>\n",
       "      <td>14000.0</td>\n",
       "      <td>500000</td>\n",
       "      <td>Free</td>\n",
       "      <td>0.0</td>\n",
       "      <td>Everyone</td>\n",
       "      <td>Art &amp; Design;Pretend Play</td>\n",
       "      <td>2018-01-15</td>\n",
       "      <td>2.0.0</td>\n",
       "      <td>4.0.3 and up</td>\n",
       "      <td>15</td>\n",
       "      <td>1</td>\n",
       "      <td>2018</td>\n",
       "    </tr>\n",
       "    <tr>\n",
       "      <th>2</th>\n",
       "      <td>U Launcher Lite – FREE Live Cool Themes, Hide ...</td>\n",
       "      <td>ART_AND_DESIGN</td>\n",
       "      <td>4.7</td>\n",
       "      <td>87510</td>\n",
       "      <td>8.7</td>\n",
       "      <td>5000000</td>\n",
       "      <td>Free</td>\n",
       "      <td>0.0</td>\n",
       "      <td>Everyone</td>\n",
       "      <td>Art &amp; Design</td>\n",
       "      <td>2018-08-01</td>\n",
       "      <td>1.2.4</td>\n",
       "      <td>4.0.3 and up</td>\n",
       "      <td>1</td>\n",
       "      <td>8</td>\n",
       "      <td>2018</td>\n",
       "    </tr>\n",
       "    <tr>\n",
       "      <th>3</th>\n",
       "      <td>Sketch - Draw &amp; Paint</td>\n",
       "      <td>ART_AND_DESIGN</td>\n",
       "      <td>4.5</td>\n",
       "      <td>215644</td>\n",
       "      <td>25000.0</td>\n",
       "      <td>50000000</td>\n",
       "      <td>Free</td>\n",
       "      <td>0.0</td>\n",
       "      <td>Teen</td>\n",
       "      <td>Art &amp; Design</td>\n",
       "      <td>2018-06-08</td>\n",
       "      <td>Varies with device</td>\n",
       "      <td>4.2 and up</td>\n",
       "      <td>8</td>\n",
       "      <td>6</td>\n",
       "      <td>2018</td>\n",
       "    </tr>\n",
       "    <tr>\n",
       "      <th>4</th>\n",
       "      <td>Pixel Draw - Number Art Coloring Book</td>\n",
       "      <td>ART_AND_DESIGN</td>\n",
       "      <td>4.3</td>\n",
       "      <td>967</td>\n",
       "      <td>2.8</td>\n",
       "      <td>100000</td>\n",
       "      <td>Free</td>\n",
       "      <td>0.0</td>\n",
       "      <td>Everyone</td>\n",
       "      <td>Art &amp; Design;Creativity</td>\n",
       "      <td>2018-06-20</td>\n",
       "      <td>1.1</td>\n",
       "      <td>4.4 and up</td>\n",
       "      <td>20</td>\n",
       "      <td>6</td>\n",
       "      <td>2018</td>\n",
       "    </tr>\n",
       "  </tbody>\n",
       "</table>\n",
       "</div>"
      ],
      "text/plain": [
       "                                                 App        Category  Rating  \\\n",
       "0     Photo Editor & Candy Camera & Grid & ScrapBook  ART_AND_DESIGN     4.1   \n",
       "1                                Coloring book moana  ART_AND_DESIGN     3.9   \n",
       "2  U Launcher Lite – FREE Live Cool Themes, Hide ...  ART_AND_DESIGN     4.7   \n",
       "3                              Sketch - Draw & Paint  ART_AND_DESIGN     4.5   \n",
       "4              Pixel Draw - Number Art Coloring Book  ART_AND_DESIGN     4.3   \n",
       "\n",
       "   Reviews     Size  Installs  Type  Price Content Rating  \\\n",
       "0      159  19000.0     10000  Free    0.0       Everyone   \n",
       "1      967  14000.0    500000  Free    0.0       Everyone   \n",
       "2    87510      8.7   5000000  Free    0.0       Everyone   \n",
       "3   215644  25000.0  50000000  Free    0.0           Teen   \n",
       "4      967      2.8    100000  Free    0.0       Everyone   \n",
       "\n",
       "                      Genres Last Updated         Current Ver   Android Ver  \\\n",
       "0               Art & Design   2018-01-07               1.0.0  4.0.3 and up   \n",
       "1  Art & Design;Pretend Play   2018-01-15               2.0.0  4.0.3 and up   \n",
       "2               Art & Design   2018-08-01               1.2.4  4.0.3 and up   \n",
       "3               Art & Design   2018-06-08  Varies with device    4.2 and up   \n",
       "4    Art & Design;Creativity   2018-06-20                 1.1    4.4 and up   \n",
       "\n",
       "   Day  Month  Year  \n",
       "0    7      1  2018  \n",
       "1   15      1  2018  \n",
       "2    1      8  2018  \n",
       "3    8      6  2018  \n",
       "4   20      6  2018  "
      ]
     },
     "execution_count": 101,
     "metadata": {},
     "output_type": "execute_result"
    }
   ],
   "source": [
    "data_frame_clean.head() #gordugumuz gibi olmus bu islemde"
   ]
  },
  {
   "cell_type": "markdown",
   "id": "f331cbbb-a05d-45e5-9d11-d8134b16cc15",
   "metadata": {},
   "source": [
    "## EDA"
   ]
  },
  {
   "cell_type": "markdown",
   "id": "255d91f8-510c-4b02-ac52-f687029def9c",
   "metadata": {},
   "source": [
    "### Dagilim Grafikleri"
   ]
  },
  {
   "cell_type": "code",
   "execution_count": 102,
   "id": "d943ffdb-9616-4683-a267-d1d2cdfd4f7e",
   "metadata": {},
   "outputs": [
    {
     "name": "stdout",
     "output_type": "stream",
     "text": [
      "<class 'pandas.core.frame.DataFrame'>\n",
      "Index: 10840 entries, 0 to 10840\n",
      "Data columns (total 16 columns):\n",
      " #   Column          Non-Null Count  Dtype         \n",
      "---  ------          --------------  -----         \n",
      " 0   App             10840 non-null  object        \n",
      " 1   Category        10840 non-null  object        \n",
      " 2   Rating          9366 non-null   float64       \n",
      " 3   Reviews         10840 non-null  int64         \n",
      " 4   Size            9145 non-null   float64       \n",
      " 5   Installs        10840 non-null  int64         \n",
      " 6   Type            10839 non-null  object        \n",
      " 7   Price           10840 non-null  float64       \n",
      " 8   Content Rating  10840 non-null  object        \n",
      " 9   Genres          10840 non-null  object        \n",
      " 10  Last Updated    10840 non-null  datetime64[ns]\n",
      " 11  Current Ver     10832 non-null  object        \n",
      " 12  Android Ver     10838 non-null  object        \n",
      " 13  Day             10840 non-null  int32         \n",
      " 14  Month           10840 non-null  int32         \n",
      " 15  Year            10840 non-null  int32         \n",
      "dtypes: datetime64[ns](1), float64(3), int32(3), int64(2), object(7)\n",
      "memory usage: 1.3+ MB\n"
     ]
    }
   ],
   "source": [
    "data_frame_clean.info()"
   ]
  },
  {
   "cell_type": "markdown",
   "id": "84029386-aa3d-45cb-bcb4-2f24005e78a1",
   "metadata": {},
   "source": [
    "#### tabi biz seye bakmadik-->App icin acaba dı-uplicated data var mi? ayni isimden birden fazla girilmis mi bakmadik."
   ]
  },
  {
   "cell_type": "code",
   "execution_count": 103,
   "id": "fddc217a-eb40-4f87-8d7f-2711156fbea3",
   "metadata": {},
   "outputs": [
    {
     "data": {
      "text/html": [
       "<div>\n",
       "<style scoped>\n",
       "    .dataframe tbody tr th:only-of-type {\n",
       "        vertical-align: middle;\n",
       "    }\n",
       "\n",
       "    .dataframe tbody tr th {\n",
       "        vertical-align: top;\n",
       "    }\n",
       "\n",
       "    .dataframe thead th {\n",
       "        text-align: right;\n",
       "    }\n",
       "</style>\n",
       "<table border=\"1\" class=\"dataframe\">\n",
       "  <thead>\n",
       "    <tr style=\"text-align: right;\">\n",
       "      <th></th>\n",
       "      <th>App</th>\n",
       "      <th>Category</th>\n",
       "      <th>Rating</th>\n",
       "      <th>Reviews</th>\n",
       "      <th>Size</th>\n",
       "      <th>Installs</th>\n",
       "      <th>Type</th>\n",
       "      <th>Price</th>\n",
       "      <th>Content Rating</th>\n",
       "      <th>Genres</th>\n",
       "      <th>Last Updated</th>\n",
       "      <th>Current Ver</th>\n",
       "      <th>Android Ver</th>\n",
       "      <th>Day</th>\n",
       "      <th>Month</th>\n",
       "      <th>Year</th>\n",
       "    </tr>\n",
       "  </thead>\n",
       "  <tbody>\n",
       "    <tr>\n",
       "      <th>229</th>\n",
       "      <td>Quick PDF Scanner + OCR FREE</td>\n",
       "      <td>BUSINESS</td>\n",
       "      <td>4.2</td>\n",
       "      <td>80805</td>\n",
       "      <td>NaN</td>\n",
       "      <td>5000000</td>\n",
       "      <td>Free</td>\n",
       "      <td>0.0</td>\n",
       "      <td>Everyone</td>\n",
       "      <td>Business</td>\n",
       "      <td>2018-02-26</td>\n",
       "      <td>Varies with device</td>\n",
       "      <td>4.0.3 and up</td>\n",
       "      <td>26</td>\n",
       "      <td>2</td>\n",
       "      <td>2018</td>\n",
       "    </tr>\n",
       "    <tr>\n",
       "      <th>236</th>\n",
       "      <td>Box</td>\n",
       "      <td>BUSINESS</td>\n",
       "      <td>4.2</td>\n",
       "      <td>159872</td>\n",
       "      <td>NaN</td>\n",
       "      <td>10000000</td>\n",
       "      <td>Free</td>\n",
       "      <td>0.0</td>\n",
       "      <td>Everyone</td>\n",
       "      <td>Business</td>\n",
       "      <td>2018-07-31</td>\n",
       "      <td>Varies with device</td>\n",
       "      <td>Varies with device</td>\n",
       "      <td>31</td>\n",
       "      <td>7</td>\n",
       "      <td>2018</td>\n",
       "    </tr>\n",
       "    <tr>\n",
       "      <th>239</th>\n",
       "      <td>Google My Business</td>\n",
       "      <td>BUSINESS</td>\n",
       "      <td>4.4</td>\n",
       "      <td>70991</td>\n",
       "      <td>NaN</td>\n",
       "      <td>5000000</td>\n",
       "      <td>Free</td>\n",
       "      <td>0.0</td>\n",
       "      <td>Everyone</td>\n",
       "      <td>Business</td>\n",
       "      <td>2018-07-24</td>\n",
       "      <td>2.19.0.204537701</td>\n",
       "      <td>4.4 and up</td>\n",
       "      <td>24</td>\n",
       "      <td>7</td>\n",
       "      <td>2018</td>\n",
       "    </tr>\n",
       "    <tr>\n",
       "      <th>256</th>\n",
       "      <td>ZOOM Cloud Meetings</td>\n",
       "      <td>BUSINESS</td>\n",
       "      <td>4.4</td>\n",
       "      <td>31614</td>\n",
       "      <td>37000.0</td>\n",
       "      <td>10000000</td>\n",
       "      <td>Free</td>\n",
       "      <td>0.0</td>\n",
       "      <td>Everyone</td>\n",
       "      <td>Business</td>\n",
       "      <td>2018-07-20</td>\n",
       "      <td>4.1.28165.0716</td>\n",
       "      <td>4.0 and up</td>\n",
       "      <td>20</td>\n",
       "      <td>7</td>\n",
       "      <td>2018</td>\n",
       "    </tr>\n",
       "    <tr>\n",
       "      <th>261</th>\n",
       "      <td>join.me - Simple Meetings</td>\n",
       "      <td>BUSINESS</td>\n",
       "      <td>4.0</td>\n",
       "      <td>6989</td>\n",
       "      <td>NaN</td>\n",
       "      <td>1000000</td>\n",
       "      <td>Free</td>\n",
       "      <td>0.0</td>\n",
       "      <td>Everyone</td>\n",
       "      <td>Business</td>\n",
       "      <td>2018-07-16</td>\n",
       "      <td>4.3.0.508</td>\n",
       "      <td>4.4 and up</td>\n",
       "      <td>16</td>\n",
       "      <td>7</td>\n",
       "      <td>2018</td>\n",
       "    </tr>\n",
       "    <tr>\n",
       "      <th>...</th>\n",
       "      <td>...</td>\n",
       "      <td>...</td>\n",
       "      <td>...</td>\n",
       "      <td>...</td>\n",
       "      <td>...</td>\n",
       "      <td>...</td>\n",
       "      <td>...</td>\n",
       "      <td>...</td>\n",
       "      <td>...</td>\n",
       "      <td>...</td>\n",
       "      <td>...</td>\n",
       "      <td>...</td>\n",
       "      <td>...</td>\n",
       "      <td>...</td>\n",
       "      <td>...</td>\n",
       "      <td>...</td>\n",
       "    </tr>\n",
       "    <tr>\n",
       "      <th>10715</th>\n",
       "      <td>FarmersOnly Dating</td>\n",
       "      <td>DATING</td>\n",
       "      <td>3.0</td>\n",
       "      <td>1145</td>\n",
       "      <td>1.4</td>\n",
       "      <td>100000</td>\n",
       "      <td>Free</td>\n",
       "      <td>0.0</td>\n",
       "      <td>Mature 17+</td>\n",
       "      <td>Dating</td>\n",
       "      <td>2016-02-25</td>\n",
       "      <td>2.2</td>\n",
       "      <td>4.0 and up</td>\n",
       "      <td>25</td>\n",
       "      <td>2</td>\n",
       "      <td>2016</td>\n",
       "    </tr>\n",
       "    <tr>\n",
       "      <th>10720</th>\n",
       "      <td>Firefox Focus: The privacy browser</td>\n",
       "      <td>COMMUNICATION</td>\n",
       "      <td>4.4</td>\n",
       "      <td>36981</td>\n",
       "      <td>4.0</td>\n",
       "      <td>1000000</td>\n",
       "      <td>Free</td>\n",
       "      <td>0.0</td>\n",
       "      <td>Everyone</td>\n",
       "      <td>Communication</td>\n",
       "      <td>2018-07-06</td>\n",
       "      <td>5.2</td>\n",
       "      <td>5.0 and up</td>\n",
       "      <td>6</td>\n",
       "      <td>7</td>\n",
       "      <td>2018</td>\n",
       "    </tr>\n",
       "    <tr>\n",
       "      <th>10730</th>\n",
       "      <td>FP Notebook</td>\n",
       "      <td>MEDICAL</td>\n",
       "      <td>4.5</td>\n",
       "      <td>410</td>\n",
       "      <td>60000.0</td>\n",
       "      <td>50000</td>\n",
       "      <td>Free</td>\n",
       "      <td>0.0</td>\n",
       "      <td>Everyone</td>\n",
       "      <td>Medical</td>\n",
       "      <td>2018-03-24</td>\n",
       "      <td>2.1.0.372</td>\n",
       "      <td>4.4 and up</td>\n",
       "      <td>24</td>\n",
       "      <td>3</td>\n",
       "      <td>2018</td>\n",
       "    </tr>\n",
       "    <tr>\n",
       "      <th>10753</th>\n",
       "      <td>Slickdeals: Coupons &amp; Shopping</td>\n",
       "      <td>SHOPPING</td>\n",
       "      <td>4.5</td>\n",
       "      <td>33599</td>\n",
       "      <td>12000.0</td>\n",
       "      <td>1000000</td>\n",
       "      <td>Free</td>\n",
       "      <td>0.0</td>\n",
       "      <td>Everyone</td>\n",
       "      <td>Shopping</td>\n",
       "      <td>2018-07-30</td>\n",
       "      <td>3.9</td>\n",
       "      <td>4.4 and up</td>\n",
       "      <td>30</td>\n",
       "      <td>7</td>\n",
       "      <td>2018</td>\n",
       "    </tr>\n",
       "    <tr>\n",
       "      <th>10768</th>\n",
       "      <td>AAFP</td>\n",
       "      <td>MEDICAL</td>\n",
       "      <td>3.8</td>\n",
       "      <td>63</td>\n",
       "      <td>24000.0</td>\n",
       "      <td>10000</td>\n",
       "      <td>Free</td>\n",
       "      <td>0.0</td>\n",
       "      <td>Everyone</td>\n",
       "      <td>Medical</td>\n",
       "      <td>2018-06-22</td>\n",
       "      <td>2.3.1</td>\n",
       "      <td>5.0 and up</td>\n",
       "      <td>22</td>\n",
       "      <td>6</td>\n",
       "      <td>2018</td>\n",
       "    </tr>\n",
       "  </tbody>\n",
       "</table>\n",
       "<p>1181 rows × 16 columns</p>\n",
       "</div>"
      ],
      "text/plain": [
       "                                      App       Category  Rating  Reviews  \\\n",
       "229          Quick PDF Scanner + OCR FREE       BUSINESS     4.2    80805   \n",
       "236                                   Box       BUSINESS     4.2   159872   \n",
       "239                    Google My Business       BUSINESS     4.4    70991   \n",
       "256                   ZOOM Cloud Meetings       BUSINESS     4.4    31614   \n",
       "261             join.me - Simple Meetings       BUSINESS     4.0     6989   \n",
       "...                                   ...            ...     ...      ...   \n",
       "10715                  FarmersOnly Dating         DATING     3.0     1145   \n",
       "10720  Firefox Focus: The privacy browser  COMMUNICATION     4.4    36981   \n",
       "10730                         FP Notebook        MEDICAL     4.5      410   \n",
       "10753      Slickdeals: Coupons & Shopping       SHOPPING     4.5    33599   \n",
       "10768                                AAFP        MEDICAL     3.8       63   \n",
       "\n",
       "          Size  Installs  Type  Price Content Rating         Genres  \\\n",
       "229        NaN   5000000  Free    0.0       Everyone       Business   \n",
       "236        NaN  10000000  Free    0.0       Everyone       Business   \n",
       "239        NaN   5000000  Free    0.0       Everyone       Business   \n",
       "256    37000.0  10000000  Free    0.0       Everyone       Business   \n",
       "261        NaN   1000000  Free    0.0       Everyone       Business   \n",
       "...        ...       ...   ...    ...            ...            ...   \n",
       "10715      1.4    100000  Free    0.0     Mature 17+         Dating   \n",
       "10720      4.0   1000000  Free    0.0       Everyone  Communication   \n",
       "10730  60000.0     50000  Free    0.0       Everyone        Medical   \n",
       "10753  12000.0   1000000  Free    0.0       Everyone       Shopping   \n",
       "10768  24000.0     10000  Free    0.0       Everyone        Medical   \n",
       "\n",
       "      Last Updated         Current Ver         Android Ver  Day  Month  Year  \n",
       "229     2018-02-26  Varies with device        4.0.3 and up   26      2  2018  \n",
       "236     2018-07-31  Varies with device  Varies with device   31      7  2018  \n",
       "239     2018-07-24    2.19.0.204537701          4.4 and up   24      7  2018  \n",
       "256     2018-07-20      4.1.28165.0716          4.0 and up   20      7  2018  \n",
       "261     2018-07-16           4.3.0.508          4.4 and up   16      7  2018  \n",
       "...            ...                 ...                 ...  ...    ...   ...  \n",
       "10715   2016-02-25                 2.2          4.0 and up   25      2  2016  \n",
       "10720   2018-07-06                 5.2          5.0 and up    6      7  2018  \n",
       "10730   2018-03-24           2.1.0.372          4.4 and up   24      3  2018  \n",
       "10753   2018-07-30                 3.9          4.4 and up   30      7  2018  \n",
       "10768   2018-06-22               2.3.1          5.0 and up   22      6  2018  \n",
       "\n",
       "[1181 rows x 16 columns]"
      ]
     },
     "execution_count": 103,
     "metadata": {},
     "output_type": "execute_result"
    }
   ],
   "source": [
    "data_frame_clean[data_frame_clean.duplicated(\"App\")] #dersek bize duplice eden datalari getirecek-->1181 taneymis"
   ]
  },
  {
   "cell_type": "markdown",
   "id": "f95921fa-1b90-47d4-8a1d-737551a9211e",
   "metadata": {},
   "source": [
    "#### drop_duplicated kullanarak duplicate eden datalari silebiliriz. "
   ]
  },
  {
   "cell_type": "code",
   "execution_count": 104,
   "id": "564a34ea-25a4-4e58-9d64-f313aaff8473",
   "metadata": {},
   "outputs": [],
   "source": [
    "data_frame_clean=data_frame_clean.drop_duplicates(subset=[\"App\"], keep=\"first\") #keep-->first ilk gordugunu tut demek. bunu degistirebilin istersen"
   ]
  },
  {
   "cell_type": "code",
   "execution_count": 105,
   "id": "1f50e5e5-2257-4d48-9a0f-06a1ece66432",
   "metadata": {},
   "outputs": [
    {
     "name": "stdout",
     "output_type": "stream",
     "text": [
      "<class 'pandas.core.frame.DataFrame'>\n",
      "Index: 9659 entries, 0 to 10840\n",
      "Data columns (total 16 columns):\n",
      " #   Column          Non-Null Count  Dtype         \n",
      "---  ------          --------------  -----         \n",
      " 0   App             9659 non-null   object        \n",
      " 1   Category        9659 non-null   object        \n",
      " 2   Rating          8196 non-null   float64       \n",
      " 3   Reviews         9659 non-null   int64         \n",
      " 4   Size            8432 non-null   float64       \n",
      " 5   Installs        9659 non-null   int64         \n",
      " 6   Type            9658 non-null   object        \n",
      " 7   Price           9659 non-null   float64       \n",
      " 8   Content Rating  9659 non-null   object        \n",
      " 9   Genres          9659 non-null   object        \n",
      " 10  Last Updated    9659 non-null   datetime64[ns]\n",
      " 11  Current Ver     9651 non-null   object        \n",
      " 12  Android Ver     9657 non-null   object        \n",
      " 13  Day             9659 non-null   int32         \n",
      " 14  Month           9659 non-null   int32         \n",
      " 15  Year            9659 non-null   int32         \n",
      "dtypes: datetime64[ns](1), float64(3), int32(3), int64(2), object(7)\n",
      "memory usage: 1.1+ MB\n"
     ]
    }
   ],
   "source": [
    "data_frame_clean.info() #dersek goruldugu uzere 9659 dataya dusmus oldu"
   ]
  },
  {
   "cell_type": "markdown",
   "id": "f3fae9a3-15c6-4a86-be42-8cd3972a96f9",
   "metadata": {},
   "source": [
    "#### simdi bakarsak bazi datalarin type'leri int bazilari float filan ama bazilari object. <br>simdi biz eger App, Category gibi columnlarin datatype'ne bakarsak bize -->___'O'__ ciktisini vereccektir"
   ]
  },
  {
   "cell_type": "code",
   "execution_count": 106,
   "id": "40ef4285-e01d-45ac-ae2f-8ba1e2f8302c",
   "metadata": {},
   "outputs": [
    {
     "data": {
      "text/plain": [
       "dtype('O')"
      ]
     },
     "execution_count": 106,
     "metadata": {},
     "output_type": "execute_result"
    }
   ],
   "source": [
    "data_frame_clean[\"App\"].dtype #goruldugu gibi bunlar 'O' verir"
   ]
  },
  {
   "cell_type": "markdown",
   "id": "6192f64e-fbd2-431d-8069-52c164edf03c",
   "metadata": {},
   "source": [
    "#### biz iste simdi numeric degerleri ve olmayan degerleri ayirip grafigini cizdirebiliriz.<br><br> soyle kullanabiliriz-->numeric_degerler=[\"Raiting\",\"Reviews\",..] seklinde de yazabilirz ama bir alternatif daha var"
   ]
  },
  {
   "cell_type": "code",
   "execution_count": 107,
   "id": "52af428c-351b-49cf-9895-2f789423d0cc",
   "metadata": {},
   "outputs": [],
   "source": [
    "numeric_degerler=[feature for feature in data_frame_clean.columns if data_frame_clean[feature].dtype != 'O' ]\n",
    "categoric_degerler=[feature for feature in data_frame_clean.columns if data_frame_clean[feature].dtype == 'O' ] \n",
    "\n",
    "#datatype'i != 'O' diyerek geriye kalan int float gibi degerleri aliyoruz"
   ]
  },
  {
   "cell_type": "code",
   "execution_count": 108,
   "id": "9b1add8b-c76a-49bf-95f5-81a477e1a3a5",
   "metadata": {},
   "outputs": [
    {
     "name": "stdout",
     "output_type": "stream",
     "text": [
      "['Rating', 'Reviews', 'Size', 'Installs', 'Price', 'Last Updated', 'Day', 'Month', 'Year'] \n",
      " ['App', 'Category', 'Type', 'Content Rating', 'Genres', 'Current Ver', 'Android Ver']\n"
     ]
    }
   ],
   "source": [
    "print(numeric_degerler,\"\\n\",categoric_degerler) #gordugumuz gibi tam da istedigimiz sekilde ayirmis"
   ]
  },
  {
   "cell_type": "code",
   "execution_count": 109,
   "id": "adb9433c-1f73-4db0-9b8c-949fb3bd089a",
   "metadata": {},
   "outputs": [
    {
     "data": {
      "image/png": "[encoded data removed]",
      "text/plain": [
       "<Figure size 1500x1100 with 9 Axes>"
      ]
     },
     "metadata": {},
     "output_type": "display_data"
    }
   ],
   "source": [
    "plt.figure(figsize=(15,11))\n",
    "\n",
    "for i in range(0, len(numeric_degerler)):\n",
    "    plt.subplot(5,4,i+1)\n",
    "    sns.kdeplot(x=data_frame_clean[numeric_degerler[i]],  color=\"black\", fill=True)\n",
    "    plt.xlabel(numeric_degerler[i])\n",
    "    plt.tight_layout()\n",
    "\n",
    "plt.show()"
   ]
  },
  {
   "cell_type": "code",
   "execution_count": 110,
   "id": "6d7ef825-7654-4858-8b38-3e968c07bb39",
   "metadata": {},
   "outputs": [
    {
     "data": {
      "image/png": "[encoded data removed]",
      "text/plain": [
       "<Figure size 1500x500 with 2 Axes>"
      ]
     },
     "metadata": {},
     "output_type": "display_data"
    }
   ],
   "source": [
    "plt.figure(figsize=(15,5))\n",
    "\n",
    "secilenler = [\"Type\",\"Content Rating\"]\n",
    "\n",
    "for i in range(0, len(secilenler)):\n",
    "    plt.subplot(1,2,i+1)\n",
    "    sns.countplot(x=data_frame_clean[secilenler[i]],  color=\"black\", fill=True)\n",
    "    plt.xlabel(secilenler[i])\n",
    "    plt.tight_layout()\n",
    "\n",
    "plt.show()"
   ]
  },
  {
   "cell_type": "code",
   "execution_count": 111,
   "id": "a16aa134-b5c7-4d1a-92cc-9bcc2a03cf32",
   "metadata": {},
   "outputs": [
    {
     "data": {
      "text/plain": [
       "Category\n",
       "FAMILY                 1832\n",
       "GAME                    959\n",
       "TOOLS                   827\n",
       "BUSINESS                420\n",
       "MEDICAL                 395\n",
       "PERSONALIZATION         376\n",
       "PRODUCTIVITY            374\n",
       "LIFESTYLE               369\n",
       "FINANCE                 345\n",
       "SPORTS                  325\n",
       "COMMUNICATION           315\n",
       "HEALTH_AND_FITNESS      288\n",
       "PHOTOGRAPHY             281\n",
       "NEWS_AND_MAGAZINES      254\n",
       "SOCIAL                  239\n",
       "BOOKS_AND_REFERENCE     222\n",
       "TRAVEL_AND_LOCAL        219\n",
       "SHOPPING                202\n",
       "DATING                  171\n",
       "VIDEO_PLAYERS           163\n",
       "MAPS_AND_NAVIGATION     131\n",
       "EDUCATION               119\n",
       "FOOD_AND_DRINK          112\n",
       "ENTERTAINMENT           102\n",
       "AUTO_AND_VEHICLES        85\n",
       "LIBRARIES_AND_DEMO       84\n",
       "WEATHER                  79\n",
       "HOUSE_AND_HOME           74\n",
       "ART_AND_DESIGN           64\n",
       "EVENTS                   64\n",
       "PARENTING                60\n",
       "COMICS                   56\n",
       "BEAUTY                   53\n",
       "Name: count, dtype: int64"
      ]
     },
     "execution_count": 111,
     "metadata": {},
     "output_type": "execute_result"
    }
   ],
   "source": [
    "data_frame_clean[\"Category\"].value_counts()"
   ]
  },
  {
   "cell_type": "markdown",
   "id": "1e720250-43c7-43a9-b609-9d8e5ac2c077",
   "metadata": {},
   "source": [
    "### top app categories by installment"
   ]
  },
  {
   "cell_type": "code",
   "execution_count": 112,
   "id": "399eea81-a2f1-4ae3-a75c-3756454d2a7a",
   "metadata": {},
   "outputs": [
    {
     "data": {
      "text/plain": [
       "Category\n",
       "GAME                   13878924415\n",
       "COMMUNICATION          11038276251\n",
       "TOOLS                   8001771915\n",
       "PRODUCTIVITY            5793091369\n",
       "SOCIAL                  5487867902\n",
       "PHOTOGRAPHY             4649147655\n",
       "FAMILY                  4427941505\n",
       "VIDEO_PLAYERS           3926902720\n",
       "TRAVEL_AND_LOCAL        2894887146\n",
       "NEWS_AND_MAGAZINES      2369217760\n",
       "ENTERTAINMENT           2113660000\n",
       "BOOKS_AND_REFERENCE     1665969576\n",
       "PERSONALIZATION         1532494782\n",
       "SHOPPING                1400348785\n",
       "HEALTH_AND_FITNESS      1144022512\n",
       "SPORTS                  1096474498\n",
       "BUSINESS                 697164865\n",
       "LIFESTYLE                503823539\n",
       "MAPS_AND_NAVIGATION      503281890\n",
       "FINANCE                  455348734\n",
       "WEATHER                  361100520\n",
       "EDUCATION                352952000\n",
       "FOOD_AND_DRINK           211798751\n",
       "DATING                   140926107\n",
       "ART_AND_DESIGN           114338100\n",
       "HOUSE_AND_HOME            97212461\n",
       "AUTO_AND_VEHICLES         53130211\n",
       "LIBRARIES_AND_DEMO        52995910\n",
       "COMICS                    44981150\n",
       "MEDICAL                   38193177\n",
       "PARENTING                 31521110\n",
       "BEAUTY                    27197050\n",
       "EVENTS                    15973161\n",
       "Name: Installs, dtype: int64"
      ]
     },
     "execution_count": 112,
     "metadata": {},
     "output_type": "execute_result"
    }
   ],
   "source": [
    "data_frame_clean.groupby(\"Category\")[\"Installs\"].sum().sort_values(ascending=False)"
   ]
  },
  {
   "cell_type": "markdown",
   "id": "169b505d-bd0d-47e1-b8da-e3f2d7bca7fb",
   "metadata": {},
   "source": [
    "##### boyle bakildigi zaman tabi sayilar cok buyuk. Karsilastirma yapmaya pek musait degil"
   ]
  },
  {
   "cell_type": "code",
   "execution_count": 113,
   "id": "bc133125-dce6-4f0e-a34a-4103353395d7",
   "metadata": {},
   "outputs": [
    {
     "data": {
      "text/plain": [
       "Category\n",
       "GAME                   13878.924415\n",
       "COMMUNICATION          11038.276251\n",
       "TOOLS                   8001.771915\n",
       "PRODUCTIVITY            5793.091369\n",
       "SOCIAL                  5487.867902\n",
       "PHOTOGRAPHY             4649.147655\n",
       "FAMILY                  4427.941505\n",
       "VIDEO_PLAYERS           3926.902720\n",
       "TRAVEL_AND_LOCAL        2894.887146\n",
       "NEWS_AND_MAGAZINES      2369.217760\n",
       "ENTERTAINMENT           2113.660000\n",
       "BOOKS_AND_REFERENCE     1665.969576\n",
       "PERSONALIZATION         1532.494782\n",
       "SHOPPING                1400.348785\n",
       "HEALTH_AND_FITNESS      1144.022512\n",
       "SPORTS                  1096.474498\n",
       "BUSINESS                 697.164865\n",
       "LIFESTYLE                503.823539\n",
       "MAPS_AND_NAVIGATION      503.281890\n",
       "FINANCE                  455.348734\n",
       "WEATHER                  361.100520\n",
       "EDUCATION                352.952000\n",
       "FOOD_AND_DRINK           211.798751\n",
       "DATING                   140.926107\n",
       "ART_AND_DESIGN           114.338100\n",
       "HOUSE_AND_HOME            97.212461\n",
       "AUTO_AND_VEHICLES         53.130211\n",
       "LIBRARIES_AND_DEMO        52.995910\n",
       "COMICS                    44.981150\n",
       "MEDICAL                   38.193177\n",
       "PARENTING                 31.521110\n",
       "BEAUTY                    27.197050\n",
       "EVENTS                    15.973161\n",
       "Name: Installs, dtype: float64"
      ]
     },
     "execution_count": 113,
     "metadata": {},
     "output_type": "execute_result"
    }
   ],
   "source": [
    "data_frame_clean.groupby(\"Category\")[\"Installs\"].sum().sort_values(ascending=False)/1000000"
   ]
  },
  {
   "cell_type": "markdown",
   "id": "10cb7160-6c81-44f1-869f-d3970e209825",
   "metadata": {},
   "source": [
    "##### boylelikle karsilastirma yapabilmek icin kucultmus olduk"
   ]
  },
  {
   "cell_type": "markdown",
   "id": "8f03d406-0b41-4553-a0b8-56cac048f171",
   "metadata": {},
   "source": [
    "### ilk 10 degeri install'e gore diz"
   ]
  },
  {
   "cell_type": "code",
   "execution_count": 114,
   "id": "08cffcc7-10f5-480e-bb03-8c593efc85dc",
   "metadata": {},
   "outputs": [],
   "source": [
    "df2=(data_frame_clean.groupby(\"Category\")[\"Installs\"].sum().sort_values(ascending=False)/1000000).head(10).reset_index()"
   ]
  },
  {
   "cell_type": "code",
   "execution_count": 115,
   "id": "95c03a4c-7b39-45d6-89c0-14a0f0124174",
   "metadata": {},
   "outputs": [
    {
     "data": {
      "text/html": [
       "<div>\n",
       "<style scoped>\n",
       "    .dataframe tbody tr th:only-of-type {\n",
       "        vertical-align: middle;\n",
       "    }\n",
       "\n",
       "    .dataframe tbody tr th {\n",
       "        vertical-align: top;\n",
       "    }\n",
       "\n",
       "    .dataframe thead th {\n",
       "        text-align: right;\n",
       "    }\n",
       "</style>\n",
       "<table border=\"1\" class=\"dataframe\">\n",
       "  <thead>\n",
       "    <tr style=\"text-align: right;\">\n",
       "      <th></th>\n",
       "      <th>Category</th>\n",
       "      <th>Installs</th>\n",
       "    </tr>\n",
       "  </thead>\n",
       "  <tbody>\n",
       "    <tr>\n",
       "      <th>0</th>\n",
       "      <td>GAME</td>\n",
       "      <td>13878.924415</td>\n",
       "    </tr>\n",
       "    <tr>\n",
       "      <th>1</th>\n",
       "      <td>COMMUNICATION</td>\n",
       "      <td>11038.276251</td>\n",
       "    </tr>\n",
       "    <tr>\n",
       "      <th>2</th>\n",
       "      <td>TOOLS</td>\n",
       "      <td>8001.771915</td>\n",
       "    </tr>\n",
       "    <tr>\n",
       "      <th>3</th>\n",
       "      <td>PRODUCTIVITY</td>\n",
       "      <td>5793.091369</td>\n",
       "    </tr>\n",
       "    <tr>\n",
       "      <th>4</th>\n",
       "      <td>SOCIAL</td>\n",
       "      <td>5487.867902</td>\n",
       "    </tr>\n",
       "    <tr>\n",
       "      <th>5</th>\n",
       "      <td>PHOTOGRAPHY</td>\n",
       "      <td>4649.147655</td>\n",
       "    </tr>\n",
       "    <tr>\n",
       "      <th>6</th>\n",
       "      <td>FAMILY</td>\n",
       "      <td>4427.941505</td>\n",
       "    </tr>\n",
       "    <tr>\n",
       "      <th>7</th>\n",
       "      <td>VIDEO_PLAYERS</td>\n",
       "      <td>3926.902720</td>\n",
       "    </tr>\n",
       "    <tr>\n",
       "      <th>8</th>\n",
       "      <td>TRAVEL_AND_LOCAL</td>\n",
       "      <td>2894.887146</td>\n",
       "    </tr>\n",
       "    <tr>\n",
       "      <th>9</th>\n",
       "      <td>NEWS_AND_MAGAZINES</td>\n",
       "      <td>2369.217760</td>\n",
       "    </tr>\n",
       "  </tbody>\n",
       "</table>\n",
       "</div>"
      ],
      "text/plain": [
       "             Category      Installs\n",
       "0                GAME  13878.924415\n",
       "1       COMMUNICATION  11038.276251\n",
       "2               TOOLS   8001.771915\n",
       "3        PRODUCTIVITY   5793.091369\n",
       "4              SOCIAL   5487.867902\n",
       "5         PHOTOGRAPHY   4649.147655\n",
       "6              FAMILY   4427.941505\n",
       "7       VIDEO_PLAYERS   3926.902720\n",
       "8    TRAVEL_AND_LOCAL   2894.887146\n",
       "9  NEWS_AND_MAGAZINES   2369.217760"
      ]
     },
     "execution_count": 115,
     "metadata": {},
     "output_type": "execute_result"
    }
   ],
   "source": [
    "df2"
   ]
  },
  {
   "cell_type": "code",
   "execution_count": 116,
   "id": "d3dd3ffb-ee23-4cd8-a172-0ec7dd868132",
   "metadata": {},
   "outputs": [
    {
     "data": {
      "image/png": "[encoded data removed]",
      "text/plain": [
       "<Figure size 1400x600 with 1 Axes>"
      ]
     },
     "metadata": {},
     "output_type": "display_data"
    }
   ],
   "source": [
    "plt.figure(figsize=(14,6))\n",
    "sns.barplot(x=\"Installs\", y=\"Category\", data=df2)\n",
    "plt.xlabel(\"Install/1000000\")\n",
    "plt.show()"
   ]
  },
  {
   "cell_type": "markdown",
   "id": "047150ae-0ff0-4a26-bd61-b425dd17ee01",
   "metadata": {},
   "source": [
    "### ilk 5 uygulama in this categories"
   ]
  },
  {
   "cell_type": "code",
   "execution_count": 117,
   "id": "9a443385-a9b1-40fc-973c-aaa648f22ff1",
   "metadata": {},
   "outputs": [
    {
     "data": {
      "text/plain": [
       "Category        App                                                                              \n",
       "ART_AND_DESIGN  350 Diy Room Decor Ideas                                                                10000\n",
       "                3D Color Pixel by Number - Sandbox Art Coloring                                        100000\n",
       "                AJ Styles HD Wallpapers                                                                  5000\n",
       "                AJ Styles Wallpaper 2018 - AJ Styles HD Wallpaper                                        1000\n",
       "                Ai illustrator viewer                                                                  100000\n",
       "                                                                                                       ...   \n",
       "WEATHER         Yahoo Weather                                                                        10000000\n",
       "                Yahoo! Weather for SH Forecast for understanding the approach of rain clouds Free     1000000\n",
       "                Yandex.Weather                                                                       10000000\n",
       "                weather - weather forecast                                                            1000000\n",
       "                wetter.com - Weather and Radar                                                       10000000\n",
       "Name: Installs, Length: 9659, dtype: int64"
      ]
     },
     "execution_count": 117,
     "metadata": {},
     "output_type": "execute_result"
    }
   ],
   "source": [
    "data_frame_clean.groupby([\"Category\",\"App\"])[\"Installs\"].sum()"
   ]
  },
  {
   "cell_type": "markdown",
   "id": "0747314e-b21b-4ce5-ae4e-9ba679180f2e",
   "metadata": {},
   "source": [
    "##### goruldugu uzere hem category hem de app'e gore install verdi ve cok fazla data oldu "
   ]
  },
  {
   "cell_type": "code",
   "execution_count": 118,
   "id": "3ef169a6-823c-458f-b251-d607b01d83b6",
   "metadata": {},
   "outputs": [],
   "source": [
    "df_uyg_category=data_frame_clean.groupby([\"Category\",\"App\"])[\"Installs\"].sum().reset_index()#direyek bunu bi df'e atayalim"
   ]
  },
  {
   "cell_type": "code",
   "execution_count": 119,
   "id": "cb109357-2e0b-40d8-aa19-92360de32434",
   "metadata": {},
   "outputs": [],
   "source": [
    "df_uyg_category=df_uyg_category.sort_values(\"Installs\", ascending=False)"
   ]
  },
  {
   "cell_type": "code",
   "execution_count": 120,
   "id": "9fcd3bbe-9117-4551-9cba-ca602f454f18",
   "metadata": {},
   "outputs": [
    {
     "data": {
      "text/html": [
       "<div>\n",
       "<style scoped>\n",
       "    .dataframe tbody tr th:only-of-type {\n",
       "        vertical-align: middle;\n",
       "    }\n",
       "\n",
       "    .dataframe tbody tr th {\n",
       "        vertical-align: top;\n",
       "    }\n",
       "\n",
       "    .dataframe thead th {\n",
       "        text-align: right;\n",
       "    }\n",
       "</style>\n",
       "<table border=\"1\" class=\"dataframe\">\n",
       "  <thead>\n",
       "    <tr style=\"text-align: right;\">\n",
       "      <th></th>\n",
       "      <th>Category</th>\n",
       "      <th>App</th>\n",
       "      <th>Installs</th>\n",
       "    </tr>\n",
       "  </thead>\n",
       "  <tbody>\n",
       "    <tr>\n",
       "      <th>9342</th>\n",
       "      <td>TRAVEL_AND_LOCAL</td>\n",
       "      <td>Maps - Navigate &amp; Explore</td>\n",
       "      <td>1000000000</td>\n",
       "    </tr>\n",
       "    <tr>\n",
       "      <th>1534</th>\n",
       "      <td>ENTERTAINMENT</td>\n",
       "      <td>Google Play Games</td>\n",
       "      <td>1000000000</td>\n",
       "    </tr>\n",
       "    <tr>\n",
       "      <th>9496</th>\n",
       "      <td>VIDEO_PLAYERS</td>\n",
       "      <td>Google Play Movies &amp; TV</td>\n",
       "      <td>1000000000</td>\n",
       "    </tr>\n",
       "    <tr>\n",
       "      <th>6388</th>\n",
       "      <td>NEWS_AND_MAGAZINES</td>\n",
       "      <td>Google News</td>\n",
       "      <td>1000000000</td>\n",
       "    </tr>\n",
       "    <tr>\n",
       "      <th>1145</th>\n",
       "      <td>COMMUNICATION</td>\n",
       "      <td>Skype - free IM &amp; video calls</td>\n",
       "      <td>1000000000</td>\n",
       "    </tr>\n",
       "    <tr>\n",
       "      <th>...</th>\n",
       "      <td>...</td>\n",
       "      <td>...</td>\n",
       "      <td>...</td>\n",
       "    </tr>\n",
       "    <tr>\n",
       "      <th>547</th>\n",
       "      <td>BUSINESS</td>\n",
       "      <td>CX Network</td>\n",
       "      <td>0</td>\n",
       "    </tr>\n",
       "    <tr>\n",
       "      <th>3661</th>\n",
       "      <td>FINANCE</td>\n",
       "      <td>Eu Sou Rico</td>\n",
       "      <td>0</td>\n",
       "    </tr>\n",
       "    <tr>\n",
       "      <th>2211</th>\n",
       "      <td>FAMILY</td>\n",
       "      <td>Command &amp; Conquer: Rivals</td>\n",
       "      <td>0</td>\n",
       "    </tr>\n",
       "    <tr>\n",
       "      <th>3662</th>\n",
       "      <td>FINANCE</td>\n",
       "      <td>Eu sou Rico</td>\n",
       "      <td>0</td>\n",
       "    </tr>\n",
       "    <tr>\n",
       "      <th>5579</th>\n",
       "      <td>LIFESTYLE</td>\n",
       "      <td>I'm Rich/Eu sou Rico/أنا غني/我很有錢</td>\n",
       "      <td>0</td>\n",
       "    </tr>\n",
       "  </tbody>\n",
       "</table>\n",
       "<p>9659 rows × 3 columns</p>\n",
       "</div>"
      ],
      "text/plain": [
       "                Category                                App    Installs\n",
       "9342    TRAVEL_AND_LOCAL          Maps - Navigate & Explore  1000000000\n",
       "1534       ENTERTAINMENT                  Google Play Games  1000000000\n",
       "9496       VIDEO_PLAYERS            Google Play Movies & TV  1000000000\n",
       "6388  NEWS_AND_MAGAZINES                        Google News  1000000000\n",
       "1145       COMMUNICATION      Skype - free IM & video calls  1000000000\n",
       "...                  ...                                ...         ...\n",
       "547             BUSINESS                         CX Network           0\n",
       "3661             FINANCE                        Eu Sou Rico           0\n",
       "2211              FAMILY          Command & Conquer: Rivals           0\n",
       "3662             FINANCE                        Eu sou Rico           0\n",
       "5579           LIFESTYLE  I'm Rich/Eu sou Rico/أنا غني/我很有錢           0\n",
       "\n",
       "[9659 rows x 3 columns]"
      ]
     },
     "execution_count": 120,
     "metadata": {},
     "output_type": "execute_result"
    }
   ],
   "source": [
    "df_uyg_category"
   ]
  },
  {
   "cell_type": "markdown",
   "id": "2ca4b34e-d51e-49c1-991c-11b3fbee5bf8",
   "metadata": {},
   "source": [
    "#### biz ilk 5 category'e giren categorilere ait ilk 5 app'i istiyoruz."
   ]
  },
  {
   "cell_type": "code",
   "execution_count": 121,
   "id": "17ed3a6d-e4c9-4f87-bbda-c02824f33418",
   "metadata": {},
   "outputs": [],
   "source": [
    "apps=[\"GAME\",\"COMMUNICATION\",\"TOOLS\",\"PRODUCTIVITY\",\"SOCIAL\"]\n",
    "\n",
    "for i, app in enumerate(apps):\n",
    "    df3=df_uyg_category[df_uyg_category.Category==app]\n",
    "\n",
    "#bu ilk basta \"GAME\" sonra \"COMMUNICATION\" diye diye en son \"SOCIAL\" icin olusturur ve sadece SOCIAL'DEN olanlari alir.\n",
    "#yani \"GAME\" icin yapiyor siliyor sonra \"COMMUNICATION\" icin yapiyor siliyor bu sekilde gidiyor"
   ]
  },
  {
   "cell_type": "code",
   "execution_count": 122,
   "id": "004bd085-fe7f-4068-84e7-14ee4459ac24",
   "metadata": {},
   "outputs": [
    {
     "name": "stdout",
     "output_type": "stream",
     "text": [
      "     Category                       App    Installs\n",
      "7883   SOCIAL                  Facebook  1000000000\n",
      "7908   SOCIAL                   Google+  1000000000\n",
      "7919   SOCIAL                 Instagram  1000000000\n",
      "7885   SOCIAL             Facebook Lite   500000000\n",
      "7984   SOCIAL                  Snapchat   500000000\n",
      "...       ...                       ...         ...\n",
      "7838   SOCIAL  C.P. CERVANTES (TOBARRA)           5\n",
      "7823   SOCIAL                BH Connect           1\n",
      "7813   SOCIAL                 Amleen Ey           1\n",
      "7808   SOCIAL   Ak Parti Yardım Toplama           0\n",
      "7963   SOCIAL             Pekalongan CJ           0\n",
      "\n",
      "[239 rows x 3 columns] \n",
      "\n",
      "      Category            App    Installs\n",
      "7883   SOCIAL       Facebook  1000000000\n",
      "7908   SOCIAL        Google+  1000000000\n",
      "7919   SOCIAL      Instagram  1000000000\n",
      "7885   SOCIAL  Facebook Lite   500000000\n",
      "7984   SOCIAL       Snapchat   500000000\n"
     ]
    }
   ],
   "source": [
    "print(df3,\"\\n\\n\",df3.head(5))"
   ]
  },
  {
   "cell_type": "code",
   "execution_count": 123,
   "id": "5f12a304-d5dc-487e-bf25-727d1d0f5038",
   "metadata": {},
   "outputs": [
    {
     "name": "stdout",
     "output_type": "stream",
     "text": [
      "     Category               App    Installs\n",
      "4773     GAME    Subway Surfers  1000000000\n",
      "4802     GAME      Temple Run 2   500000000\n",
      "4167     GAME  Candy Crush Saga   500000000\n",
      "4580     GAME    My Talking Tom   500000000\n",
      "4628     GAME               Pou   500000000\n",
      "           Category                                       App    Installs\n",
      "1145  COMMUNICATION             Skype - free IM & video calls  1000000000\n",
      "1181  COMMUNICATION                        WhatsApp Messenger  1000000000\n",
      "1099  COMMUNICATION  Messenger – Text and Video Chat for Free  1000000000\n",
      "1058  COMMUNICATION              Google Chrome: Fast & Secure  1000000000\n",
      "1055  COMMUNICATION                                     Gmail  1000000000\n",
      "     Category                                                App    Installs\n",
      "8837    TOOLS                                             Google  1000000000\n",
      "8613    TOOLS            Clean Master- Space Cleaner & Antivirus   500000000\n",
      "8842    TOOLS                                   Google Translate   500000000\n",
      "8835    TOOLS                       Gboard - the Google Keyboard   500000000\n",
      "9038    TOOLS  Security Master - Antivirus, VPN, AppLock, Boo...   500000000\n",
      "          Category              App    Installs\n",
      "7427  PRODUCTIVITY     Google Drive  1000000000\n",
      "7472  PRODUCTIVITY   Microsoft Word   500000000\n",
      "7364  PRODUCTIVITY          Dropbox   500000000\n",
      "7425  PRODUCTIVITY  Google Calendar   500000000\n",
      "7334  PRODUCTIVITY      Cloud Print   500000000\n",
      "     Category            App    Installs\n",
      "7883   SOCIAL       Facebook  1000000000\n",
      "7908   SOCIAL        Google+  1000000000\n",
      "7919   SOCIAL      Instagram  1000000000\n",
      "7885   SOCIAL  Facebook Lite   500000000\n",
      "7984   SOCIAL       Snapchat   500000000\n"
     ]
    }
   ],
   "source": [
    "apps=[\"GAME\",\"COMMUNICATION\",\"TOOLS\",\"PRODUCTIVITY\",\"SOCIAL\"]\n",
    "\n",
    "for i, app in enumerate(apps):\n",
    "    df4=df_uyg_category[df_uyg_category.Category==app]\n",
    "    df4=df4.head(5)\n",
    "    print(df4)"
   ]
  },
  {
   "cell_type": "markdown",
   "id": "a5a35cc8-2405-4709-83d5-1473a597400e",
   "metadata": {},
   "source": [
    "#### aslinda istenilen bu. her kategoriden ilk ilk 5 uygulamayi goster seklinde olcaksa bu"
   ]
  },
  {
   "cell_type": "markdown",
   "id": "20076bd9-3791-4567-b542-8ca21cd786e3",
   "metadata": {},
   "source": [
    "### simdi ise grafikte gosterelim"
   ]
  },
  {
   "cell_type": "code",
   "execution_count": 124,
   "id": "59139080-ffd2-4490-b4fc-522a41987c17",
   "metadata": {},
   "outputs": [
    {
     "data": {
      "image/png": "[encoded data removed]",
      "text/plain": [
       "<Figure size 4000x3000 with 5 Axes>"
      ]
     },
     "metadata": {},
     "output_type": "display_data"
    }
   ],
   "source": [
    "plt.figure(figsize=(40,30))\n",
    "apps=[\"GAME\",\"COMMUNICATION\",\"TOOLS\",\"PRODUCTIVITY\",\"SOCIAL\"]\n",
    "\n",
    "for i, app in enumerate(apps):\n",
    "    df5=df_uyg_category[df_uyg_category.Category==app]\n",
    "    df5=df5.head(5)\n",
    "\n",
    "    plt.subplot(3,2,i+1)\n",
    "    sns.barplot(x=\"Installs\",y=\"App\", data=df5)\n",
    "    plt.title(app, size=20)\n",
    "plt.tight_layout()\n",
    "plt.show()\n"
   ]
  },
  {
   "cell_type": "markdown",
   "id": "9614730d-2163-41a3-b743-5a967d22434c",
   "metadata": {},
   "source": [
    "### 5.0 raiting'li apps"
   ]
  },
  {
   "cell_type": "code",
   "execution_count": 125,
   "id": "62f82f55-05dc-4e46-a399-3dc6fa358f58",
   "metadata": {},
   "outputs": [
    {
     "data": {
      "text/plain": [
       "Category             Installs  App              \n",
       "FAMILY               10        DN Employee          5.0\n",
       "                               Chronolink DX        5.0\n",
       "MEDICAL              500       FHR 5-Tier 2.0       5.0\n",
       "HEALTH_AND_FITNESS   10        CB Fit               5.0\n",
       "MEDICAL              100       Zen Leaf             5.0\n",
       "                                                   ... \n",
       "NEWS_AND_MAGAZINES   5         INTERKINOIS.CD       0.0\n",
       "                     0         Sweden Newspapers    0.0\n",
       "MAPS_AND_NAVIGATION  10        AJ Reminders         0.0\n",
       "EVENTS               10        EVENTOS DF           0.0\n",
       "NEWS_AND_MAGAZINES   100       DW Espanol           0.0\n",
       "Name: Rating, Length: 9659, dtype: float64"
      ]
     },
     "execution_count": 125,
     "metadata": {},
     "output_type": "execute_result"
    }
   ],
   "source": [
    "data_frame_clean.groupby([\"Category\",\"Installs\",\"App\"])[\"Rating\"].sum().sort_values(ascending=False)\n",
    "#diyerek baya baya analiz edilebilir"
   ]
  },
  {
   "cell_type": "code",
   "execution_count": 126,
   "id": "3c6059a7-cad5-40ce-8e82-19315bd3b1c8",
   "metadata": {},
   "outputs": [],
   "source": [
    "rating_df=data_frame_clean.groupby([\"Category\",\"Installs\",\"App\"])[\"Rating\"].sum().sort_values(ascending=False).reset_index()"
   ]
  },
  {
   "cell_type": "code",
   "execution_count": 127,
   "id": "c481d610-4094-4315-960c-510e2b2ea6c0",
   "metadata": {},
   "outputs": [],
   "source": [
    "en_iyi_uyg=rating_df[rating_df[\"Rating\"]==5.0]# diyerek 5.0 rating'li app leri alabiliriz"
   ]
  },
  {
   "cell_type": "code",
   "execution_count": 128,
   "id": "7e95c8e5-164b-4fa0-8cf0-611fc65533d7",
   "metadata": {},
   "outputs": [
    {
     "data": {
      "text/html": [
       "<div>\n",
       "<style scoped>\n",
       "    .dataframe tbody tr th:only-of-type {\n",
       "        vertical-align: middle;\n",
       "    }\n",
       "\n",
       "    .dataframe tbody tr th {\n",
       "        vertical-align: top;\n",
       "    }\n",
       "\n",
       "    .dataframe thead th {\n",
       "        text-align: right;\n",
       "    }\n",
       "</style>\n",
       "<table border=\"1\" class=\"dataframe\">\n",
       "  <thead>\n",
       "    <tr style=\"text-align: right;\">\n",
       "      <th></th>\n",
       "      <th>Category</th>\n",
       "      <th>Installs</th>\n",
       "      <th>App</th>\n",
       "      <th>Rating</th>\n",
       "    </tr>\n",
       "  </thead>\n",
       "  <tbody>\n",
       "    <tr>\n",
       "      <th>0</th>\n",
       "      <td>FAMILY</td>\n",
       "      <td>10</td>\n",
       "      <td>DN Employee</td>\n",
       "      <td>5.0</td>\n",
       "    </tr>\n",
       "    <tr>\n",
       "      <th>1</th>\n",
       "      <td>FAMILY</td>\n",
       "      <td>10</td>\n",
       "      <td>Chronolink DX</td>\n",
       "      <td>5.0</td>\n",
       "    </tr>\n",
       "    <tr>\n",
       "      <th>2</th>\n",
       "      <td>MEDICAL</td>\n",
       "      <td>500</td>\n",
       "      <td>FHR 5-Tier 2.0</td>\n",
       "      <td>5.0</td>\n",
       "    </tr>\n",
       "    <tr>\n",
       "      <th>3</th>\n",
       "      <td>HEALTH_AND_FITNESS</td>\n",
       "      <td>10</td>\n",
       "      <td>CB Fit</td>\n",
       "      <td>5.0</td>\n",
       "    </tr>\n",
       "    <tr>\n",
       "      <th>4</th>\n",
       "      <td>MEDICAL</td>\n",
       "      <td>100</td>\n",
       "      <td>Zen Leaf</td>\n",
       "      <td>5.0</td>\n",
       "    </tr>\n",
       "    <tr>\n",
       "      <th>...</th>\n",
       "      <td>...</td>\n",
       "      <td>...</td>\n",
       "      <td>...</td>\n",
       "      <td>...</td>\n",
       "    </tr>\n",
       "    <tr>\n",
       "      <th>266</th>\n",
       "      <td>FAMILY</td>\n",
       "      <td>10</td>\n",
       "      <td>Story Time FD</td>\n",
       "      <td>5.0</td>\n",
       "    </tr>\n",
       "    <tr>\n",
       "      <th>267</th>\n",
       "      <td>FAMILY</td>\n",
       "      <td>50</td>\n",
       "      <td>DYPSOET</td>\n",
       "      <td>5.0</td>\n",
       "    </tr>\n",
       "    <tr>\n",
       "      <th>268</th>\n",
       "      <td>LIBRARIES_AND_DEMO</td>\n",
       "      <td>1000</td>\n",
       "      <td>Nur təfsiri 1-ci cild</td>\n",
       "      <td>5.0</td>\n",
       "    </tr>\n",
       "    <tr>\n",
       "      <th>269</th>\n",
       "      <td>LIBRARIES_AND_DEMO</td>\n",
       "      <td>1000</td>\n",
       "      <td>Eternal life</td>\n",
       "      <td>5.0</td>\n",
       "    </tr>\n",
       "    <tr>\n",
       "      <th>270</th>\n",
       "      <td>BUSINESS</td>\n",
       "      <td>1000</td>\n",
       "      <td>Jobs in Canada - Emplois au Canada</td>\n",
       "      <td>5.0</td>\n",
       "    </tr>\n",
       "  </tbody>\n",
       "</table>\n",
       "<p>271 rows × 4 columns</p>\n",
       "</div>"
      ],
      "text/plain": [
       "               Category  Installs                                 App  Rating\n",
       "0                FAMILY        10                         DN Employee     5.0\n",
       "1                FAMILY        10                       Chronolink DX     5.0\n",
       "2               MEDICAL       500                      FHR 5-Tier 2.0     5.0\n",
       "3    HEALTH_AND_FITNESS        10                              CB Fit     5.0\n",
       "4               MEDICAL       100                            Zen Leaf     5.0\n",
       "..                  ...       ...                                 ...     ...\n",
       "266              FAMILY        10                       Story Time FD     5.0\n",
       "267              FAMILY        50                             DYPSOET     5.0\n",
       "268  LIBRARIES_AND_DEMO      1000               Nur təfsiri 1-ci cild     5.0\n",
       "269  LIBRARIES_AND_DEMO      1000                        Eternal life     5.0\n",
       "270            BUSINESS      1000  Jobs in Canada - Emplois au Canada     5.0\n",
       "\n",
       "[271 rows x 4 columns]"
      ]
     },
     "execution_count": 128,
     "metadata": {},
     "output_type": "execute_result"
    }
   ],
   "source": [
    "en_iyi_uyg"
   ]
  },
  {
   "cell_type": "markdown",
   "id": "5ec2a683-7805-4c04-b09d-66a0cf12ed56",
   "metadata": {},
   "source": [
    "### version cleanup"
   ]
  },
  {
   "cell_type": "code",
   "execution_count": 129,
   "id": "6badd046-e927-423e-913f-ae042c4ff8a1",
   "metadata": {},
   "outputs": [
    {
     "name": "stdout",
     "output_type": "stream",
     "text": [
      "<class 'pandas.core.frame.DataFrame'>\n",
      "Index: 9659 entries, 0 to 10840\n",
      "Data columns (total 16 columns):\n",
      " #   Column          Non-Null Count  Dtype         \n",
      "---  ------          --------------  -----         \n",
      " 0   App             9659 non-null   object        \n",
      " 1   Category        9659 non-null   object        \n",
      " 2   Rating          8196 non-null   float64       \n",
      " 3   Reviews         9659 non-null   int64         \n",
      " 4   Size            8432 non-null   float64       \n",
      " 5   Installs        9659 non-null   int64         \n",
      " 6   Type            9658 non-null   object        \n",
      " 7   Price           9659 non-null   float64       \n",
      " 8   Content Rating  9659 non-null   object        \n",
      " 9   Genres          9659 non-null   object        \n",
      " 10  Last Updated    9659 non-null   datetime64[ns]\n",
      " 11  Current Ver     9651 non-null   object        \n",
      " 12  Android Ver     9657 non-null   object        \n",
      " 13  Day             9659 non-null   int32         \n",
      " 14  Month           9659 non-null   int32         \n",
      " 15  Year            9659 non-null   int32         \n",
      "dtypes: datetime64[ns](1), float64(3), int32(3), int64(2), object(7)\n",
      "memory usage: 1.1+ MB\n"
     ]
    }
   ],
   "source": [
    "data_frame_clean.info()"
   ]
  },
  {
   "cell_type": "markdown",
   "id": "452383ee-89ae-436d-893e-ecc38a029732",
   "metadata": {},
   "source": [
    "##### android ver columnunu ele alalim"
   ]
  },
  {
   "cell_type": "code",
   "execution_count": 130,
   "id": "e119dfa8-b66e-4d78-b763-3edbb546d827",
   "metadata": {},
   "outputs": [
    {
     "data": {
      "text/plain": [
       "array(['4.0.3 and up', '4.2 and up', '4.4 and up', '2.3 and up',\n",
       "       '3.0 and up', '4.1 and up', '4.0 and up', '2.3.3 and up',\n",
       "       'Varies with device', '2.2 and up', '5.0 and up', '6.0 and up',\n",
       "       '1.6 and up', '1.5 and up', '2.1 and up', '7.0 and up',\n",
       "       '5.1 and up', '4.3 and up', '4.0.3 - 7.1.1', '2.0 and up',\n",
       "       '3.2 and up', '4.4W and up', '7.1 and up', '7.0 - 7.1.1',\n",
       "       '8.0 and up', '5.0 - 8.0', '3.1 and up', '2.0.1 and up',\n",
       "       '4.1 - 7.1.1', nan, '5.0 - 6.0', '1.0 and up', '2.2 - 7.1.1',\n",
       "       '5.0 - 7.1.1'], dtype=object)"
      ]
     },
     "execution_count": 130,
     "metadata": {},
     "output_type": "execute_result"
    }
   ],
   "source": [
    "data_frame_clean[\"Android Ver\"].unique()"
   ]
  },
  {
   "cell_type": "markdown",
   "id": "63fa6507-6d08-4c54-b342-67d8eb014164",
   "metadata": {},
   "source": [
    "#### goruldugu uzere a-'and up', 'Varies with device', 'W' gibi degerler var bunlar tabi ki rahatsiz edici bunlardan kurtulmak gerek"
   ]
  },
  {
   "cell_type": "code",
   "execution_count": 131,
   "id": "2d06311e-d075-4770-b188-457eb07dc0f4",
   "metadata": {},
   "outputs": [],
   "source": [
    "data_frame_clean[\"Android Ver\"]=data_frame_clean[\"Android Ver\"].replace(\"and up\", \"\", regex=True)"
   ]
  },
  {
   "cell_type": "markdown",
   "id": "6b6331e7-8902-445e-8037-ade36360164e",
   "metadata": {},
   "source": [
    "#### Bu bir pattern eşleşmesi yöntemidir. Çok pratik ve kullanışlıdır. Örnek olarak, bir metin içindeki tüm e-posta adreslerini bulmak, bir dizideki tüm telefon numaralarını çıkarmak veya bir cümlenin belirli bir kelimeyle başlayıp başlamadığını kontrol etmek için kullanılır.<br> \"and up\" kelimesi ve bu kelimeye benzeyen kelimeleri bulup onları kaldırıyor. "
   ]
  },
  {
   "cell_type": "code",
   "execution_count": 132,
   "id": "ac744afc-7046-437a-9dd1-469be15752cf",
   "metadata": {},
   "outputs": [],
   "source": [
    "data_frame_clean[\"Android Ver\"]=data_frame_clean[\"Android Ver\"].replace(\"Varies with device\", np.nan, regex=True).replace(\"W\",\"\",regex=True)"
   ]
  },
  {
   "cell_type": "code",
   "execution_count": 133,
   "id": "a77b48ef-a6b4-4759-90e9-61c508c9d0de",
   "metadata": {},
   "outputs": [
    {
     "data": {
      "text/plain": [
       "array(['4.0.3 ', '4.2 ', '4.4 ', '2.3 ', '3.0 ', '4.1 ', '4.0 ', '2.3.3 ',\n",
       "       nan, '2.2 ', '5.0 ', '6.0 ', '1.6 ', '1.5 ', '2.1 ', '7.0 ',\n",
       "       '5.1 ', '4.3 ', '4.0.3 - 7.1.1', '2.0 ', '3.2 ', '7.1 ',\n",
       "       '7.0 - 7.1.1', '8.0 ', '5.0 - 8.0', '3.1 ', '2.0.1 ',\n",
       "       '4.1 - 7.1.1', '5.0 - 6.0', '1.0 ', '2.2 - 7.1.1', '5.0 - 7.1.1'],\n",
       "      dtype=object)"
      ]
     },
     "execution_count": 133,
     "metadata": {},
     "output_type": "execute_result"
    }
   ],
   "source": [
    "data_frame_clean[\"Android Ver\"].unique()"
   ]
  },
  {
   "cell_type": "code",
   "execution_count": 134,
   "id": "58cd8144-bef5-458e-8318-b8c45fb106e2",
   "metadata": {},
   "outputs": [
    {
     "data": {
      "text/plain": [
       "Android Ver\n",
       "4.1              2202\n",
       "4.0.3            1395\n",
       "4.0              1285\n",
       "4.4               829\n",
       "2.3               616\n",
       "5.0               512\n",
       "4.2               372\n",
       "2.3.3             273\n",
       "2.2               239\n",
       "3.0               231\n",
       "4.3               221\n",
       "2.1               133\n",
       "1.6               116\n",
       "6.0                54\n",
       "7.0                42\n",
       "3.2                36\n",
       "2.0                32\n",
       "5.1                22\n",
       "1.5                20\n",
       "3.1                10\n",
       "2.0.1               7\n",
       "8.0                 6\n",
       "7.1                 3\n",
       "5.0 - 8.0           2\n",
       "4.0.3 - 7.1.1       2\n",
       "1.0                 2\n",
       "7.0 - 7.1.1         1\n",
       "4.1 - 7.1.1         1\n",
       "5.0 - 6.0           1\n",
       "2.2 - 7.1.1         1\n",
       "5.0 - 7.1.1         1\n",
       "Name: count, dtype: int64"
      ]
     },
     "execution_count": 134,
     "metadata": {},
     "output_type": "execute_result"
    }
   ],
   "source": [
    "data_frame_clean[\"Android Ver\"].value_counts()"
   ]
  },
  {
   "cell_type": "markdown",
   "id": "b57d89df-b3aa-48ec-b121-699f54befab5",
   "metadata": {},
   "source": [
    "#### simdi de \"2.2-7.1.1\" gibi arada '-' isareti olanlar var bunlar da rahatsiz edebilir. bunlara bakacak olursak sayisi zaten az o yuzden silebiliriz"
   ]
  },
  {
   "cell_type": "code",
   "execution_count": 135,
   "id": "dcb0c19b-2e56-42a5-b91f-7d032bcb8cf6",
   "metadata": {},
   "outputs": [
    {
     "data": {
      "text/html": [
       "<div>\n",
       "<style scoped>\n",
       "    .dataframe tbody tr th:only-of-type {\n",
       "        vertical-align: middle;\n",
       "    }\n",
       "\n",
       "    .dataframe tbody tr th {\n",
       "        vertical-align: top;\n",
       "    }\n",
       "\n",
       "    .dataframe thead th {\n",
       "        text-align: right;\n",
       "    }\n",
       "</style>\n",
       "<table border=\"1\" class=\"dataframe\">\n",
       "  <thead>\n",
       "    <tr style=\"text-align: right;\">\n",
       "      <th></th>\n",
       "      <th>App</th>\n",
       "      <th>Category</th>\n",
       "      <th>Rating</th>\n",
       "      <th>Reviews</th>\n",
       "      <th>Size</th>\n",
       "      <th>Installs</th>\n",
       "      <th>Type</th>\n",
       "      <th>Price</th>\n",
       "      <th>Content Rating</th>\n",
       "      <th>Genres</th>\n",
       "      <th>Last Updated</th>\n",
       "      <th>Current Ver</th>\n",
       "      <th>Android Ver</th>\n",
       "      <th>Day</th>\n",
       "      <th>Month</th>\n",
       "      <th>Year</th>\n",
       "    </tr>\n",
       "  </thead>\n",
       "  <tbody>\n",
       "    <tr>\n",
       "      <th>350</th>\n",
       "      <td>Web Browser &amp; Explorer</td>\n",
       "      <td>COMMUNICATION</td>\n",
       "      <td>4.0</td>\n",
       "      <td>36901</td>\n",
       "      <td>6.6</td>\n",
       "      <td>5000000</td>\n",
       "      <td>Free</td>\n",
       "      <td>0.0</td>\n",
       "      <td>Everyone</td>\n",
       "      <td>Communication</td>\n",
       "      <td>2018-07-04</td>\n",
       "      <td>11.8.6</td>\n",
       "      <td>4.0.3 - 7.1.1</td>\n",
       "      <td>4</td>\n",
       "      <td>7</td>\n",
       "      <td>2018</td>\n",
       "    </tr>\n",
       "    <tr>\n",
       "      <th>352</th>\n",
       "      <td>Browser 4G</td>\n",
       "      <td>COMMUNICATION</td>\n",
       "      <td>4.3</td>\n",
       "      <td>192948</td>\n",
       "      <td>6.6</td>\n",
       "      <td>10000000</td>\n",
       "      <td>Free</td>\n",
       "      <td>0.0</td>\n",
       "      <td>Everyone</td>\n",
       "      <td>Communication</td>\n",
       "      <td>2018-06-19</td>\n",
       "      <td>24.6.6</td>\n",
       "      <td>4.0.3 - 7.1.1</td>\n",
       "      <td>19</td>\n",
       "      <td>6</td>\n",
       "      <td>2018</td>\n",
       "    </tr>\n",
       "    <tr>\n",
       "      <th>1572</th>\n",
       "      <td>ZenUI Safeguard</td>\n",
       "      <td>LIFESTYLE</td>\n",
       "      <td>4.5</td>\n",
       "      <td>100</td>\n",
       "      <td>7.1</td>\n",
       "      <td>1000000</td>\n",
       "      <td>Free</td>\n",
       "      <td>0.0</td>\n",
       "      <td>Everyone</td>\n",
       "      <td>Lifestyle</td>\n",
       "      <td>2018-05-09</td>\n",
       "      <td>1.0.0.21_180410</td>\n",
       "      <td>7.0 - 7.1.1</td>\n",
       "      <td>9</td>\n",
       "      <td>5</td>\n",
       "      <td>2018</td>\n",
       "    </tr>\n",
       "    <tr>\n",
       "      <th>2841</th>\n",
       "      <td>Photo Collage - Layout Editor</td>\n",
       "      <td>PHOTOGRAPHY</td>\n",
       "      <td>4.5</td>\n",
       "      <td>285788</td>\n",
       "      <td>46000.0</td>\n",
       "      <td>10000000</td>\n",
       "      <td>Free</td>\n",
       "      <td>0.0</td>\n",
       "      <td>Everyone</td>\n",
       "      <td>Photography</td>\n",
       "      <td>2017-12-04</td>\n",
       "      <td>1.8.0.170824_9</td>\n",
       "      <td>5.0 - 8.0</td>\n",
       "      <td>4</td>\n",
       "      <td>12</td>\n",
       "      <td>2017</td>\n",
       "    </tr>\n",
       "    <tr>\n",
       "      <th>3474</th>\n",
       "      <td>ASUS Quick Memo</td>\n",
       "      <td>PRODUCTIVITY</td>\n",
       "      <td>4.5</td>\n",
       "      <td>23089</td>\n",
       "      <td>1.6</td>\n",
       "      <td>10000000</td>\n",
       "      <td>Free</td>\n",
       "      <td>0.0</td>\n",
       "      <td>Everyone</td>\n",
       "      <td>Productivity</td>\n",
       "      <td>2018-04-11</td>\n",
       "      <td>1.10.0.33_180403</td>\n",
       "      <td>5.0 - 8.0</td>\n",
       "      <td>11</td>\n",
       "      <td>4</td>\n",
       "      <td>2018</td>\n",
       "    </tr>\n",
       "    <tr>\n",
       "      <th>4151</th>\n",
       "      <td>Google Now Launcher</td>\n",
       "      <td>TOOLS</td>\n",
       "      <td>4.2</td>\n",
       "      <td>857215</td>\n",
       "      <td>7.9</td>\n",
       "      <td>100000000</td>\n",
       "      <td>Free</td>\n",
       "      <td>0.0</td>\n",
       "      <td>Everyone</td>\n",
       "      <td>Tools</td>\n",
       "      <td>2017-12-07</td>\n",
       "      <td>1.4.large</td>\n",
       "      <td>4.1 - 7.1.1</td>\n",
       "      <td>7</td>\n",
       "      <td>12</td>\n",
       "      <td>2017</td>\n",
       "    </tr>\n",
       "    <tr>\n",
       "      <th>7571</th>\n",
       "      <td>My Style CM 13 Theme</td>\n",
       "      <td>PERSONALIZATION</td>\n",
       "      <td>4.5</td>\n",
       "      <td>314</td>\n",
       "      <td>11000.0</td>\n",
       "      <td>10000</td>\n",
       "      <td>Free</td>\n",
       "      <td>0.0</td>\n",
       "      <td>Everyone</td>\n",
       "      <td>Personalization</td>\n",
       "      <td>2016-09-08</td>\n",
       "      <td>1.9</td>\n",
       "      <td>5.0 - 6.0</td>\n",
       "      <td>8</td>\n",
       "      <td>9</td>\n",
       "      <td>2016</td>\n",
       "    </tr>\n",
       "    <tr>\n",
       "      <th>9310</th>\n",
       "      <td>EF Jumper</td>\n",
       "      <td>GAME</td>\n",
       "      <td>NaN</td>\n",
       "      <td>4</td>\n",
       "      <td>5.1</td>\n",
       "      <td>100</td>\n",
       "      <td>Free</td>\n",
       "      <td>0.0</td>\n",
       "      <td>Everyone</td>\n",
       "      <td>Arcade</td>\n",
       "      <td>2017-07-13</td>\n",
       "      <td>Build 12</td>\n",
       "      <td>2.2 - 7.1.1</td>\n",
       "      <td>13</td>\n",
       "      <td>7</td>\n",
       "      <td>2017</td>\n",
       "    </tr>\n",
       "    <tr>\n",
       "      <th>10094</th>\n",
       "      <td>EY Catalyst Reader</td>\n",
       "      <td>BUSINESS</td>\n",
       "      <td>NaN</td>\n",
       "      <td>1</td>\n",
       "      <td>8.4</td>\n",
       "      <td>5</td>\n",
       "      <td>Free</td>\n",
       "      <td>0.0</td>\n",
       "      <td>Everyone</td>\n",
       "      <td>Business</td>\n",
       "      <td>2018-04-10</td>\n",
       "      <td>1.2.1</td>\n",
       "      <td>5.0 - 7.1.1</td>\n",
       "      <td>10</td>\n",
       "      <td>4</td>\n",
       "      <td>2018</td>\n",
       "    </tr>\n",
       "  </tbody>\n",
       "</table>\n",
       "</div>"
      ],
      "text/plain": [
       "                                 App         Category  Rating  Reviews  \\\n",
       "350           Web Browser & Explorer    COMMUNICATION     4.0    36901   \n",
       "352                       Browser 4G    COMMUNICATION     4.3   192948   \n",
       "1572                 ZenUI Safeguard        LIFESTYLE     4.5      100   \n",
       "2841   Photo Collage - Layout Editor      PHOTOGRAPHY     4.5   285788   \n",
       "3474                 ASUS Quick Memo     PRODUCTIVITY     4.5    23089   \n",
       "4151             Google Now Launcher            TOOLS     4.2   857215   \n",
       "7571            My Style CM 13 Theme  PERSONALIZATION     4.5      314   \n",
       "9310                       EF Jumper             GAME     NaN        4   \n",
       "10094             EY Catalyst Reader         BUSINESS     NaN        1   \n",
       "\n",
       "          Size   Installs  Type  Price Content Rating           Genres  \\\n",
       "350        6.6    5000000  Free    0.0       Everyone    Communication   \n",
       "352        6.6   10000000  Free    0.0       Everyone    Communication   \n",
       "1572       7.1    1000000  Free    0.0       Everyone        Lifestyle   \n",
       "2841   46000.0   10000000  Free    0.0       Everyone      Photography   \n",
       "3474       1.6   10000000  Free    0.0       Everyone     Productivity   \n",
       "4151       7.9  100000000  Free    0.0       Everyone            Tools   \n",
       "7571   11000.0      10000  Free    0.0       Everyone  Personalization   \n",
       "9310       5.1        100  Free    0.0       Everyone           Arcade   \n",
       "10094      8.4          5  Free    0.0       Everyone         Business   \n",
       "\n",
       "      Last Updated       Current Ver    Android Ver  Day  Month  Year  \n",
       "350     2018-07-04            11.8.6  4.0.3 - 7.1.1    4      7  2018  \n",
       "352     2018-06-19            24.6.6  4.0.3 - 7.1.1   19      6  2018  \n",
       "1572    2018-05-09   1.0.0.21_180410    7.0 - 7.1.1    9      5  2018  \n",
       "2841    2017-12-04    1.8.0.170824_9      5.0 - 8.0    4     12  2017  \n",
       "3474    2018-04-11  1.10.0.33_180403      5.0 - 8.0   11      4  2018  \n",
       "4151    2017-12-07         1.4.large    4.1 - 7.1.1    7     12  2017  \n",
       "7571    2016-09-08               1.9      5.0 - 6.0    8      9  2016  \n",
       "9310    2017-07-13          Build 12    2.2 - 7.1.1   13      7  2017  \n",
       "10094   2018-04-10             1.2.1    5.0 - 7.1.1   10      4  2018  "
      ]
     },
     "execution_count": 135,
     "metadata": {},
     "output_type": "execute_result"
    }
   ],
   "source": [
    "data_frame_clean[data_frame_clean[\"Android Ver\"].str.contains('-')==True] #bu bize icinde \"-\" olanı getir demek"
   ]
  },
  {
   "cell_type": "markdown",
   "id": "71972b4a-076e-4894-8bcd-672a99518dc6",
   "metadata": {},
   "source": [
    "#### goruldugu gibi cok az o yuzden bunlari silebiliriz"
   ]
  },
  {
   "cell_type": "code",
   "execution_count": 136,
   "id": "9ef9873a-e3ef-45b3-862a-387a29bd99e3",
   "metadata": {},
   "outputs": [],
   "source": [
    "data_frame_clean=data_frame_clean[data_frame_clean[\"Android Ver\"].str.contains('-')==False]"
   ]
  },
  {
   "cell_type": "code",
   "execution_count": 137,
   "id": "d44f03e7-6c4f-4d82-bb8b-bd8b668185c3",
   "metadata": {},
   "outputs": [
    {
     "data": {
      "text/plain": [
       "Android Ver\n",
       "4.1       2202\n",
       "4.0.3     1395\n",
       "4.0       1285\n",
       "4.4        829\n",
       "2.3        616\n",
       "5.0        512\n",
       "4.2        372\n",
       "2.3.3      273\n",
       "2.2        239\n",
       "3.0        231\n",
       "4.3        221\n",
       "2.1        133\n",
       "1.6        116\n",
       "6.0         54\n",
       "7.0         42\n",
       "3.2         36\n",
       "2.0         32\n",
       "5.1         22\n",
       "1.5         20\n",
       "3.1         10\n",
       "2.0.1        7\n",
       "8.0          6\n",
       "7.1          3\n",
       "1.0          2\n",
       "Name: count, dtype: int64"
      ]
     },
     "execution_count": 137,
     "metadata": {},
     "output_type": "execute_result"
    }
   ],
   "source": [
    "data_frame_clean[\"Android Ver\"].value_counts()"
   ]
  },
  {
   "cell_type": "markdown",
   "id": "26659154-2709-4043-a420-20128de3f97a",
   "metadata": {},
   "source": [
    "#### goruldugu gibi gitmisler"
   ]
  },
  {
   "cell_type": "markdown",
   "id": "45bc439c-4ad6-4bcd-92ad-faa47c9e4be3",
   "metadata": {},
   "source": [
    "## Target Encoding Pratigi"
   ]
  },
  {
   "cell_type": "code",
   "execution_count": 138,
   "id": "3541f998-47db-4569-b6d2-6d0fd79bffb6",
   "metadata": {},
   "outputs": [
    {
     "name": "stdout",
     "output_type": "stream",
     "text": [
      "<class 'pandas.core.frame.DataFrame'>\n",
      "Index: 8658 entries, 0 to 10838\n",
      "Data columns (total 16 columns):\n",
      " #   Column          Non-Null Count  Dtype         \n",
      "---  ------          --------------  -----         \n",
      " 0   App             8658 non-null   object        \n",
      " 1   Category        8658 non-null   object        \n",
      " 2   Rating          7240 non-null   float64       \n",
      " 3   Reviews         8658 non-null   int64         \n",
      " 4   Size            8375 non-null   float64       \n",
      " 5   Installs        8658 non-null   int64         \n",
      " 6   Type            8658 non-null   object        \n",
      " 7   Price           8658 non-null   float64       \n",
      " 8   Content Rating  8658 non-null   object        \n",
      " 9   Genres          8658 non-null   object        \n",
      " 10  Last Updated    8658 non-null   datetime64[ns]\n",
      " 11  Current Ver     8650 non-null   object        \n",
      " 12  Android Ver     8658 non-null   object        \n",
      " 13  Day             8658 non-null   int32         \n",
      " 14  Month           8658 non-null   int32         \n",
      " 15  Year            8658 non-null   int32         \n",
      "dtypes: datetime64[ns](1), float64(3), int32(3), int64(2), object(7)\n",
      "memory usage: 1.0+ MB\n"
     ]
    }
   ],
   "source": [
    "data_frame_clean.info()"
   ]
  },
  {
   "cell_type": "code",
   "execution_count": 139,
   "id": "76afa42a-3a99-41c9-b88d-f2007db5c0ae",
   "metadata": {},
   "outputs": [
    {
     "data": {
      "text/plain": [
       "array(['Art & Design', 'Art & Design;Pretend Play',\n",
       "       'Art & Design;Creativity', 'Art & Design;Action & Adventure',\n",
       "       'Auto & Vehicles', 'Beauty', 'Books & Reference', 'Business',\n",
       "       'Comics', 'Comics;Creativity', 'Communication', 'Dating',\n",
       "       'Education', 'Education;Creativity', 'Education;Education',\n",
       "       'Education;Action & Adventure', 'Education;Pretend Play',\n",
       "       'Education;Brain Games', 'Entertainment',\n",
       "       'Entertainment;Music & Video', 'Entertainment;Brain Games',\n",
       "       'Entertainment;Creativity', 'Events', 'Finance', 'Food & Drink',\n",
       "       'Health & Fitness', 'House & Home', 'Libraries & Demo',\n",
       "       'Lifestyle', 'Lifestyle;Pretend Play',\n",
       "       'Adventure;Action & Adventure', 'Arcade', 'Casual', 'Card',\n",
       "       'Casual;Pretend Play', 'Action', 'Strategy', 'Puzzle', 'Sports',\n",
       "       'Music', 'Word', 'Racing', 'Casual;Creativity', 'Simulation',\n",
       "       'Adventure', 'Board', 'Trivia', 'Role Playing',\n",
       "       'Simulation;Education', 'Action;Action & Adventure',\n",
       "       'Casual;Brain Games', 'Simulation;Action & Adventure',\n",
       "       'Educational;Creativity', 'Puzzle;Brain Games',\n",
       "       'Educational;Education', 'Educational;Brain Games',\n",
       "       'Educational;Pretend Play', 'Casual;Action & Adventure',\n",
       "       'Entertainment;Education', 'Casual;Education',\n",
       "       'Music;Music & Video', 'Racing;Action & Adventure',\n",
       "       'Arcade;Pretend Play', 'Simulation;Pretend Play',\n",
       "       'Puzzle;Creativity', 'Sports;Action & Adventure',\n",
       "       'Educational;Action & Adventure', 'Arcade;Action & Adventure',\n",
       "       'Entertainment;Action & Adventure', 'Puzzle;Action & Adventure',\n",
       "       'Role Playing;Action & Adventure', 'Strategy;Action & Adventure',\n",
       "       'Music & Audio;Music & Video', 'Health & Fitness;Education',\n",
       "       'Adventure;Education', 'Board;Brain Games',\n",
       "       'Board;Action & Adventure', 'Board;Pretend Play',\n",
       "       'Casual;Music & Video', 'Education;Music & Video',\n",
       "       'Role Playing;Pretend Play', 'Entertainment;Pretend Play',\n",
       "       'Video Players & Editors;Creativity', 'Card;Action & Adventure',\n",
       "       'Medical', 'Social', 'Shopping', 'Photography', 'Travel & Local',\n",
       "       'Travel & Local;Action & Adventure', 'Tools', 'Personalization',\n",
       "       'Productivity', 'Parenting', 'Parenting;Education',\n",
       "       'Parenting;Brain Games', 'Parenting;Music & Video', 'Weather',\n",
       "       'Video Players & Editors', 'News & Magazines', 'Maps & Navigation',\n",
       "       'Health & Fitness;Action & Adventure', 'Educational', 'Casino',\n",
       "       'Adventure;Brain Games', 'Video Players & Editors;Music & Video',\n",
       "       'Trivia;Education', 'Lifestyle;Education',\n",
       "       'Books & Reference;Creativity', 'Books & Reference;Education',\n",
       "       'Puzzle;Education', 'Role Playing;Education',\n",
       "       'Role Playing;Brain Games', 'Strategy;Education',\n",
       "       'Racing;Pretend Play', 'Communication;Creativity',\n",
       "       'Strategy;Creativity'], dtype=object)"
      ]
     },
     "execution_count": 139,
     "metadata": {},
     "output_type": "execute_result"
    }
   ],
   "source": [
    "data_frame_clean[\"Genres\"].unique()"
   ]
  },
  {
   "cell_type": "markdown",
   "id": "a285defd-b7d3-49c7-b33a-fb2d1735e75b",
   "metadata": {},
   "source": [
    "### goruldugu uzere cok cok fazla. <br>\"Genres\" yerine genres!teki \"installs\"larin ortalamasini koyalim. Bu target encoding olur<br> mesela a'nın install ort=20, b'nin=30. yeni bir column acip her a gelen row'a 20, b gelen row'a 30 yazacagiz"
   ]
  },
  {
   "cell_type": "code",
   "execution_count": 140,
   "id": "0f3523a9-cf0e-448d-b0f5-2256fcba9876",
   "metadata": {},
   "outputs": [],
   "source": [
    "ort_genres_isntalls = data_frame_clean.groupby([\"Genres\"])[\"Installs\"].mean()/1000000"
   ]
  },
  {
   "cell_type": "code",
   "execution_count": 141,
   "id": "dac4d850-1fae-4b68-bb15-f0fdf47e85fa",
   "metadata": {},
   "outputs": [
    {
     "data": {
      "text/plain": [
       "Genres\n",
       "Action                                   11.255844\n",
       "Action;Action & Adventure                 3.910955\n",
       "Adventure                                 4.064319\n",
       "Adventure;Action & Adventure             21.230000\n",
       "Adventure;Brain Games                     0.100000\n",
       "                                           ...    \n",
       "Video Players & Editors                   7.093219\n",
       "Video Players & Editors;Creativity        5.000000\n",
       "Video Players & Editors;Music & Video     5.000000\n",
       "Weather                                   2.270176\n",
       "Word                                      5.208628\n",
       "Name: Installs, Length: 117, dtype: float64"
      ]
     },
     "execution_count": 141,
     "metadata": {},
     "output_type": "execute_result"
    }
   ],
   "source": [
    " ort_genres_isntalls #karsilastirma yapmak icin cok iyi bir secenek olduu"
   ]
  },
  {
   "cell_type": "markdown",
   "id": "45da9530-eef1-44a4-b05c-fd96f2b7a59e",
   "metadata": {},
   "source": [
    "#### __data_frame_clean[\"Genres Enncoded\"]=ort_genres_isntalls__ , deyip  data_frame_clean[\"Genres Enncoded\"] cagirirsam hepsine Nan degeri donecektir.<br> bizim yapmak istedigimzde 9000 filan column  var ama bunda az yani o yuzden olmicaktir."
   ]
  },
  {
   "cell_type": "markdown",
   "id": "18de78b4-8761-4c6f-aae8-40787bbe9eb1",
   "metadata": {},
   "source": [
    "#### onu anlatmak icin dictionary'e cevirebiliriz ort_genres_installs'i"
   ]
  },
  {
   "cell_type": "code",
   "execution_count": 142,
   "id": "cb69ea34-fb6a-424f-9461-90206bfd482f",
   "metadata": {},
   "outputs": [],
   "source": [
    "ort_genres_isntalls=ort_genres_isntalls.to_dict() #seklinde  cevirebiliriz"
   ]
  },
  {
   "cell_type": "code",
   "execution_count": 143,
   "id": "dd3990d4-cc0a-4bd8-8332-1be24230fa97",
   "metadata": {},
   "outputs": [
    {
     "data": {
      "text/plain": [
       "{'Action': 11.255844429065743,\n",
       " 'Action;Action & Adventure': 3.9109545454545454,\n",
       " 'Adventure': 4.064319452054795,\n",
       " 'Adventure;Action & Adventure': 21.23,\n",
       " 'Adventure;Brain Games': 0.1,\n",
       " 'Adventure;Education': 10.0,\n",
       " 'Arcade': 20.540684218390805,\n",
       " 'Arcade;Action & Adventure': 2.7084616153846155,\n",
       " 'Arcade;Pretend Play': 1.0,\n",
       " 'Art & Design': 1.8308589285714287,\n",
       " 'Art & Design;Action & Adventure': 0.1,\n",
       " 'Art & Design;Creativity': 0.285,\n",
       " 'Art & Design;Pretend Play': 0.5,\n",
       " 'Auto & Vehicles': 0.5753873205128205,\n",
       " 'Beauty': 0.303941,\n",
       " 'Board': 2.859415641025641,\n",
       " 'Board;Action & Adventure': 2.001666666666667,\n",
       " 'Board;Brain Games': 0.5254733333333333,\n",
       " 'Board;Pretend Play': 0.0001,\n",
       " 'Books & Reference': 0.6850892182741116,\n",
       " 'Books & Reference;Creativity': 0.0001,\n",
       " 'Books & Reference;Education': 0.0055,\n",
       " 'Business': 1.0347099612403101,\n",
       " 'Card': 2.200636585365854,\n",
       " 'Card;Action & Adventure': 5.5,\n",
       " 'Casino': 2.980018918918919,\n",
       " 'Casual': 17.919875741935485,\n",
       " 'Casual;Action & Adventure': 4.9091818181818185,\n",
       " 'Casual;Brain Games': 1.4259166666666667,\n",
       " 'Casual;Creativity': 5.333333333333333,\n",
       " 'Casual;Education': 0.67,\n",
       " 'Casual;Music & Video': 10.0,\n",
       " 'Casual;Pretend Play': 5.677541666666667,\n",
       " 'Comics': 0.4464822916666667,\n",
       " 'Comics;Creativity': 0.05,\n",
       " 'Communication': 10.468861313492063,\n",
       " 'Communication;Creativity': 0.5,\n",
       " 'Dating': 0.5753097393939394,\n",
       " 'Education': 0.3606640549682875,\n",
       " 'Education;Action & Adventure': 0.7525,\n",
       " 'Education;Brain Games': 4.00025,\n",
       " 'Education;Creativity': 2.31,\n",
       " 'Education;Education': 0.9928048484848485,\n",
       " 'Education;Music & Video': 0.55,\n",
       " 'Education;Pretend Play': 0.5423125,\n",
       " 'Educational': 0.3562658857142857,\n",
       " 'Educational;Action & Adventure': 17.01666666666667,\n",
       " 'Educational;Brain Games': 4.433333333333333,\n",
       " 'Educational;Creativity': 1.4011,\n",
       " 'Educational;Education': 1.6613905555555555,\n",
       " 'Educational;Pretend Play': 5.781930769230769,\n",
       " 'Entertainment': 2.8357310405405407,\n",
       " 'Entertainment;Action & Adventure': 2.3333333333333335,\n",
       " 'Entertainment;Brain Games': 2.2,\n",
       " 'Entertainment;Creativity': 4.0,\n",
       " 'Entertainment;Education': 1.0,\n",
       " 'Entertainment;Music & Video': 6.758333333333333,\n",
       " 'Entertainment;Pretend Play': 3.0,\n",
       " 'Events': 0.09951861403508773,\n",
       " 'Finance': 0.8441862960526316,\n",
       " 'Food & Drink': 1.5339421978021979,\n",
       " 'Health & Fitness': 3.275905606837607,\n",
       " 'Health & Fitness;Action & Adventure': 1.0,\n",
       " 'Health & Fitness;Education': 0.1,\n",
       " 'House & Home': 0.8324590483870967,\n",
       " 'Libraries & Demo': 0.6406902469135802,\n",
       " 'Lifestyle': 1.1269302928994083,\n",
       " 'Lifestyle;Education': 0.1,\n",
       " 'Lifestyle;Pretend Play': 10.0,\n",
       " 'Maps & Navigation': 1.6888063302752294,\n",
       " 'Medical': 0.09297765951742627,\n",
       " 'Music': 6.673361111111111,\n",
       " 'Music & Audio;Music & Video': 0.5,\n",
       " 'Music;Music & Video': 3.367,\n",
       " 'News & Magazines': 5.766374439024391,\n",
       " 'Parenting': 0.4236615909090909,\n",
       " 'Parenting;Brain Games': 1.0,\n",
       " 'Parenting;Education': 0.45285714285714285,\n",
       " 'Parenting;Music & Video': 0.342,\n",
       " 'Personalization': 2.4641463170028817,\n",
       " 'Photography': 8.5167968697479,\n",
       " 'Productivity': 5.775793169435216,\n",
       " 'Puzzle': 7.102365905982906,\n",
       " 'Puzzle;Action & Adventure': 18.366666666666667,\n",
       " 'Puzzle;Brain Games': 8.253529411764706,\n",
       " 'Puzzle;Creativity': 0.75,\n",
       " 'Puzzle;Education': 0.1,\n",
       " 'Racing': 16.018934712643677,\n",
       " 'Racing;Action & Adventure': 8.26625,\n",
       " 'Racing;Pretend Play': 1.0,\n",
       " 'Role Playing': 3.20622,\n",
       " 'Role Playing;Action & Adventure': 3.7,\n",
       " 'Role Playing;Brain Games': 10.0,\n",
       " 'Role Playing;Education': 0.0001,\n",
       " 'Role Playing;Pretend Play': 5.275,\n",
       " 'Shopping': 4.827027819767442,\n",
       " 'Simulation': 3.0994447311827953,\n",
       " 'Simulation;Action & Adventure': 4.857142857142858,\n",
       " 'Simulation;Education': 0.20016666666666666,\n",
       " 'Simulation;Pretend Play': 0.37,\n",
       " 'Social': 3.4028580909090906,\n",
       " 'Sports': 4.041653839464883,\n",
       " 'Sports;Action & Adventure': 2.675,\n",
       " 'Strategy': 10.102557303370787,\n",
       " 'Strategy;Action & Adventure': 0.55,\n",
       " 'Strategy;Creativity': 1.0,\n",
       " 'Strategy;Education': 0.5,\n",
       " 'Tools': 3.94034668707483,\n",
       " 'Travel & Local': 2.5753674777777777,\n",
       " 'Travel & Local;Action & Adventure': 0.1,\n",
       " 'Trivia': 3.3843781578947367,\n",
       " 'Trivia;Education': 0.0001,\n",
       " 'Video Players & Editors': 7.0932185294117645,\n",
       " 'Video Players & Editors;Creativity': 5.0,\n",
       " 'Video Players & Editors;Music & Video': 5.0,\n",
       " 'Weather': 2.2701757894736843,\n",
       " 'Word': 5.2086275}"
      ]
     },
     "execution_count": 143,
     "metadata": {},
     "output_type": "execute_result"
    }
   ],
   "source": [
    "ort_genres_isntalls"
   ]
  },
  {
   "cell_type": "code",
   "execution_count": 144,
   "id": "9bb763c8-5d5a-4daf-9186-338ba74cdafe",
   "metadata": {},
   "outputs": [],
   "source": [
    "data_frame_clean[\"Genres Encoded\"]=data_frame_clean[\"Genres\"].map(ort_genres_isntalls)"
   ]
  },
  {
   "cell_type": "code",
   "execution_count": 145,
   "id": "2d0f1f1d-4e29-4848-8d55-bb27ba7543c7",
   "metadata": {},
   "outputs": [
    {
     "data": {
      "text/plain": [
       "0        1.830859\n",
       "1        0.500000\n",
       "2        1.830859\n",
       "3        1.830859\n",
       "4        0.285000\n",
       "           ...   \n",
       "10834    0.360664\n",
       "10835    1.034710\n",
       "10836    0.360664\n",
       "10837    0.360664\n",
       "10838    0.092978\n",
       "Name: Genres Encoded, Length: 8658, dtype: float64"
      ]
     },
     "execution_count": 145,
     "metadata": {},
     "output_type": "execute_result"
    }
   ],
   "source": [
    "data_frame_clean[\"Genres Encoded\"]"
   ]
  },
  {
   "cell_type": "code",
   "execution_count": null,
   "id": "cd85314b-53f4-4d47-afd8-6f7b1d6f8a18",
   "metadata": {},
   "outputs": [],
   "source": []
  }
 ],
 "metadata": {
  "kernelspec": {
   "display_name": "Python [conda env:base] *",
   "language": "python",
   "name": "conda-base-py"
  },
  "language_info": {
   "codemirror_mode": {
    "name": "ipython",
    "version": 3
   },
   "file_extension": ".py",
   "mimetype": "text/x-python",
   "name": "python",
   "nbconvert_exporter": "python",
   "pygments_lexer": "ipython3",
   "version": "3.13.5"
  }
 },
 "nbformat": 4,
 "nbformat_minor": 5
}
