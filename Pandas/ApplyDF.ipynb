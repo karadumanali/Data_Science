{
 "cells": [
  {
   "cell_type": "code",
   "execution_count": 1,
   "id": "51a49a35-bac7-4ef3-bbf0-9cba867861f5",
   "metadata": {},
   "outputs": [],
   "source": [
    "import pandas as pd"
   ]
  },
  {
   "cell_type": "code",
   "execution_count": 2,
   "id": "a52837be-3839-4864-88b9-00f3642818a7",
   "metadata": {},
   "outputs": [],
   "source": [
    "df=pd.read_csv('apply_function_data.csv')"
   ]
  },
  {
   "cell_type": "code",
   "execution_count": 4,
   "id": "7af48255-8b64-4233-88b2-b0867d132d1b",
   "metadata": {},
   "outputs": [
    {
     "name": "stdout",
     "output_type": "stream",
     "text": [
      "    Employee_ID     Name Department  Salary  Experience  Performance_Score\n",
      "0             1    Emp_1  Marketing   82251           6                  5\n",
      "1             2    Emp_2      Sales   52662          24                  3\n",
      "2             3    Emp_3    Finance   38392           5                  3\n",
      "3             4    Emp_4      Sales   60535          20                  3\n",
      "4             5    Emp_5      Sales  108603           2                  2\n",
      "..          ...      ...        ...     ...         ...                ...\n",
      "95           96   Emp_96    Finance   93734          19                  4\n",
      "96           97   Emp_97      Sales  100467          22                  2\n",
      "97           98   Emp_98         IT   82662          23                  3\n",
      "98           99   Emp_99         IT   42688          22                  1\n",
      "99          100  Emp_100         HR   55342          14                  3\n",
      "\n",
      "[100 rows x 6 columns]\n"
     ]
    }
   ],
   "source": [
    "print(df) #goruldugu uzere baya buyuk bir data"
   ]
  },
  {
   "cell_type": "code",
   "execution_count": 5,
   "id": "bdd35ad3-0a48-4c0e-bcb4-5b708451c2f1",
   "metadata": {},
   "outputs": [
    {
     "name": "stdout",
     "output_type": "stream",
     "text": [
      "   Employee_ID   Name Department  Salary  Experience  Performance_Score\n",
      "0            1  Emp_1  Marketing   82251           6                  5\n",
      "1            2  Emp_2      Sales   52662          24                  3\n",
      "2            3  Emp_3    Finance   38392           5                  3\n",
      "3            4  Emp_4      Sales   60535          20                  3\n",
      "4            5  Emp_5      Sales  108603           2                  2 \n",
      "\n",
      "    Employee_ID     Name Department  Salary  Experience  Performance_Score\n",
      "95           96   Emp_96    Finance   93734          19                  4\n",
      "96           97   Emp_97      Sales  100467          22                  2\n",
      "97           98   Emp_98         IT   82662          23                  3\n",
      "98           99   Emp_99         IT   42688          22                  1\n",
      "99          100  Emp_100         HR   55342          14                  3\n"
     ]
    }
   ],
   "source": [
    "print(df.head(),\"\\n\")\n",
    "print(df.tail())"
   ]
  },
  {
   "cell_type": "code",
   "execution_count": 7,
   "id": "bea647b5-1731-4f9f-9960-6d168954a33f",
   "metadata": {},
   "outputs": [
    {
     "name": "stdout",
     "output_type": "stream",
     "text": [
      "       Employee_ID         Salary  Experience  Performance_Score\n",
      "count   100.000000     100.000000  100.000000          100.00000\n",
      "mean     50.500000   77508.090000   12.090000            3.03000\n",
      "std      29.011492   26083.327596    7.543939            1.41746\n",
      "min       1.000000   30206.000000    1.000000            1.00000\n",
      "25%      25.750000   54347.500000    5.000000            2.00000\n",
      "50%      50.500000   80932.000000   12.000000            3.00000\n",
      "75%      75.250000   97620.500000   19.000000            4.00000\n",
      "max     100.000000  119474.000000   24.000000            5.00000 \n",
      "\n",
      "<class 'pandas.core.frame.DataFrame'>\n",
      "RangeIndex: 100 entries, 0 to 99\n",
      "Data columns (total 6 columns):\n",
      " #   Column             Non-Null Count  Dtype \n",
      "---  ------             --------------  ----- \n",
      " 0   Employee_ID        100 non-null    int64 \n",
      " 1   Name               100 non-null    object\n",
      " 2   Department         100 non-null    object\n",
      " 3   Salary             100 non-null    int64 \n",
      " 4   Experience         100 non-null    int64 \n",
      " 5   Performance_Score  100 non-null    int64 \n",
      "dtypes: int64(4), object(2)\n",
      "memory usage: 4.8+ KB\n",
      "None\n"
     ]
    }
   ],
   "source": [
    "print(df.describe(),\"\\n\")\n",
    "print(df.info()) #diyerek bos bir column olup olmadigini teyit edelim"
   ]
  },
  {
   "cell_type": "markdown",
   "id": "ae8211b3-7631-4ff4-a456-c47fc0dc6f88",
   "metadata": {},
   "source": [
    "##### biz buraya yeni column eklemek istiyoruz ve mantik su olsun. eger salary, ortalama salary'den kucukse-->low, 10000 fazlasina kadar aradaysa -->medium, 10000 fazlasindan da fazlaysa-->high yazsin"
   ]
  },
  {
   "cell_type": "markdown",
   "id": "ef1ab1e7-8bfb-4d22-8c2f-ab4e86270a47",
   "metadata": {},
   "source": [
    "##### oncelikle bunun fonksiyonunu yazalim"
   ]
  },
  {
   "cell_type": "code",
   "execution_count": 8,
   "id": "749063fa-9e33-495a-b2a5-171c5ede1f09",
   "metadata": {},
   "outputs": [],
   "source": [
    "def salary_category(salary):\n",
    "    if salary<50000:\n",
    "        return \"low\"\n",
    "    elif 50000<=salary<80000:\n",
    "        return \"medium\"\n",
    "    else:\n",
    "        return \"high\""
   ]
  },
  {
   "cell_type": "markdown",
   "id": "38a9e607-9bbd-40b2-8abb-e35b50433678",
   "metadata": {},
   "source": [
    "#### burdan sonra kullanacagimiz metot-->apply"
   ]
  },
  {
   "cell_type": "code",
   "execution_count": 11,
   "id": "3ff7919e-be7a-4f6d-9f81-f8b4faf01f9b",
   "metadata": {},
   "outputs": [
    {
     "name": "stdout",
     "output_type": "stream",
     "text": [
      "0       high\n",
      "1     medium\n",
      "2        low\n",
      "3     medium\n",
      "4       high\n",
      "       ...  \n",
      "95      high\n",
      "96      high\n",
      "97      high\n",
      "98       low\n",
      "99    medium\n",
      "Name: Salary, Length: 100, dtype: object\n"
     ]
    }
   ],
   "source": [
    "print(df[\"Salary\"].apply(salary_category)) #bu sekilde column olusturabiliriz. tabi bunu eklemek de isteyebilriz"
   ]
  },
  {
   "cell_type": "code",
   "execution_count": 12,
   "id": "635b5fc9-911d-4136-b7ed-b5361f2324b3",
   "metadata": {},
   "outputs": [],
   "source": [
    "df[\"Salary_Category\"]=df[\"Salary\"].apply(salary_category)"
   ]
  },
  {
   "cell_type": "code",
   "execution_count": 14,
   "id": "bc863518-6626-4337-97ec-370cec4ca489",
   "metadata": {},
   "outputs": [
    {
     "name": "stdout",
     "output_type": "stream",
     "text": [
      "    Employee_ID     Name Department  Salary  Experience  Performance_Score  \\\n",
      "0             1    Emp_1  Marketing   82251           6                  5   \n",
      "1             2    Emp_2      Sales   52662          24                  3   \n",
      "2             3    Emp_3    Finance   38392           5                  3   \n",
      "3             4    Emp_4      Sales   60535          20                  3   \n",
      "4             5    Emp_5      Sales  108603           2                  2   \n",
      "..          ...      ...        ...     ...         ...                ...   \n",
      "95           96   Emp_96    Finance   93734          19                  4   \n",
      "96           97   Emp_97      Sales  100467          22                  2   \n",
      "97           98   Emp_98         IT   82662          23                  3   \n",
      "98           99   Emp_99         IT   42688          22                  1   \n",
      "99          100  Emp_100         HR   55342          14                  3   \n",
      "\n",
      "   Salary_Category  \n",
      "0             high  \n",
      "1           medium  \n",
      "2              low  \n",
      "3           medium  \n",
      "4             high  \n",
      "..             ...  \n",
      "95            high  \n",
      "96            high  \n",
      "97            high  \n",
      "98             low  \n",
      "99          medium  \n",
      "\n",
      "[100 rows x 7 columns]\n"
     ]
    }
   ],
   "source": [
    "print(df) #bu sekilde eklendigini gorebiliriz"
   ]
  },
  {
   "cell_type": "code",
   "execution_count": 18,
   "id": "d9c6b8d1-7d36-4a49-bdfe-4a5badbebd6a",
   "metadata": {},
   "outputs": [],
   "source": [
    "def new_performance(experience):\n",
    "    if experience>10:\n",
    "        return 1\n",
    "    else:\n",
    "        return 0"
   ]
  },
  {
   "cell_type": "code",
   "execution_count": 19,
   "id": "3c798dee-387c-49cb-855d-73276869709b",
   "metadata": {},
   "outputs": [
    {
     "name": "stdout",
     "output_type": "stream",
     "text": [
      "0     0\n",
      "1     1\n",
      "2     0\n",
      "3     1\n",
      "4     0\n",
      "     ..\n",
      "95    1\n",
      "96    1\n",
      "97    1\n",
      "98    1\n",
      "99    1\n",
      "Name: Experience, Length: 100, dtype: int64\n"
     ]
    }
   ],
   "source": [
    "print(df[\"Experience\"].apply(new_performance))"
   ]
  },
  {
   "cell_type": "code",
   "execution_count": 21,
   "id": "a944ddea-1be7-4641-a196-9a6ef29775de",
   "metadata": {},
   "outputs": [],
   "source": [
    "df[\"New_Score\"]= df[\"Performance_Score\"] + df[\"Experience\"].apply(new_performance)"
   ]
  },
  {
   "cell_type": "code",
   "execution_count": 22,
   "id": "2769522c-4608-47dd-9f1c-2d0031f133a6",
   "metadata": {},
   "outputs": [
    {
     "name": "stdout",
     "output_type": "stream",
     "text": [
      "    Employee_ID     Name Department  Salary  Experience  Performance_Score  \\\n",
      "0             1    Emp_1  Marketing   82251           6                  5   \n",
      "1             2    Emp_2      Sales   52662          24                  3   \n",
      "2             3    Emp_3    Finance   38392           5                  3   \n",
      "3             4    Emp_4      Sales   60535          20                  3   \n",
      "4             5    Emp_5      Sales  108603           2                  2   \n",
      "..          ...      ...        ...     ...         ...                ...   \n",
      "95           96   Emp_96    Finance   93734          19                  4   \n",
      "96           97   Emp_97      Sales  100467          22                  2   \n",
      "97           98   Emp_98         IT   82662          23                  3   \n",
      "98           99   Emp_99         IT   42688          22                  1   \n",
      "99          100  Emp_100         HR   55342          14                  3   \n",
      "\n",
      "   Salary_Category  New_Score  \n",
      "0             high          5  \n",
      "1           medium          4  \n",
      "2              low          3  \n",
      "3           medium          4  \n",
      "4             high          2  \n",
      "..             ...        ...  \n",
      "95            high          5  \n",
      "96            high          3  \n",
      "97            high          4  \n",
      "98             low          2  \n",
      "99          medium          4  \n",
      "\n",
      "[100 rows x 8 columns]\n"
     ]
    }
   ],
   "source": [
    "print(df)"
   ]
  },
  {
   "cell_type": "code",
   "execution_count": null,
   "id": "1a2ddb35-08c3-4ca3-8e4e-ebae7c891d43",
   "metadata": {},
   "outputs": [],
   "source": []
  }
 ],
 "metadata": {
  "kernelspec": {
   "display_name": "Python [conda env:base] *",
   "language": "python",
   "name": "conda-base-py"
  },
  "language_info": {
   "codemirror_mode": {
    "name": "ipython",
    "version": 3
   },
   "file_extension": ".py",
   "mimetype": "text/x-python",
   "name": "python",
   "nbconvert_exporter": "python",
   "pygments_lexer": "ipython3",
   "version": "3.13.5"
  }
 },
 "nbformat": 4,
 "nbformat_minor": 5
}
