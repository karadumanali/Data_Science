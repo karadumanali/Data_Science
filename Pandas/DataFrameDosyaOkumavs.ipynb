{
 "cells": [
  {
   "cell_type": "code",
   "execution_count": 1,
   "id": "82fb14be-733d-4eb3-ac9f-db99b8396d62",
   "metadata": {},
   "outputs": [],
   "source": [
    "import numpy as np\n",
    "import pandas as pd"
   ]
  },
  {
   "cell_type": "code",
   "execution_count": 2,
   "id": "cfa7e64d-c831-4c74-99a9-d6ce375cc442",
   "metadata": {},
   "outputs": [],
   "source": [
    "hava_durumu = pd.read_excel('weather.xlsx') #normalde 'csv' daha cok kullanilir. Excel'e gore daha kucuk alan kaplar. Simdilik Excel kullanalim"
   ]
  },
  {
   "cell_type": "code",
   "execution_count": 3,
   "id": "91d8595c-4ce1-41c0-b1a8-be2b303d8916",
   "metadata": {},
   "outputs": [
    {
     "name": "stdout",
     "output_type": "stream",
     "text": [
      "   Istanbul  New York  Amsterdam  Paris\n",
      "0        20        10         15     12\n",
      "1        21        10         17     14\n",
      "2        20        13         18     15\n",
      "3        22        14         19     18\n",
      "4        25        15         15     20\n",
      "5        28        13         22     16\n",
      "6        15        12         15     15\n",
      "7        20        15         14     14\n",
      "8        22        16         16     16\n"
     ]
    }
   ],
   "source": [
    "print(hava_durumu)"
   ]
  },
  {
   "cell_type": "markdown",
   "id": "3fcb7e1c-ed9a-46a1-a999-0306c08e11f1",
   "metadata": {},
   "source": [
    "##### ama tabiki karsimiza bu kadar kucuk data cikmicak demi."
   ]
  },
  {
   "cell_type": "code",
   "execution_count": 4,
   "id": "7cd937f7-01b0-4f36-99ef-7a515ae36b4a",
   "metadata": {},
   "outputs": [
    {
     "name": "stdout",
     "output_type": "stream",
     "text": [
      "   Istanbul  New York  Amsterdam  Paris\n",
      "0        20        10         15     12\n",
      "1        21        10         17     14\n",
      "2        20        13         18     15\n",
      "3        22        14         19     18\n",
      "4        25        15         15     20 \n",
      "\n",
      "   Istanbul  New York  Amsterdam  Paris\n",
      "4        25        15         15     20\n",
      "5        28        13         22     16\n",
      "6        15        12         15     15\n",
      "7        20        15         14     14\n",
      "8        22        16         16     16\n"
     ]
    }
   ],
   "source": [
    "print(hava_durumu.head(),\"\\n\") #bize ilk 5 eleman icin getirir\n",
    "print(hava_durumu.tail()) #son 4-5 elemani getirir"
   ]
  },
  {
   "cell_type": "markdown",
   "id": "765420de-bd73-46d3-adc7-6a85d6ccd9cf",
   "metadata": {},
   "source": [
    "##### bu kullanimin onemi cok buyuk verilerde az bi neymis ne degilmis diye goz atabilmek icin"
   ]
  },
  {
   "cell_type": "code",
   "execution_count": 7,
   "id": "ddf0f747-d16d-4bab-829d-3eda52bf0ab5",
   "metadata": {},
   "outputs": [
    {
     "name": "stdout",
     "output_type": "stream",
     "text": [
      "<class 'pandas.core.frame.DataFrame'>\n",
      "RangeIndex: 9 entries, 0 to 8\n",
      "Data columns (total 4 columns):\n",
      " #   Column     Non-Null Count  Dtype\n",
      "---  ------     --------------  -----\n",
      " 0   Istanbul   9 non-null      int64\n",
      " 1   New York   9 non-null      int64\n",
      " 2   Amsterdam  9 non-null      int64\n",
      " 3   Paris      9 non-null      int64\n",
      "dtypes: int64(4)\n",
      "memory usage: 420.0 bytes\n",
      "None\n"
     ]
    }
   ],
   "source": [
    "print(hava_durumu.info()) #bize bu dataframe hakkinda detayli bilgi verecektir"
   ]
  },
  {
   "cell_type": "code",
   "execution_count": 8,
   "id": "39b23aaa-5550-4ab7-ae21-5e0f19c02dcf",
   "metadata": {},
   "outputs": [
    {
     "name": "stdout",
     "output_type": "stream",
     "text": [
      "        Istanbul   New York  Amsterdam      Paris\n",
      "count   9.000000   9.000000   9.000000   9.000000\n",
      "mean   21.444444  13.111111  16.777778  15.555556\n",
      "std     3.609401   2.147350   2.538591   2.351123\n",
      "min    15.000000  10.000000  14.000000  12.000000\n",
      "25%    20.000000  12.000000  15.000000  14.000000\n",
      "50%    21.000000  13.000000  16.000000  15.000000\n",
      "75%    22.000000  15.000000  18.000000  16.000000\n",
      "max    28.000000  16.000000  22.000000  20.000000\n"
     ]
    }
   ],
   "source": [
    "print(hava_durumu.describe()) #bu bize cok onemli degerler verecektir. std sapma, mean... bu degerler verileri gormeden veri hakkinda yorum yapabilmek\n",
    "                             #icin onemli verilerdir."
   ]
  },
  {
   "cell_type": "code",
   "execution_count": 9,
   "id": "b10f24c8-c3e9-40e5-b18c-1081bd9d9dec",
   "metadata": {},
   "outputs": [
    {
     "name": "stdout",
     "output_type": "stream",
     "text": [
      "   Istanbul  New York  Amsterdam  Paris\n",
      "0     False     False      False  False\n",
      "1     False     False      False  False\n",
      "2     False     False      False  False\n",
      "3     False     False      False  False\n",
      "4     False     False      False  False\n",
      "5     False     False      False  False\n",
      "6     False     False      False  False\n",
      "7     False     False      False  False\n",
      "8     False     False      False  False\n"
     ]
    }
   ],
   "source": [
    "print(hava_durumu.isna()) #bos (null) deger olup olmadigina bakar"
   ]
  },
  {
   "cell_type": "code",
   "execution_count": null,
   "id": "b64fab61-f0ae-4d0f-844c-667f1cbedcfb",
   "metadata": {},
   "outputs": [],
   "source": []
  }
 ],
 "metadata": {
  "kernelspec": {
   "display_name": "Python [conda env:base] *",
   "language": "python",
   "name": "conda-base-py"
  },
  "language_info": {
   "codemirror_mode": {
    "name": "ipython",
    "version": 3
   },
   "file_extension": ".py",
   "mimetype": "text/x-python",
   "name": "python",
   "nbconvert_exporter": "python",
   "pygments_lexer": "ipython3",
   "version": "3.13.5"
  }
 },
 "nbformat": 4,
 "nbformat_minor": 5
}
