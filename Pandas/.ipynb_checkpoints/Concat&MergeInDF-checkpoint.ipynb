{
 "cells": [
  {
   "cell_type": "code",
   "execution_count": 3,
   "id": "4fb3deac-8946-4b9e-bf42-2a0df658ba9d",
   "metadata": {},
   "outputs": [],
   "source": [
    "import pandas as pd"
   ]
  },
  {
   "cell_type": "code",
   "execution_count": 4,
   "id": "28291752-396d-453d-8e72-4c99da030803",
   "metadata": {},
   "outputs": [],
   "source": [
    "df1=pd.read_csv('concat_data1.csv')\n",
    "df2=pd.read_csv('concat_data2.csv')"
   ]
  },
  {
   "cell_type": "code",
   "execution_count": 5,
   "id": "63791fee-277d-4c9e-8039-b5076a918708",
   "metadata": {},
   "outputs": [
    {
     "name": "stdout",
     "output_type": "stream",
     "text": [
      "   Employee_ID    Name Department\n",
      "0            1   Emp_1    Finance\n",
      "1            2   Emp_2  Marketing\n",
      "2            3   Emp_3         HR\n",
      "3            4   Emp_4    Finance\n",
      "4            5   Emp_5    Finance\n",
      "5            6   Emp_6  Marketing\n",
      "6            7   Emp_7         HR\n",
      "7            8   Emp_8         HR\n",
      "8            9   Emp_9    Finance\n",
      "9           10  Emp_10         IT \n",
      "\n",
      "   Employee_ID    Name Department\n",
      "0           11  Emp_11    Finance\n",
      "1           12  Emp_12    Finance\n",
      "2           13  Emp_13    Finance\n",
      "3           14  Emp_14    Finance\n",
      "4           15  Emp_15  Marketing\n",
      "5           16  Emp_16         HR\n",
      "6           17  Emp_17  Marketing\n",
      "7           18  Emp_18  Marketing\n",
      "8           19  Emp_19  Marketing\n",
      "9           20  Emp_20    Finance\n"
     ]
    }
   ],
   "source": [
    "print(df1,\"\\n\")\n",
    "print(df2)"
   ]
  },
  {
   "cell_type": "markdown",
   "id": "01971c54-2dcd-4220-940d-4307917b6cab",
   "metadata": {},
   "source": [
    "##### goruldugu uxere Employee_ID __devami__ sanki hatta oyle. Name de oyle. Bunu biri ayirmis demi bunu duzeltmemiz gerek"
   ]
  },
  {
   "cell_type": "code",
   "execution_count": 9,
   "id": "075dcf9c-39d9-4283-bf56-ec2578986a33",
   "metadata": {},
   "outputs": [],
   "source": [
    "concat_df=pd.concat([df1,df2], ignore_index=True) #bu ignore_index--> index'i gormezden gel demek. Yani index'ler cakismasin diye (defaul=False'dir)"
   ]
  },
  {
   "cell_type": "code",
   "execution_count": 10,
   "id": "20aea591-af5d-449f-a26d-e2cd985355f8",
   "metadata": {},
   "outputs": [
    {
     "name": "stdout",
     "output_type": "stream",
     "text": [
      "    Employee_ID    Name Department\n",
      "0             1   Emp_1    Finance\n",
      "1             2   Emp_2  Marketing\n",
      "2             3   Emp_3         HR\n",
      "3             4   Emp_4    Finance\n",
      "4             5   Emp_5    Finance\n",
      "5             6   Emp_6  Marketing\n",
      "6             7   Emp_7         HR\n",
      "7             8   Emp_8         HR\n",
      "8             9   Emp_9    Finance\n",
      "9            10  Emp_10         IT\n",
      "10           11  Emp_11    Finance\n",
      "11           12  Emp_12    Finance\n",
      "12           13  Emp_13    Finance\n",
      "13           14  Emp_14    Finance\n",
      "14           15  Emp_15  Marketing\n",
      "15           16  Emp_16         HR\n",
      "16           17  Emp_17  Marketing\n",
      "17           18  Emp_18  Marketing\n",
      "18           19  Emp_19  Marketing\n",
      "19           20  Emp_20    Finance\n"
     ]
    }
   ],
   "source": [
    "print(concat_df) #goruldugu uzere index'i ignore ederek eklemis"
   ]
  },
  {
   "cell_type": "markdown",
   "id": "4b9edec2-cbd6-4e44-9179-f00761f4caf4",
   "metadata": {},
   "source": [
    "##### simdi iki farkli tablo olup birinde iste bikac tane employee ve maas experience columnları var. bir diger tabloda ise yine birkac tane ama icerisinde ilk tablodan birkac tane employee ayni olmak uzere bu sefer de city, age gibi degerler var. bunları merge etmemiz gerekebilir"
   ]
  },
  {
   "cell_type": "markdown",
   "id": "93299fbd-19da-4c77-9824-b9d5dc20cf6c",
   "metadata": {},
   "source": [
    "## merge"
   ]
  },
  {
   "cell_type": "code",
   "execution_count": 11,
   "id": "6f773ce1-e818-4e71-909a-c740f52fc3fd",
   "metadata": {},
   "outputs": [],
   "source": [
    "merge1=pd.read_csv('merge_data1.csv')\n",
    "merge2=pd.read_csv('merge_data2.csv')"
   ]
  },
  {
   "cell_type": "code",
   "execution_count": 12,
   "id": "c828fbee-ece2-471c-8a46-7fb481c59bb9",
   "metadata": {},
   "outputs": [
    {
     "name": "stdout",
     "output_type": "stream",
     "text": [
      "   Employee_ID    Name Department\n",
      "0            1   Emp_1         IT\n",
      "1            2   Emp_2         HR\n",
      "2            3   Emp_3         IT\n",
      "3            4   Emp_4  Marketing\n",
      "4            5   Emp_5  Marketing\n",
      "5            6   Emp_6         IT\n",
      "6            7   Emp_7         IT\n",
      "7            8   Emp_8         IT\n",
      "8            9   Emp_9  Marketing\n",
      "9           10  Emp_10  Marketing \n",
      "\n",
      "   Employee_ID  Salary  Experience\n",
      "0            5   55658           3\n",
      "1            1  114478           5\n",
      "2           12   48431          19\n",
      "3           10   32747           7\n",
      "4            6   89150           9\n",
      "5           13   95725           7\n",
      "6            9   65773           4\n",
      "7           11   86886          18\n"
     ]
    }
   ],
   "source": [
    "print(merge1,\"\\n\")\n",
    "print(merge2)"
   ]
  },
  {
   "cell_type": "markdown",
   "id": "7557259f-edeb-499f-bf8d-de849cfa372b",
   "metadata": {},
   "source": [
    "##### goruldugu uzere 2 tablo ikisinde de columnlar farkli fakat 2. tabloda bazi employee ler 1. tabloda da var bazilari ise yok sadece 1. de  bazilari sadece 2.de"
   ]
  },
  {
   "cell_type": "markdown",
   "id": "23a5e094-ba40-44b9-86f0-9def62532a3f",
   "metadata": {},
   "source": [
    "##### sadece kesisen yani her iki tabloda olanlari merge edebiliriz <br> hepsini birlestirip bilgisi bilinmeyenler NaN gorunsun isteyebiliriz"
   ]
  },
  {
   "cell_type": "markdown",
   "id": "355c1293-5fda-401b-8f7f-512546c97c14",
   "metadata": {},
   "source": [
    "### merge -outer join"
   ]
  },
  {
   "cell_type": "code",
   "execution_count": 13,
   "id": "9344b506-d62d-4702-be5a-4a98d0a0a5f0",
   "metadata": {},
   "outputs": [],
   "source": [
    "merge_outer=pd.merge(merge1, merge2, on=\"Employee_ID\", how=\"outer\") #'on' -->neye gore merge edelim demek icin, 'how' ise nasil olsun. ilk olarak outer"
   ]
  },
  {
   "cell_type": "code",
   "execution_count": 14,
   "id": "909d14a4-acf2-4491-b815-74d5dc35f571",
   "metadata": {},
   "outputs": [
    {
     "name": "stdout",
     "output_type": "stream",
     "text": [
      "    Employee_ID    Name Department    Salary  Experience\n",
      "0             1   Emp_1         IT  114478.0         5.0\n",
      "1             2   Emp_2         HR       NaN         NaN\n",
      "2             3   Emp_3         IT       NaN         NaN\n",
      "3             4   Emp_4  Marketing       NaN         NaN\n",
      "4             5   Emp_5  Marketing   55658.0         3.0\n",
      "5             6   Emp_6         IT   89150.0         9.0\n",
      "6             7   Emp_7         IT       NaN         NaN\n",
      "7             8   Emp_8         IT       NaN         NaN\n",
      "8             9   Emp_9  Marketing   65773.0         4.0\n",
      "9            10  Emp_10  Marketing   32747.0         7.0\n",
      "10           11     NaN        NaN   86886.0        18.0\n",
      "11           12     NaN        NaN   48431.0        19.0\n",
      "12           13     NaN        NaN   95725.0         7.0\n"
     ]
    }
   ],
   "source": [
    "print(merge_outer)"
   ]
  },
  {
   "cell_type": "markdown",
   "id": "323a5821-74ca-4481-af36-56959bea8b9a",
   "metadata": {},
   "source": [
    "##### herkes gelir bulamadigi degerlere 'NaN' koyar .... birlesim kumesi gibi dusunebilirsin"
   ]
  },
  {
   "cell_type": "markdown",
   "id": "1b8f0b0d-ad30-46fd-bf79-0d300accb036",
   "metadata": {},
   "source": [
    "### merge - left join"
   ]
  },
  {
   "cell_type": "code",
   "execution_count": 16,
   "id": "659c583e-c97e-4069-aaed-a6a56ed7035d",
   "metadata": {},
   "outputs": [],
   "source": [
    "merge_left=pd.merge(merge1, merge2, on=\"Employee_ID\", how=\"left\")"
   ]
  },
  {
   "cell_type": "code",
   "execution_count": 17,
   "id": "b6257e59-4534-4b2c-ba42-20e727500df0",
   "metadata": {},
   "outputs": [
    {
     "name": "stdout",
     "output_type": "stream",
     "text": [
      "   Employee_ID    Name Department    Salary  Experience\n",
      "0            1   Emp_1         IT  114478.0         5.0\n",
      "1            2   Emp_2         HR       NaN         NaN\n",
      "2            3   Emp_3         IT       NaN         NaN\n",
      "3            4   Emp_4  Marketing       NaN         NaN\n",
      "4            5   Emp_5  Marketing   55658.0         3.0\n",
      "5            6   Emp_6         IT   89150.0         9.0\n",
      "6            7   Emp_7         IT       NaN         NaN\n",
      "7            8   Emp_8         IT       NaN         NaN\n",
      "8            9   Emp_9  Marketing   65773.0         4.0\n",
      "9           10  Emp_10  Marketing   32747.0         7.0\n"
     ]
    }
   ],
   "source": [
    "print(merge_left)"
   ]
  },
  {
   "cell_type": "markdown",
   "id": "cce8ab09-aa78-4f30-9dfc-376328c2948b",
   "metadata": {},
   "source": [
    "##### bu goruldugu uzere ana tablo olarak 1. tabloyu alir. 2. tablodaki column'lari getirir. Eger hem 1. de hem de 2.de olan elemanlar varsa bunlarin ozelliklerini doldurur..<br> kumede A ile B kumesinin islemi gibi. A ile B kesistir. S(A) al. sonucta A ile B nin kesistigi bolge de A'nin elemani deil mi"
   ]
  },
  {
   "cell_type": "markdown",
   "id": "69d80967-a52b-4f43-afaf-2c509e6b3a75",
   "metadata": {},
   "source": [
    "### merge - Right join"
   ]
  },
  {
   "cell_type": "code",
   "execution_count": 18,
   "id": "f7ffec60-ab6d-45d2-a473-824b85fea6e8",
   "metadata": {},
   "outputs": [],
   "source": [
    "merge_right=pd.merge(merge1, merge2, on=\"Employee_ID\", how=\"right\")"
   ]
  },
  {
   "cell_type": "code",
   "execution_count": 19,
   "id": "9fa89656-20d0-495a-bc31-7275b31a2fd3",
   "metadata": {},
   "outputs": [
    {
     "name": "stdout",
     "output_type": "stream",
     "text": [
      "   Employee_ID    Name Department  Salary  Experience\n",
      "0            5   Emp_5  Marketing   55658           3\n",
      "1            1   Emp_1         IT  114478           5\n",
      "2           12     NaN        NaN   48431          19\n",
      "3           10  Emp_10  Marketing   32747           7\n",
      "4            6   Emp_6         IT   89150           9\n",
      "5           13     NaN        NaN   95725           7\n",
      "6            9   Emp_9  Marketing   65773           4\n",
      "7           11     NaN        NaN   86886          18\n"
     ]
    }
   ],
   "source": [
    "print(merge_right)"
   ]
  },
  {
   "cell_type": "markdown",
   "id": "91c92343-d503-44d8-996a-f3c7d99e1605",
   "metadata": {},
   "source": [
    "##### bu da 2. tabloyu ana baz alir. geri klan ayni mantik"
   ]
  },
  {
   "cell_type": "markdown",
   "id": "f0661ecf-194f-41b9-b3b9-9443ab4b04bc",
   "metadata": {},
   "source": [
    "### merge - inner join"
   ]
  },
  {
   "cell_type": "markdown",
   "id": "3b61d2a5-c148-4c9d-b847-833b3d126334",
   "metadata": {},
   "source": [
    "##### bu da tahmin edilecegi uzere sadece kesisim bolgesi"
   ]
  },
  {
   "cell_type": "code",
   "execution_count": 20,
   "id": "35de4656-d884-4ca8-aa7d-0e183314db5f",
   "metadata": {},
   "outputs": [],
   "source": [
    "merge_inner=pd.merge(merge1, merge2, on=\"Employee_ID\", how=\"inner\")"
   ]
  },
  {
   "cell_type": "code",
   "execution_count": 21,
   "id": "c08d4e1a-786c-42de-b865-94466e5edc1f",
   "metadata": {},
   "outputs": [
    {
     "name": "stdout",
     "output_type": "stream",
     "text": [
      "   Employee_ID    Name Department  Salary  Experience\n",
      "0            1   Emp_1         IT  114478           5\n",
      "1            5   Emp_5  Marketing   55658           3\n",
      "2            6   Emp_6         IT   89150           9\n",
      "3            9   Emp_9  Marketing   65773           4\n",
      "4           10  Emp_10  Marketing   32747           7\n"
     ]
    }
   ],
   "source": [
    "print(merge_inner)"
   ]
  },
  {
   "cell_type": "code",
   "execution_count": null,
   "id": "2d88523f-e358-4f98-8352-0fda93997893",
   "metadata": {},
   "outputs": [],
   "source": []
  }
 ],
 "metadata": {
  "kernelspec": {
   "display_name": "Python [conda env:base] *",
   "language": "python",
   "name": "conda-base-py"
  },
  "language_info": {
   "codemirror_mode": {
    "name": "ipython",
    "version": 3
   },
   "file_extension": ".py",
   "mimetype": "text/x-python",
   "name": "python",
   "nbconvert_exporter": "python",
   "pygments_lexer": "ipython3",
   "version": "3.13.5"
  }
 },
 "nbformat": 4,
 "nbformat_minor": 5
}
