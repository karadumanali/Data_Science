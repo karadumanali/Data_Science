{
 "cells": [
  {
   "cell_type": "code",
   "execution_count": 2,
   "id": "cc76632b-0cfc-4fc5-922b-075e50a08fcd",
   "metadata": {},
   "outputs": [],
   "source": [
    "import numpy as np\n",
    "import pandas as pd"
   ]
  },
  {
   "cell_type": "code",
   "execution_count": 3,
   "id": "9edc9e65-0e2b-46ab-8405-75933159853b",
   "metadata": {},
   "outputs": [],
   "source": [
    "hava_durumu_na=pd.read_excel('weatherna.xlsx')"
   ]
  },
  {
   "cell_type": "code",
   "execution_count": 4,
   "id": "d121740e-68b6-4ad4-a1a5-2c51eced5c46",
   "metadata": {},
   "outputs": [
    {
     "name": "stdout",
     "output_type": "stream",
     "text": [
      "   Istanbul  New York  Amsterdam  Paris\n",
      "0      20.0      10.0       15.0   12.0\n",
      "1      21.0      10.0        NaN   14.0\n",
      "2       NaN      13.0       18.0   15.0\n",
      "3      22.0      14.0       19.0   18.0\n",
      "4      25.0      15.0       15.0   20.0\n",
      "5      28.0       NaN       22.0    NaN\n",
      "6      15.0      12.0       15.0   15.0\n",
      "7      20.0      15.0       14.0    NaN\n",
      "8      22.0      16.0       16.0    NaN \n",
      "\n",
      "   Istanbul  New York  Amsterdam  Paris\n",
      "0     False     False      False  False\n",
      "1     False     False       True  False\n",
      "2      True     False      False  False\n",
      "3     False     False      False  False\n",
      "4     False     False      False  False\n",
      "5     False      True      False   True\n",
      "6     False     False      False  False\n",
      "7     False     False      False   True\n",
      "8     False     False      False   True\n"
     ]
    }
   ],
   "source": [
    "print(hava_durumu_na,\"\\n\") #bu data framde de goruldugu uzere eksik datalar var. Bos yani\n",
    "print(hava_durumu_na.isna()) #boslarda True yaziyor"
   ]
  },
  {
   "cell_type": "code",
   "execution_count": 5,
   "id": "1671cb70-c6b1-4044-81c2-5f6344c21a9f",
   "metadata": {},
   "outputs": [
    {
     "name": "stdout",
     "output_type": "stream",
     "text": [
      "        Istanbul   New York  Amsterdam      Paris\n",
      "count   8.000000   8.000000   8.000000   6.000000\n",
      "mean   21.625000  13.125000  16.750000  15.666667\n",
      "std     3.814914   2.295181   2.712405   2.875181\n",
      "min    15.000000  10.000000  14.000000  12.000000\n",
      "25%    20.000000  11.500000  15.000000  14.250000\n",
      "50%    21.500000  13.500000  15.500000  15.000000\n",
      "75%    22.750000  15.000000  18.250000  17.250000\n",
      "max    28.000000  16.000000  22.000000  20.000000\n"
     ]
    }
   ],
   "source": [
    "print(hava_durumu_na.describe()) #calistirabilirim tabi . elindeki datalarla hesaplar"
   ]
  },
  {
   "cell_type": "code",
   "execution_count": 7,
   "id": "8ec17d58-6fd7-4c1e-abd4-c7edb8a354e5",
   "metadata": {},
   "outputs": [
    {
     "name": "stdout",
     "output_type": "stream",
     "text": [
      "0    12.0\n",
      "1    14.0\n",
      "2    15.0\n",
      "3    18.0\n",
      "4    20.0\n",
      "5     NaN\n",
      "6    15.0\n",
      "7     NaN\n",
      "8     NaN\n",
      "Name: Paris, dtype: float64 \n",
      "\n",
      "0    False\n",
      "1    False\n",
      "2    False\n",
      "3    False\n",
      "4    False\n",
      "5     True\n",
      "6    False\n",
      "7     True\n",
      "8     True\n",
      "Name: Paris, dtype: bool\n"
     ]
    }
   ],
   "source": [
    "print(hava_durumu_na['Paris'],\"\\n\")\n",
    "print(hava_durumu_na['Paris'].isna())"
   ]
  },
  {
   "cell_type": "code",
   "execution_count": 13,
   "id": "15ae72f5-7760-495e-a160-f996164dec0b",
   "metadata": {},
   "outputs": [
    {
     "name": "stdout",
     "output_type": "stream",
     "text": [
      "   Istanbul  New York  Amsterdam  Paris\n",
      "0      20.0      10.0       15.0   12.0\n",
      "3      22.0      14.0       19.0   18.0\n",
      "4      25.0      15.0       15.0   20.0\n",
      "6      15.0      12.0       15.0   15.0 \n",
      "\n",
      "Empty DataFrame\n",
      "Columns: []\n",
      "Index: [0, 1, 2, 3, 4, 5, 6, 7, 8]\n"
     ]
    }
   ],
   "source": [
    "print(hava_durumu_na.dropna(),\"\\n\") #axis=0 oldugu icin row'da \"herhangi bir yerde NaN varsa\" o row'u siliyor\n",
    "print(hava_durumu_na.dropna(axis=1)) #burda her column'da Nan oldugu icin :) butun column'lari siliyor"
   ]
  },
  {
   "cell_type": "code",
   "execution_count": 14,
   "id": "cf643c50-3df2-4b0f-a3c9-a682d13bf66a",
   "metadata": {},
   "outputs": [
    {
     "name": "stdout",
     "output_type": "stream",
     "text": [
      "   Istanbul  New York  Amsterdam  Paris\n",
      "0      20.0      10.0       15.0   12.0\n",
      "1      21.0      10.0       10.0   14.0\n",
      "2      10.0      13.0       18.0   15.0\n",
      "3      22.0      14.0       19.0   18.0\n",
      "4      25.0      15.0       15.0   20.0\n",
      "5      28.0      10.0       22.0   10.0\n",
      "6      15.0      12.0       15.0   15.0\n",
      "7      20.0      15.0       14.0   10.0\n",
      "8      22.0      16.0       16.0   10.0\n"
     ]
    }
   ],
   "source": [
    "print(hava_durumu_na.fillna(10)) #dersek butun NaN lari 10 ile doldurur"
   ]
  },
  {
   "cell_type": "code",
   "execution_count": 15,
   "id": "7cae443d-f801-4fac-86b3-9ef7e5b7903a",
   "metadata": {},
   "outputs": [
    {
     "name": "stdout",
     "output_type": "stream",
     "text": [
      "Istanbul     21.625000\n",
      "New York     13.125000\n",
      "Amsterdam    16.750000\n",
      "Paris        15.666667\n",
      "dtype: float64 \n",
      "\n",
      "Istanbul     21.5\n",
      "New York     13.5\n",
      "Amsterdam    15.5\n",
      "Paris        15.0\n",
      "dtype: float64\n"
     ]
    }
   ],
   "source": [
    "print(hava_durumu_na.mean(),\"\\n\")\n",
    "print(hava_durumu_na.median())"
   ]
  },
  {
   "cell_type": "code",
   "execution_count": 19,
   "id": "7f02c721-4493-45ae-9960-fc03892c13ac",
   "metadata": {},
   "outputs": [
    {
     "name": "stdout",
     "output_type": "stream",
     "text": [
      "   Istanbul  New York  Amsterdam      Paris\n",
      "0    20.000    10.000      15.00  12.000000\n",
      "1    21.000    10.000      16.75  14.000000\n",
      "2    21.625    13.000      18.00  15.000000\n",
      "3    22.000    14.000      19.00  18.000000\n",
      "4    25.000    15.000      15.00  20.000000\n",
      "5    28.000    13.125      22.00  15.666667\n",
      "6    15.000    12.000      15.00  15.000000\n",
      "7    20.000    15.000      14.00  15.666667\n",
      "8    22.000    16.000      16.00  15.666667 \n",
      "\n",
      "   Istanbul  New York  Amsterdam  Paris\n",
      "0      20.0      10.0       15.0   12.0\n",
      "1      21.0      10.0       15.5   14.0\n",
      "2      21.5      13.0       18.0   15.0\n",
      "3      22.0      14.0       19.0   18.0\n",
      "4      25.0      15.0       15.0   20.0\n",
      "5      28.0      13.5       22.0   15.0\n",
      "6      15.0      12.0       15.0   15.0\n",
      "7      20.0      15.0       14.0   15.0\n",
      "8      22.0      16.0       16.0   15.0\n"
     ]
    }
   ],
   "source": [
    "print(hava_durumu_na.fillna(hava_durumu_na.mean()),\"\\n\") #dersek her column'un nan'ini kendi ortalamasiyla dolduracaktir. mesela istanbul icin kendi ort.\n",
    "print(hava_durumu_na.fillna(hava_durumu_na.median()))"
   ]
  },
  {
   "cell_type": "markdown",
   "id": "86f892cb-e91b-4a00-8244-5f7a34c7568f",
   "metadata": {},
   "source": [
    "## Group By"
   ]
  },
  {
   "cell_type": "markdown",
   "id": "ee0905cc-c307-4b41-8a61-ca3930530f54",
   "metadata": {},
   "source": [
    "##### csv dosyalari excelde nasil sutunla ayriliyorsa burda da ',' ile ayrilir tek bi sutunun icerisinde"
   ]
  },
  {
   "cell_type": "code",
   "execution_count": 20,
   "id": "a13d0891-13b3-4632-a115-90892d32ea84",
   "metadata": {},
   "outputs": [],
   "source": [
    "csv_df = pd.read_csv('employee.csv')"
   ]
  },
  {
   "cell_type": "code",
   "execution_count": 21,
   "id": "49067553-10ee-4492-842e-aea14b6b3fe5",
   "metadata": {},
   "outputs": [
    {
     "name": "stdout",
     "output_type": "stream",
     "text": [
      "   Department Employee  Salary  Experience           City\n",
      "0   Marketing    Emp_1   53483           1       New York\n",
      "1       Sales    Emp_2   78555           8         Austin\n",
      "2     Finance    Emp_3   47159           3         Austin\n",
      "3       Sales    Emp_4  110077           3  San Francisco\n",
      "4       Sales    Emp_5   65920           1       New York\n",
      "5          IT    Emp_6   97121          11        Chicago\n",
      "6     Finance    Emp_7   99479           5        Chicago\n",
      "7     Finance    Emp_8  119475          10       New York\n",
      "8     Finance    Emp_9   49457           7        Chicago\n",
      "9       Sales   Emp_10   96557          10        Chicago\n",
      "10  Marketing   Emp_11  107189           9       New York\n",
      "11    Finance   Emp_12  108953          12         Austin\n",
      "12      Sales   Emp_13   82995           7       New York\n",
      "13         IT   Emp_14   70757           9         Austin\n",
      "14  Marketing   Emp_15   39692           8        Chicago\n",
      "15         IT   Emp_16   75758          12        Chicago\n",
      "16  Marketing   Emp_17  102409           2        Chicago\n",
      "17      Sales   Emp_18  101211           1  San Francisco\n",
      "18         HR   Emp_19   95697           7         Austin\n",
      "19  Marketing   Emp_20   67065           7  San Francisco\n",
      "20         IT   Emp_21   62606          14  San Francisco\n",
      "21      Sales   Emp_22   41534           8       New York\n",
      "22  Marketing   Emp_23   70397           5  San Francisco\n",
      "23         HR   Emp_24   31016           3       New York\n",
      "24         HR   Emp_25  119789          12       New York\n",
      "25    Finance   Emp_26   85591           8  San Francisco\n",
      "26    Finance   Emp_27  119812           6         Austin\n",
      "27         IT   Emp_28   53247          11         Austin\n",
      "28  Marketing   Emp_29   54300           3         Austin\n",
      "29  Marketing   Emp_30  104065           1         Austin\n",
      "30    Finance   Emp_31  112798           3         Austin\n",
      "31  Marketing   Emp_32   39268           5  San Francisco\n",
      "32  Marketing   Emp_33  116807          14  San Francisco\n",
      "33         HR   Emp_34   42185           3        Chicago\n",
      "34    Finance   Emp_35   93704           1         Austin\n",
      "35      Sales   Emp_36  116779           5  San Francisco\n",
      "36    Finance   Emp_37   69099          10        Chicago\n",
      "37      Sales   Emp_38   38571           7         Austin\n",
      "38         HR   Emp_39   68044          14       New York\n",
      "39         IT   Emp_40   81214           7        Chicago\n",
      "40  Marketing   Emp_41   91228          11  San Francisco\n",
      "41         HR   Emp_42   78984           9       New York\n",
      "42  Marketing   Emp_43   70774          10       New York\n",
      "43         IT   Emp_44   32568          10       New York\n",
      "44         IT   Emp_45   92592          12        Chicago\n",
      "45         HR   Emp_46   97563          13  San Francisco\n",
      "46         IT   Emp_47   32695           3       New York\n",
      "47      Sales   Emp_48   78190           7         Austin\n",
      "48         IT   Emp_49   35258           1       New York\n",
      "49  Marketing   Emp_50  117538           4       New York\n"
     ]
    }
   ],
   "source": [
    "print(csv_df)"
   ]
  },
  {
   "cell_type": "code",
   "execution_count": 23,
   "id": "e8c9ad41-54a6-4c7e-8649-0792b45f78af",
   "metadata": {},
   "outputs": [
    {
     "name": "stdout",
     "output_type": "stream",
     "text": [
      "              Salary  Experience\n",
      "count      50.000000   50.000000\n",
      "mean    78344.500000    7.060000\n",
      "std     27817.603904    3.966235\n",
      "min     31016.000000    1.000000\n",
      "25%     53687.250000    3.000000\n",
      "50%     78769.500000    7.000000\n",
      "75%    100778.000000   10.000000\n",
      "max    119812.000000   14.000000\n"
     ]
    }
   ],
   "source": [
    "print(csv_df.describe()) #sadece sayisal veriler icin alabiliyor"
   ]
  },
  {
   "cell_type": "code",
   "execution_count": 25,
   "id": "ce79eaff-bf7a-43c5-9541-35790448b726",
   "metadata": {},
   "outputs": [
    {
     "name": "stdout",
     "output_type": "stream",
     "text": [
      "Salary        78344.50\n",
      "Experience        7.06\n",
      "dtype: float64\n"
     ]
    }
   ],
   "source": [
    "#print(csv_df.mean()) calismicaktir cunku city department gibi seyler bir metin o yuzden\n",
    "print(csv_df[['Salary','Experience']].mean()) #bu olur mesela"
   ]
  },
  {
   "cell_type": "code",
   "execution_count": 28,
   "id": "e8e495d3-baea-45d7-b790-ac09d3139156",
   "metadata": {},
   "outputs": [
    {
     "name": "stdout",
     "output_type": "stream",
     "text": [
      "   Department Employee  Salary  Experience           City\n",
      "1       Sales    Emp_2   78555           8         Austin\n",
      "5          IT    Emp_6   97121          11        Chicago\n",
      "7     Finance    Emp_8  119475          10       New York\n",
      "8     Finance    Emp_9   49457           7        Chicago\n",
      "9       Sales   Emp_10   96557          10        Chicago\n",
      "10  Marketing   Emp_11  107189           9       New York\n",
      "11    Finance   Emp_12  108953          12         Austin\n",
      "12      Sales   Emp_13   82995           7       New York\n",
      "13         IT   Emp_14   70757           9         Austin\n",
      "14  Marketing   Emp_15   39692           8        Chicago\n",
      "15         IT   Emp_16   75758          12        Chicago\n",
      "18         HR   Emp_19   95697           7         Austin\n",
      "19  Marketing   Emp_20   67065           7  San Francisco\n",
      "20         IT   Emp_21   62606          14  San Francisco\n",
      "21      Sales   Emp_22   41534           8       New York\n",
      "24         HR   Emp_25  119789          12       New York\n",
      "25    Finance   Emp_26   85591           8  San Francisco\n",
      "27         IT   Emp_28   53247          11         Austin\n",
      "32  Marketing   Emp_33  116807          14  San Francisco\n",
      "36    Finance   Emp_37   69099          10        Chicago\n",
      "37      Sales   Emp_38   38571           7         Austin\n",
      "38         HR   Emp_39   68044          14       New York\n",
      "39         IT   Emp_40   81214           7        Chicago\n",
      "40  Marketing   Emp_41   91228          11  San Francisco\n",
      "41         HR   Emp_42   78984           9       New York\n",
      "42  Marketing   Emp_43   70774          10       New York\n",
      "43         IT   Emp_44   32568          10       New York\n",
      "44         IT   Emp_45   92592          12        Chicago\n",
      "45         HR   Emp_46   97563          13  San Francisco\n",
      "47      Sales   Emp_48   78190           7         Austin \n",
      "\n",
      "Department    30\n",
      "Employee      30\n",
      "Salary        30\n",
      "Experience    30\n",
      "City          30\n",
      "dtype: int64\n"
     ]
    }
   ],
   "source": [
    "print(csv_df[csv_df['Experience']>6],\"\\n\") #seklinde experienceleri 6'dan buyuk olanları ve \n",
    "print(csv_df[csv_df['Experience']>6].count()) #boyle de kac tane oldugunu gorebiliriz"
   ]
  },
  {
   "cell_type": "code",
   "execution_count": 29,
   "id": "762881ab-ac3f-4a43-b88c-e41d38729b41",
   "metadata": {},
   "outputs": [
    {
     "name": "stdout",
     "output_type": "stream",
     "text": [
      "  Department Employee  Salary  Experience           City\n",
      "0  Marketing    Emp_1   53483           1       New York\n",
      "1      Sales    Emp_2   78555           8         Austin\n",
      "2    Finance    Emp_3   47159           3         Austin\n",
      "3      Sales    Emp_4  110077           3  San Francisco\n",
      "4      Sales    Emp_5   65920           1       New York\n"
     ]
    }
   ],
   "source": [
    "print(csv_df.head())"
   ]
  },
  {
   "cell_type": "markdown",
   "id": "b055e217-aad4-4b42-a845-0e82d8d0e8bb",
   "metadata": {},
   "source": [
    "##### csv_df.groupby('Departmen') --> bu DataFrameGroupBy olusturck yani bir DataFrame olusturmicak"
   ]
  },
  {
   "cell_type": "code",
   "execution_count": 41,
   "id": "b89743aa-ebf1-4342-8fd6-788cc3963856",
   "metadata": {},
   "outputs": [],
   "source": [
    "grouped_df = csv_df.groupby('Department')"
   ]
  },
  {
   "cell_type": "code",
   "execution_count": 42,
   "id": "5a0093a2-38af-43ae-9963-157fe1da64a4",
   "metadata": {},
   "outputs": [
    {
     "name": "stdout",
     "output_type": "stream",
     "text": [
      "<pandas.core.groupby.generic.DataFrameGroupBy object at 0x0000014BEADE6350>\n",
      "            Employee  Salary  Experience  City\n",
      "Department                                    \n",
      "Finance           10      10          10    10\n",
      "HR                 7       7           7     7\n",
      "IT                10      10          10    10\n",
      "Marketing         13      13          13    13\n",
      "Sales             10      10          10    10 \n",
      "\n"
     ]
    }
   ],
   "source": [
    "print(grouped_df) #bize soyledigim sonucu verecektir.\n",
    "print(grouped_df.count(),\"\\n\") #iste her departmenden kac tane var filan\n",
    "#grouped_df df deildir.\n",
    "\n"
   ]
  },
  {
   "cell_type": "code",
   "execution_count": 43,
   "id": "0db6baf1-ca74-4a54-a2eb-fab323fe55ad",
   "metadata": {},
   "outputs": [
    {
     "name": "stdout",
     "output_type": "stream",
     "text": [
      "           Salary                                                          \\\n",
      "            count          mean           std      min       25%      50%   \n",
      "Department                                                                  \n",
      "Finance      10.0  90552.700000  27228.231832  47159.0  73222.00  96591.5   \n",
      "HR            7.0  76182.571429  31647.523983  31016.0  55114.50  78984.0   \n",
      "IT           10.0  63381.600000  24272.881041  32568.0  39755.25  66681.5   \n",
      "Marketing    13.0  79555.000000  28431.207129  39268.0  54300.00  70774.0   \n",
      "Sales        10.0  81038.900000  26623.181534  38571.0  68987.50  80775.0   \n",
      "\n",
      "                                Experience                                \\\n",
      "                  75%       max      count      mean       std  min  25%   \n",
      "Department                                                                 \n",
      "Finance     111836.75  119812.0       10.0  6.500000  3.566822  1.0  3.5   \n",
      "HR           96630.00  119789.0        7.0  8.714286  4.572173  3.0  5.0   \n",
      "IT           79850.00   97121.0       10.0  9.000000  4.163332  1.0  7.5   \n",
      "Marketing   104065.00  117538.0       13.0  6.153846  4.079341  1.0  3.0   \n",
      "Sales       100047.50  116779.0       10.0  5.700000  3.093003  1.0  3.5   \n",
      "\n",
      "                               \n",
      "             50%    75%   max  \n",
      "Department                     \n",
      "Finance      6.5   9.50  12.0  \n",
      "HR           9.0  12.50  14.0  \n",
      "IT          10.5  11.75  14.0  \n",
      "Marketing    5.0   9.00  14.0  \n",
      "Sales        7.0   7.75  10.0  \n"
     ]
    }
   ],
   "source": [
    "print(grouped_df.describe())"
   ]
  },
  {
   "cell_type": "code",
   "execution_count": 44,
   "id": "b87b0dad-0c48-4b4d-9114-18fc479204dd",
   "metadata": {},
   "outputs": [
    {
     "name": "stdout",
     "output_type": "stream",
     "text": [
      "Department\n",
      "Finance      90552.700000\n",
      "HR           76182.571429\n",
      "IT           63381.600000\n",
      "Marketing    79555.000000\n",
      "Sales        81038.900000\n",
      "Name: Salary, dtype: float64\n"
     ]
    }
   ],
   "source": [
    "print(grouped_df['Salary'].mean()) #guzel bisi"
   ]
  },
  {
   "cell_type": "code",
   "execution_count": 45,
   "id": "bd1f5708-ef9d-4167-b1c8-94ad6d89c305",
   "metadata": {},
   "outputs": [],
   "source": [
    "grup_city=csv_df.groupby('City')"
   ]
  },
  {
   "cell_type": "code",
   "execution_count": 46,
   "id": "341d657b-08c0-4a23-baea-fd38b9f32448",
   "metadata": {},
   "outputs": [
    {
     "name": "stdout",
     "output_type": "stream",
     "text": [
      "City\n",
      "Austin           81216.000000\n",
      "Chicago          76869.363636\n",
      "New York         70484.133333\n",
      "San Francisco    87144.727273\n",
      "Name: Salary, dtype: float64\n"
     ]
    }
   ],
   "source": [
    "print(grup_city['Salary'].mean())"
   ]
  },
  {
   "cell_type": "code",
   "execution_count": null,
   "id": "f5bd4f7e-ca36-446a-a4dd-68f0c1e79bc0",
   "metadata": {},
   "outputs": [],
   "source": []
  }
 ],
 "metadata": {
  "kernelspec": {
   "display_name": "Python [conda env:base] *",
   "language": "python",
   "name": "conda-base-py"
  },
  "language_info": {
   "codemirror_mode": {
    "name": "ipython",
    "version": 3
   },
   "file_extension": ".py",
   "mimetype": "text/x-python",
   "name": "python",
   "nbconvert_exporter": "python",
   "pygments_lexer": "ipython3",
   "version": "3.13.5"
  }
 },
 "nbformat": 4,
 "nbformat_minor": 5
}
