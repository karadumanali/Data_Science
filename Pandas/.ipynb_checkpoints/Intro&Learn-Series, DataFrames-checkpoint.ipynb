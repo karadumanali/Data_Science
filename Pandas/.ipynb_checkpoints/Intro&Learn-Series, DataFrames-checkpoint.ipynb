{
 "cells": [
  {
   "cell_type": "code",
   "execution_count": 1,
   "id": "58ee822c-1742-4efc-9683-a7e4b4a24ae0",
   "metadata": {},
   "outputs": [],
   "source": [
    "import numpy as np\n",
    "import pandas as pd "
   ]
  },
  {
   "cell_type": "markdown",
   "id": "727f12c9-5afe-4971-b818-63c3d9e2f93b",
   "metadata": {},
   "source": [
    "##### Pandas, NumPy'nin sagladigi hiz ve verimliligin uzerine insa edilmis, daha ust duzey ve tablo benzeri veriler için daha kullanisli bir kutuphanedir.__Yani pandas'in temel yapi taslari Numpy arraylari'dir.__"
   ]
  },
  {
   "cell_type": "markdown",
   "id": "80d6c310-28e0-4e45-bf57-e7ed7b317dc3",
   "metadata": {},
   "source": [
    "# Series"
   ]
  },
  {
   "cell_type": "markdown",
   "id": "1df22806-4877-4301-b528-cf1ae8fa357e",
   "metadata": {},
   "source": [
    "#### tek boyutlu, etiketli bir veri yapisidir. Sanki bir Excel sutunu gibi dusunebilirsin."
   ]
  },
  {
   "cell_type": "code",
   "execution_count": 2,
   "id": "1887be31-8e1a-4124-b611-bb73e608644b",
   "metadata": {},
   "outputs": [
    {
     "name": "stdout",
     "output_type": "stream",
     "text": [
      "ali        75\n",
      "mustafa    85\n",
      "aybuke     80\n",
      "dtype: int64\n"
     ]
    }
   ],
   "source": [
    "notlar={\"ali\":75, \"mustafa\":85, \"aybuke\":80} #elimizde boyle bir ornek sozluk olsun.\n",
    "print(pd.Series(notlar)) #diyerek siraya gore karsilikli row column iliskili yazdirabiliyoruz"
   ]
  },
  {
   "cell_type": "markdown",
   "id": "9b70394f-8307-492f-a009-6ba5f9df5319",
   "metadata": {},
   "source": [
    "#####  tabi bu islemleri diziler ve arraylar ile de yapabiliriz<br> burda kullanim soyledir: __Series(data,index)__ mantigidir. Ilk basa **data'lar** sonra **index'ler** yazilir."
   ]
  },
  {
   "cell_type": "code",
   "execution_count": 3,
   "id": "03e8f3cb-52f1-48f9-8888-53052c8e0d56",
   "metadata": {},
   "outputs": [
    {
     "name": "stdout",
     "output_type": "stream",
     "text": [
      "0        ali\n",
      "1    mustafa\n",
      "2     aybuke\n",
      "dtype: object \n",
      "\n",
      "\n",
      "75        ali\n",
      "85    mustafa\n",
      "80     aybuke\n",
      "dtype: object\n"
     ]
    }
   ],
   "source": [
    "isim = [\"ali\",\"mustafa\",\"aybuke\"]\n",
    "sonuclar=[75,85,80]\n",
    "print(pd.Series(isim),\"\\n\\n\") #dersek \"isim\" dekileri index mantigina göre row-column seklinde yazacaktir\n",
    "print(pd.Series(isim,sonuclar)) #tabi bunu pd.Series(data=isim, index=sonuclar) seklinde de yazabiliriz"
   ]
  },
  {
   "cell_type": "markdown",
   "id": "d9591370-f7bb-4d0b-b9ea-1b35e2ae2487",
   "metadata": {},
   "source": [
    "### NumPY ile peki"
   ]
  },
  {
   "cell_type": "code",
   "execution_count": 4,
   "id": "7cadb2f1-7539-4ebc-88ed-4190af2c9ff1",
   "metadata": {},
   "outputs": [
    {
     "name": "stdout",
     "output_type": "stream",
     "text": [
      "0     5\n",
      "1    10\n",
      "2    15\n",
      "3    20\n",
      "dtype: int64\n"
     ]
    }
   ],
   "source": [
    "arr1 = np.array([5,10,15,20]) #diyerek  tek boyutlu bir array olsun.\n",
    "print(pd.Series(arr1)) #seklinde de kullanabiliyoruz"
   ]
  },
  {
   "cell_type": "markdown",
   "id": "88d50a9e-80d7-4325-a9ac-4410a7db7f29",
   "metadata": {},
   "source": [
    "### Arithmetic ile peki"
   ]
  },
  {
   "cell_type": "markdown",
   "id": "e300804c-566b-45dd-850e-73b139275f83",
   "metadata": {},
   "source": [
    "##### toplama islemi yapabiliriz. burda eslesme olursa eger toplayip verecektir. Yok eger bulunamazsa **NAN** verecektir. Ama sonuc olarak hata vermicek. Hemen incelemeye gecelim"
   ]
  },
  {
   "cell_type": "code",
   "execution_count": 5,
   "id": "230dc4f6-89f2-4f4e-96c2-f4f819a157bf",
   "metadata": {},
   "outputs": [
    {
     "name": "stdout",
     "output_type": "stream",
     "text": [
      "70 \n",
      "\n",
      "cahide      90\n",
      "timur      110\n",
      "ersever     90\n",
      "dtype: int64\n"
     ]
    }
   ],
   "source": [
    "sinav1 = pd.Series(data=[60,65,70], index=[\"cahide\",\"timur\",\"ersever\"])\n",
    "sinav2 = pd.Series(data=[30,45,20], index=[\"cahide\",\"timur\",\"ersever\"])\n",
    "print(sinav1[\"ersever\"],\"\\n\") #diyip 'ersever'in sonucunu isteyebiliyoruz\n",
    "\n",
    "total=sinav1+sinav2 #diyip bu ikisini toplayabiliyoruz isim deger eslesmesi yaparak\n",
    "print(total)"
   ]
  },
  {
   "cell_type": "markdown",
   "id": "4a092a04-5283-447d-aebc-f9c740f44e82",
   "metadata": {},
   "source": [
    "#### peki index degerleri farkli olsaydi?"
   ]
  },
  {
   "cell_type": "code",
   "execution_count": 6,
   "id": "014bfa1d-ac77-49bf-94ed-12c2f5962629",
   "metadata": {},
   "outputs": [
    {
     "name": "stdout",
     "output_type": "stream",
     "text": [
      "a    6.0\n",
      "b    NaN\n",
      "c    9.0\n",
      "d    NaN\n",
      "f    NaN\n",
      "g    NaN\n",
      "dtype: float64\n"
     ]
    }
   ],
   "source": [
    "example1=pd.Series([1,2,3,4],[\"a\",\"b\",\"c\",\"d\"])\n",
    "example2=pd.Series([5,6,7,8],[\"a\",\"c\",\"f\",\"g\"]) #olsuun\n",
    "print(example1+example2)\n"
   ]
  },
  {
   "cell_type": "markdown",
   "id": "d24058a3-9bd3-4fe3-bbe5-1c3664870dba",
   "metadata": {},
   "source": [
    "#### sonucu incelersek;<br>1-'a' icin herhangi bir problem yok<br>2-'b' example1'de var fakat example2'de olmadigi icin Nan aliyor.<br>3-'c' example1'de 2. index, example2'de 1. index fakat her ikisinde de bulundugu icin yeri fark etmeksizin toplanmis.<br>4-'d', 'f' ve 'g' ise 'b' ile ayni durum yasiyor<br><br> __NaN__ 'i bulamadigi degerler icin verir"
   ]
  },
  {
   "cell_type": "markdown",
   "id": "3159b75b-d002-4294-9f42-bca0b420595a",
   "metadata": {},
   "source": [
    "##### aklimiza sey gelebilir: ayni indexler olmasada birlestirsin, varsa toplasin yoksa da kaybetmesin istiyoruz, bazen kaybetsin bazen kaybetmesin istiyoruz ' olabiliriz . gorecegizzz"
   ]
  },
  {
   "cell_type": "markdown",
   "id": "222f4eae-f9a7-4018-aecc-55b500ae09d8",
   "metadata": {},
   "source": [
    "# Data Frames"
   ]
  },
  {
   "cell_type": "markdown",
   "id": "07895ea7-7eec-4d36-9345-7e6cd4f1d086",
   "metadata": {},
   "source": [
    "#### iki boyutlu, etiketli bir veri yapısıdır. Tıpkı bir Excel tablosu veya SQL veritabanı tablosu gibi düşünebilirsin."
   ]
  },
  {
   "cell_type": "code",
   "execution_count": 7,
   "id": "f4b5479e-0f3b-477a-908c-20d762803534",
   "metadata": {},
   "outputs": [
    {
     "name": "stdout",
     "output_type": "stream",
     "text": [
      "[[-0.21346703 -1.44198538 -0.09717341]\n",
      " [-0.013139    0.95129473 -0.53285696]\n",
      " [ 1.75838107 -0.12501681  0.86019206]\n",
      " [-1.25712455 -0.64192621 -1.24141849]]\n"
     ]
    }
   ],
   "source": [
    "veri=np.random.randn(4,3) #seklinde olusturalim\n",
    "print(veri)\n",
    "#bu bir Datafreme dir. Series ile calismak istersek hata aliriz"
   ]
  },
  {
   "cell_type": "code",
   "execution_count": 8,
   "id": "c67e94e4-54dd-4b1f-acf8-9eb54aad92ea",
   "metadata": {},
   "outputs": [
    {
     "name": "stdout",
     "output_type": "stream",
     "text": [
      "          0         1         2\n",
      "0 -0.213467 -1.441985 -0.097173\n",
      "1 -0.013139  0.951295 -0.532857\n",
      "2  1.758381 -0.125017  0.860192\n",
      "3 -1.257125 -0.641926 -1.241418\n",
      "<class 'pandas.core.frame.DataFrame'> \n",
      "\n",
      "0   -0.213467\n",
      "1   -0.013139\n",
      "2    1.758381\n",
      "3   -1.257125\n",
      "Name: 0, dtype: float64 \n",
      "\n",
      "<class 'pandas.core.series.Series'> \n",
      "\n"
     ]
    }
   ],
   "source": [
    "#data_frame=pd.Series(veri) bu bize hata verecektir.\n",
    "data_frame=pd.DataFrame(veri)\n",
    "print(data_frame)\n",
    "print(type(data_frame),\"\\n\") #bu tipini dataFrame olarak verir\n",
    "print(data_frame[0],\"\\n\") #bu bize 0 column'unu verir\n",
    "print(type(data_frame[0]),\"\\n\") #bu ise tipini series olarak vercektir. cunku sectigimiz yer tek boyutlu."
   ]
  },
  {
   "cell_type": "markdown",
   "id": "8b963519-1f13-4df0-87df-85288f2ab9aa",
   "metadata": {},
   "source": [
    "##### indexlere ve column'lara isim verelim cunku boyle guzel durmuyor;"
   ]
  },
  {
   "cell_type": "code",
   "execution_count": 22,
   "id": "227cca7b-5420-4913-adb9-01e314852b60",
   "metadata": {},
   "outputs": [
    {
     "name": "stdout",
     "output_type": "stream",
     "text": [
      "             not      maas       boy\n",
      "ali    -0.213467 -1.441985 -0.097173\n",
      "aybuke -0.013139  0.951295 -0.532857\n",
      "catli   1.758381 -0.125017  0.860192\n",
      "pala   -1.257125 -0.641926 -1.241418\n"
     ]
    }
   ],
   "source": [
    "new_data_frame=pd.DataFrame(veri,index=[\"ali\",\"aybuke\",\"catli\",\"pala\"], columns=[\"not\",\"maas\",\"boy\"]) #index->row ismi icin, columns->column ismi icin;\n",
    "print(new_data_frame)"
   ]
  },
  {
   "cell_type": "code",
   "execution_count": 23,
   "id": "d23a9b35-9350-495f-a4c5-2b2ae38a246b",
   "metadata": {},
   "outputs": [
    {
     "name": "stdout",
     "output_type": "stream",
     "text": [
      "ali      -0.213467\n",
      "aybuke   -0.013139\n",
      "catli     1.758381\n",
      "pala     -1.257125\n",
      "Name: not, dtype: float64 \n",
      "\n",
      "             not      maas\n",
      "ali    -0.213467 -1.441985\n",
      "aybuke -0.013139  0.951295\n",
      "catli   1.758381 -0.125017\n",
      "pala   -1.257125 -0.641926 \n",
      "\n"
     ]
    }
   ],
   "source": [
    "print(new_data_frame[\"not\"],\"\\n\")#diyerek 'not' columnunu alabiliriz\n",
    "print(new_data_frame[[\"not\",\"maas\"]],\"\\n\") #seklinde list icinde list kullanarak istedigimiz kadar column'u cagirabiliriz"
   ]
  },
  {
   "cell_type": "markdown",
   "id": "dbbd2278-5aa9-4b34-815b-fe6f11b66b86",
   "metadata": {},
   "source": [
    "##### new_data_frame[\"x\"] seklinde **column** cagirabiliriz. peki row? __-new_data_frame.loc[\"x\"]__ diyerek row cagirabiliriz"
   ]
  },
  {
   "cell_type": "code",
   "execution_count": 24,
   "id": "09920abc-ab30-4824-8029-853a8f15125b",
   "metadata": {},
   "outputs": [
    {
     "name": "stdout",
     "output_type": "stream",
     "text": [
      "not    -0.213467\n",
      "maas   -1.441985\n",
      "boy    -0.097173\n",
      "Name: ali, dtype: float64 \n",
      "\n",
      "not    -0.213467\n",
      "maas   -1.441985\n",
      "boy    -0.097173\n",
      "Name: ali, dtype: float64 \n",
      "\n",
      "not    -0.013139\n",
      "maas    0.951295\n",
      "boy    -0.532857\n",
      "Name: aybuke, dtype: float64 \n",
      "\n"
     ]
    }
   ],
   "source": [
    "print(new_data_frame.loc[\"ali\"],\"\\n\") #goruldugu uzere 'ali'e ait bilgileri getirir\n",
    "print(new_data_frame.iloc[0],\"\\n\") #yani column locationu index degeri ne ise bu sekilde de cagirabiliriz. \n",
    "print(new_data_frame.iloc[1],\"\\n\") "
   ]
  },
  {
   "cell_type": "markdown",
   "id": "1a50b2df-01fd-491f-85e1-da71de04940f",
   "metadata": {},
   "source": [
    "##### __iloc[:,x]__ kullanimi:<br>1-':' butun row'ari sec demek<br>2-hangi index'deki column almak istersek yazabiliriz "
   ]
  },
  {
   "cell_type": "code",
   "execution_count": 25,
   "id": "e00e9722-a5b2-42a2-9bdc-a04f7fa5cfcc",
   "metadata": {},
   "outputs": [
    {
     "name": "stdout",
     "output_type": "stream",
     "text": [
      "ali      -0.213467\n",
      "aybuke   -0.013139\n",
      "catli     1.758381\n",
      "pala     -1.257125\n",
      "Name: not, dtype: float64\n"
     ]
    }
   ],
   "source": [
    "print(new_data_frame.iloc[:,0])#mesela ornek kullanimi\n"
   ]
  },
  {
   "cell_type": "markdown",
   "id": "a2b15d48-3a13-4a55-9f01-c72bd74cbc59",
   "metadata": {},
   "source": [
    "## Data Manipulasyonu"
   ]
  },
  {
   "cell_type": "markdown",
   "id": "2b613d71-d242-41d3-af77-6a414e08d12c",
   "metadata": {},
   "source": [
    "##### simdi normalde __new_data_frame[\"not\"]__ yapip 'name' column'unu cagirabilirim.<br> Ama new_data_frame[\"plus\"] dersem nolcak. Normalde 'plus' column'u olmadigi icin bunu eklicek __column__ olarak<br> Hatta buna herkese esit gelcek sekilde deger de verebiliriz--> __new_data_frame[\"plus\"]=8__ mesela"
   ]
  },
  {
   "cell_type": "code",
   "execution_count": 26,
   "id": "f84e8b19-e391-4131-9ba8-981fc29c5b0d",
   "metadata": {},
   "outputs": [
    {
     "data": {
      "text/plain": [
       "ali      -0.213467\n",
       "aybuke   -0.013139\n",
       "catli     1.758381\n",
       "pala     -1.257125\n",
       "Name: not, dtype: float64"
      ]
     },
     "execution_count": 26,
     "metadata": {},
     "output_type": "execute_result"
    }
   ],
   "source": [
    "new_data_frame[\"not\"]"
   ]
  },
  {
   "cell_type": "code",
   "execution_count": 27,
   "id": "620f8340-32f1-4c4e-adf3-478cda808f4f",
   "metadata": {},
   "outputs": [
    {
     "name": "stdout",
     "output_type": "stream",
     "text": [
      "             not      maas       boy  extra\n",
      "ali    -0.213467 -1.441985 -0.097173      8\n",
      "aybuke -0.013139  0.951295 -0.532857      8\n",
      "catli   1.758381 -0.125017  0.860192      8\n",
      "pala   -1.257125 -0.641926 -1.241418      8\n"
     ]
    }
   ],
   "source": [
    "new_data_frame[\"extra\"]=8\n",
    "print(new_data_frame)"
   ]
  },
  {
   "cell_type": "markdown",
   "id": "43688479-7b34-4f2b-99b7-947269255118",
   "metadata": {},
   "source": [
    "##### simdi belli bir column'u silmek icin __new_data_frame.drop(\"extra\",axis=1,  )__ deriz. Nedir bu axis?<br>Normal bir sekilde aslinda **row icin axis=0, column icin axis=1**'dir. Yani matematikde eksen mantigi gibi.<br><br>bu __.drop()__ fonksiyonunu cagirirken default olarak __axis=0__ dir. Yani diyelim ki ayni ada sahip hem row hem de column var. Eger sen __axis'i__ belirtmeden cagirirsan foknsiyonu default degerinden dolayi __row'dakini__ silecektir "
   ]
  },
  {
   "cell_type": "code",
   "execution_count": 28,
   "id": "61385ebf-e4ba-4ac2-89f2-198294a79b25",
   "metadata": {},
   "outputs": [
    {
     "name": "stdout",
     "output_type": "stream",
     "text": [
      "             not      maas       boy\n",
      "ali    -0.213467 -1.441985 -0.097173\n",
      "aybuke -0.013139  0.951295 -0.532857\n",
      "catli   1.758381 -0.125017  0.860192\n",
      "pala   -1.257125 -0.641926 -1.241418\n"
     ]
    }
   ],
   "source": [
    "new_data_frame=new_data_frame.drop(\"extra\", axis=1) #diyebilir ya da \n",
    "#new_data_frame.dro(\"extra\", axis=1, inplace=True) -->bunu icerisinde yaptirmasini saglar.\n",
    "print(new_data_frame) #goruldugu uzere 'extra' column'u gitti"
   ]
  },
  {
   "cell_type": "markdown",
   "id": "61ee973b-a41f-4a08-a6f1-d3ad586c9997",
   "metadata": {},
   "source": [
    "##### peki ben __row_column__ eslesmesi yaparak yani diyelim ki __ali'nin notu'nu görmek istiyorsam__ nne yapacagim demi.."
   ]
  },
  {
   "cell_type": "code",
   "execution_count": 34,
   "id": "ffd5b384-a771-426b-9874-6c481587937e",
   "metadata": {},
   "outputs": [
    {
     "name": "stdout",
     "output_type": "stream",
     "text": [
      "-0.21346702597962033 \n",
      "\n",
      "-0.01313899834337245\n"
     ]
    }
   ],
   "source": [
    "print(new_data_frame.loc[\"ali\"][\"not\"],\"\\n\") # ya da sey diyebilirim;\n",
    "print(new_data_frame.loc[\"aybuke\",\"not\"])\n",
    "\n",
    "#yani ya yan yana koseli ayri parantezlerle ya da ayni koseli parantez icinde ',' ile ayrilmis sekilde"
   ]
  },
  {
   "cell_type": "markdown",
   "id": "17321ae8-0564-4740-abf5-ae95387ce9e9",
   "metadata": {},
   "source": [
    "##### peki bu sekilde degerini degistirebilir miyiz? Tabi ki :)"
   ]
  },
  {
   "cell_type": "code",
   "execution_count": 37,
   "id": "1ba5dcb7-a649-4360-9f9e-de92737478e0",
   "metadata": {},
   "outputs": [
    {
     "name": "stdout",
     "output_type": "stream",
     "text": [
      "50.0\n",
      "             not       maas       boy\n",
      "ali    -0.213467  -1.441985 -0.097173\n",
      "aybuke -0.013139  50.000000 -0.532857\n",
      "catli   1.758381  -0.125017  0.860192\n",
      "pala   -1.257125  -0.641926 -1.241418\n"
     ]
    }
   ],
   "source": [
    "new_data_frame.loc[\"aybuke\",\"maas\"]=50\n",
    "print(new_data_frame.loc[\"aybuke\",\"maas\"])\n",
    "print(new_data_frame)"
   ]
  },
  {
   "cell_type": "markdown",
   "id": "a0ec40ec-ce4d-452c-aef2-d757caa8b1ba",
   "metadata": {},
   "source": [
    "#### filtreleme islemleri de yapilabilir"
   ]
  },
  {
   "cell_type": "code",
   "execution_count": 40,
   "id": "f14539d5-8675-498e-b7dd-c68cc9af0d01",
   "metadata": {},
   "outputs": [
    {
     "name": "stdout",
     "output_type": "stream",
     "text": [
      "          not   maas    boy\n",
      "ali     False  False  False\n",
      "aybuke  False   True  False\n",
      "catli    True  False   True\n",
      "pala    False  False  False\n",
      "             not  maas       boy\n",
      "ali          NaN   NaN       NaN\n",
      "aybuke       NaN  50.0       NaN\n",
      "catli   1.758381   NaN  0.860192\n",
      "pala         NaN   NaN       NaN\n",
      "             not       maas       boy\n",
      "ali    -0.213467  -1.441985 -0.097173\n",
      "aybuke -0.013139  50.000000 -0.532857\n",
      "pala   -1.257125  -0.641926 -1.241418\n"
     ]
    }
   ],
   "source": [
    "print(new_data_frame>0)\n",
    "print(new_data_frame[new_data_frame>0])\n",
    "print(new_data_frame[new_data_frame[\"not\"]<0])"
   ]
  },
  {
   "cell_type": "markdown",
   "id": "87cb0379-5220-4f01-9dbb-3fde76792efb",
   "metadata": {},
   "source": [
    "## Index Mantigi"
   ]
  },
  {
   "cell_type": "markdown",
   "id": "dee2bb06-a221-4e04-aa39-d5c12b352d06",
   "metadata": {},
   "source": [
    "##### bazen index'ler icin 0,1,2,3... gibi gitmesi bizim icin daha mantikli olabilir.<br> __new_data_frame.reset_index()__ dersek 0,1,2,3 diye atayacaktir index'i ve bizim isimlerden olusan index'ler icin __'index' adinda column__ acacaktir"
   ]
  },
  {
   "cell_type": "code",
   "execution_count": 42,
   "id": "716bfbef-de10-416e-aa5d-30f07cb2d1cc",
   "metadata": {},
   "outputs": [
    {
     "name": "stdout",
     "output_type": "stream",
     "text": [
      "    index       not       maas       boy\n",
      "0     ali -0.213467  -1.441985 -0.097173\n",
      "1  aybuke -0.013139  50.000000 -0.532857\n",
      "2   catli  1.758381  -0.125017  0.860192\n",
      "3    pala -1.257125  -0.641926 -1.241418\n"
     ]
    }
   ],
   "source": [
    "print(new_data_frame.reset_index())#goruldugu uzere boyle bisi olr"
   ]
  },
  {
   "cell_type": "code",
   "execution_count": 45,
   "id": "d3cc22eb-a61f-4ac6-bd7c-f6d7917e187b",
   "metadata": {},
   "outputs": [
    {
     "name": "stdout",
     "output_type": "stream",
     "text": [
      "index         ali\n",
      "not     -0.213467\n",
      "maas    -1.441985\n",
      "boy     -0.097173\n",
      "Name: 0, dtype: object\n"
     ]
    }
   ],
   "source": [
    "reset_df=new_data_frame.reset_index() #diyelim\n",
    "#print(reset_df.loc[\"ali\"]) dersek bize hata verecektir cunku artık index mantigina göre buraya 0 yazmaliyiz\n",
    "print(reset_df.loc[0]) #diyerek cagirabiliriz artik cunku index degisti!"
   ]
  },
  {
   "cell_type": "markdown",
   "id": "1d4774d4-4244-40ca-989e-b13373a17954",
   "metadata": {},
   "source": [
    "##### biz index'i degistirmek isteye de biliriz"
   ]
  },
  {
   "cell_type": "code",
   "execution_count": 53,
   "id": "87512676-9129-433f-9de8-eada82835b58",
   "metadata": {},
   "outputs": [
    {
     "name": "stdout",
     "output_type": "stream",
     "text": [
      "                not       maas       boy yeniIndex\n",
      "yeniIndex                                         \n",
      "ila       -0.213467  -1.441985 -0.097173       ila\n",
      "ekubya    -0.013139  50.000000 -0.532857    ekubya\n",
      "iltac      1.758381  -0.125017  0.860192     iltac\n",
      "alap      -1.257125  -0.641926 -1.241418      alap\n"
     ]
    }
   ],
   "source": [
    "yeni_indexler=[\"ila\",\"ekubya\",\"iltac\",\"alap\"]\n",
    "new_data_frame[\"yeniIndex\"]=yeni_indexler #diyip yeni column eklerim ve icerisine bu degerleri koyarim\n",
    "print(new_data_frame)"
   ]
  },
  {
   "cell_type": "code",
   "execution_count": 54,
   "id": "e65a7bc9-a57b-42ad-925a-f44ab8b19b2f",
   "metadata": {},
   "outputs": [
    {
     "name": "stdout",
     "output_type": "stream",
     "text": [
      "                not       maas       boy\n",
      "yeniIndex                               \n",
      "ila       -0.213467  -1.441985 -0.097173\n",
      "ekubya    -0.013139  50.000000 -0.532857\n",
      "iltac      1.758381  -0.125017  0.860192\n",
      "alap      -1.257125  -0.641926 -1.241418 \n",
      "\n",
      "not    -0.213467\n",
      "maas   -1.441985\n",
      "boy    -0.097173\n",
      "Name: ila, dtype: float64\n"
     ]
    }
   ],
   "source": [
    "new_data_frame.set_index(\"yeniIndex\", inplace=True) #deyip yapabilirim\n",
    "print(new_data_frame,\"\\n\")\n",
    "print(new_data_frame.loc[\"ila\"])"
   ]
  },
  {
   "cell_type": "markdown",
   "id": "12188ddd-1fd9-4480-b4ad-9620b8e7dc70",
   "metadata": {},
   "source": [
    "## Multi Index"
   ]
  },
  {
   "cell_type": "code",
   "execution_count": 59,
   "id": "324aad9c-d13c-469c-b0c2-11ccf1ddad48",
   "metadata": {},
   "outputs": [],
   "source": [
    "index1=[\"atal\",\"atal\",\"atal\",\"aybu\",\"aybu\",\"aybu\"]\n",
    "index2=[\"ali\",\"ahmet\",\"habibe\",\"mustafa\",\"fatih\",\"sabit\"]\n",
    "ziplenmis=list(zip(index1,index2))\n"
   ]
  },
  {
   "cell_type": "markdown",
   "id": "a8a37cf3-7584-44d9-bdb4-a2706ee14a18",
   "metadata": {},
   "source": [
    "###### biz bunlardan data_frame olusturmak istiyoruz. Tabi Multi index yani gruplanmis index seklinde istiyoruz"
   ]
  },
  {
   "cell_type": "code",
   "execution_count": 60,
   "id": "8cd183e9-b7ca-404c-b499-39280b690e1e",
   "metadata": {},
   "outputs": [
    {
     "name": "stdout",
     "output_type": "stream",
     "text": [
      "[('atal', 'ali'), ('atal', 'ahmet'), ('atal', 'habibe'), ('aybu', 'mustafa'), ('aybu', 'fatih'), ('aybu', 'sabit')]\n"
     ]
    }
   ],
   "source": [
    "print(ziplenmis)"
   ]
  },
  {
   "cell_type": "code",
   "execution_count": 62,
   "id": "bfa2bce5-790a-450b-8671-7f4ec241dad4",
   "metadata": {},
   "outputs": [],
   "source": [
    "ziplenmis=pd.MultiIndex.from_tuples(ziplenmis) #diyerek multi index haline getirelim\n",
    "ornek_degerler=np.zeros((6,2)) #bu boyut belirlerken ziplenmis'in boyutuna gore uycak sekilde vermelisin"
   ]
  },
  {
   "cell_type": "code",
   "execution_count": 64,
   "id": "a6f10811-bc35-44bd-ab7b-42fabe14daf4",
   "metadata": {},
   "outputs": [
    {
     "name": "stdout",
     "output_type": "stream",
     "text": [
      "              yas  salary\n",
      "atal ali      0.0     0.0\n",
      "     ahmet    0.0     0.0\n",
      "     habibe   0.0     0.0\n",
      "aybu mustafa  0.0     0.0\n",
      "     fatih    0.0     0.0\n",
      "     sabit    0.0     0.0\n"
     ]
    }
   ],
   "source": [
    "big_data_frame=pd.DataFrame(ornek_degerler, index=ziplenmis, columns=[\"yas\",\"salary\"])\n",
    "print(big_data_frame)"
   ]
  },
  {
   "cell_type": "markdown",
   "id": "cf4a14ce-e202-43d5-8026-36ef614abd74",
   "metadata": {},
   "source": [
    "##### burda __print(big_data_frame.loc[\"ali\"])__ diyemeyiz!!! cunku o __index'in index'i__. <br> sey diyebiliriz __print(big_data_frame.loc[\"atal\"])__ <br> 'ali' yi cagirmak istersek eger, __print(big_data_frame.loc[\"ali\"].loc[\"ali\"])__ diyebilirim"
   ]
  },
  {
   "cell_type": "code",
   "execution_count": 65,
   "id": "20947d16-74bd-4fc2-be94-03fac1c0c629",
   "metadata": {},
   "outputs": [
    {
     "name": "stdout",
     "output_type": "stream",
     "text": [
      "        yas  salary\n",
      "ali     0.0     0.0\n",
      "ahmet   0.0     0.0\n",
      "habibe  0.0     0.0 \n",
      "\n",
      "yas       0.0\n",
      "salary    0.0\n",
      "Name: ali, dtype: float64\n"
     ]
    }
   ],
   "source": [
    "print(big_data_frame.loc[\"atal\"],\"\\n\")\n",
    "print(big_data_frame.loc[\"atal\"].loc[\"ali\"])"
   ]
  },
  {
   "cell_type": "code",
   "execution_count": null,
   "id": "312058fc-6b36-410b-b940-cae4ba626845",
   "metadata": {},
   "outputs": [],
   "source": []
  }
 ],
 "metadata": {
  "kernelspec": {
   "display_name": "Python [conda env:base] *",
   "language": "python",
   "name": "conda-base-py"
  },
  "language_info": {
   "codemirror_mode": {
    "name": "ipython",
    "version": 3
   },
   "file_extension": ".py",
   "mimetype": "text/x-python",
   "name": "python",
   "nbconvert_exporter": "python",
   "pygments_lexer": "ipython3",
   "version": "3.13.5"
  }
 },
 "nbformat": 4,
 "nbformat_minor": 5
}
